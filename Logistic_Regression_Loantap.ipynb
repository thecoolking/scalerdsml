{
 "cells": [
  {
   "cell_type": "code",
   "execution_count": 1,
   "id": "0279f3bf",
   "metadata": {},
   "outputs": [
    {
     "name": "stdout",
     "output_type": "stream",
     "text": [
      "Requirement already satisfied: notebook-as-pdf in c:\\users\\narsingha.addepalli\\anaconda3\\lib\\site-packages (0.5.0)\n",
      "Requirement already satisfied: PyPDF2 in c:\\users\\narsingha.addepalli\\anaconda3\\lib\\site-packages (from notebook-as-pdf) (3.0.1)\n",
      "Requirement already satisfied: pyppeteer in c:\\users\\narsingha.addepalli\\anaconda3\\lib\\site-packages (from notebook-as-pdf) (2.0.0)\n",
      "Requirement already satisfied: nbconvert in c:\\users\\narsingha.addepalli\\anaconda3\\lib\\site-packages (from notebook-as-pdf) (6.1.0)\n",
      "Requirement already satisfied: bleach in c:\\users\\narsingha.addepalli\\anaconda3\\lib\\site-packages (from nbconvert->notebook-as-pdf) (4.0.0)\n",
      "Requirement already satisfied: jupyter-core in c:\\users\\narsingha.addepalli\\anaconda3\\lib\\site-packages (from nbconvert->notebook-as-pdf) (4.8.1)\n",
      "Requirement already satisfied: nbclient<0.6.0,>=0.5.0 in c:\\users\\narsingha.addepalli\\anaconda3\\lib\\site-packages (from nbconvert->notebook-as-pdf) (0.5.3)\n",
      "Requirement already satisfied: jupyterlab-pygments in c:\\users\\narsingha.addepalli\\anaconda3\\lib\\site-packages (from nbconvert->notebook-as-pdf) (0.1.2)\n",
      "Requirement already satisfied: pygments>=2.4.1 in c:\\users\\narsingha.addepalli\\anaconda3\\lib\\site-packages (from nbconvert->notebook-as-pdf) (2.10.0)\n",
      "Requirement already satisfied: testpath in c:\\users\\narsingha.addepalli\\anaconda3\\lib\\site-packages (from nbconvert->notebook-as-pdf) (0.5.0)\n",
      "Requirement already satisfied: nbformat>=4.4 in c:\\users\\narsingha.addepalli\\anaconda3\\lib\\site-packages (from nbconvert->notebook-as-pdf) (5.1.3)\n",
      "Requirement already satisfied: mistune<2,>=0.8.1 in c:\\users\\narsingha.addepalli\\anaconda3\\lib\\site-packages (from nbconvert->notebook-as-pdf) (0.8.4)\n",
      "Requirement already satisfied: pandocfilters>=1.4.1 in c:\\users\\narsingha.addepalli\\anaconda3\\lib\\site-packages (from nbconvert->notebook-as-pdf) (1.4.3)\n",
      "Requirement already satisfied: defusedxml in c:\\users\\narsingha.addepalli\\anaconda3\\lib\\site-packages (from nbconvert->notebook-as-pdf) (0.7.1)\n",
      "Requirement already satisfied: traitlets>=5.0 in c:\\users\\narsingha.addepalli\\anaconda3\\lib\\site-packages (from nbconvert->notebook-as-pdf) (5.1.0)\n",
      "Requirement already satisfied: jinja2>=2.4 in c:\\users\\narsingha.addepalli\\anaconda3\\lib\\site-packages (from nbconvert->notebook-as-pdf) (2.11.3)\n",
      "Requirement already satisfied: entrypoints>=0.2.2 in c:\\users\\narsingha.addepalli\\anaconda3\\lib\\site-packages (from nbconvert->notebook-as-pdf) (0.3)\n",
      "Requirement already satisfied: MarkupSafe>=0.23 in c:\\users\\narsingha.addepalli\\anaconda3\\lib\\site-packages (from jinja2>=2.4->nbconvert->notebook-as-pdf) (1.1.1)\n",
      "Requirement already satisfied: async-generator in c:\\users\\narsingha.addepalli\\anaconda3\\lib\\site-packages (from nbclient<0.6.0,>=0.5.0->nbconvert->notebook-as-pdf) (1.10)\n",
      "Requirement already satisfied: nest-asyncio in c:\\users\\narsingha.addepalli\\anaconda3\\lib\\site-packages (from nbclient<0.6.0,>=0.5.0->nbconvert->notebook-as-pdf) (1.6.0)\n",
      "Requirement already satisfied: jupyter-client>=6.1.5 in c:\\users\\narsingha.addepalli\\anaconda3\\lib\\site-packages (from nbclient<0.6.0,>=0.5.0->nbconvert->notebook-as-pdf) (6.1.12)\n",
      "Requirement already satisfied: tornado>=4.1 in c:\\users\\narsingha.addepalli\\anaconda3\\lib\\site-packages (from jupyter-client>=6.1.5->nbclient<0.6.0,>=0.5.0->nbconvert->notebook-as-pdf) (6.1)\n",
      "Requirement already satisfied: pyzmq>=13 in c:\\users\\narsingha.addepalli\\anaconda3\\lib\\site-packages (from jupyter-client>=6.1.5->nbclient<0.6.0,>=0.5.0->nbconvert->notebook-as-pdf) (22.2.1)\n",
      "Requirement already satisfied: python-dateutil>=2.1 in c:\\users\\narsingha.addepalli\\anaconda3\\lib\\site-packages (from jupyter-client>=6.1.5->nbclient<0.6.0,>=0.5.0->nbconvert->notebook-as-pdf) (2.8.2)\n",
      "Requirement already satisfied: pywin32>=1.0 in c:\\users\\narsingha.addepalli\\anaconda3\\lib\\site-packages (from jupyter-core->nbconvert->notebook-as-pdf) (228)\n",
      "Requirement already satisfied: ipython-genutils in c:\\users\\narsingha.addepalli\\anaconda3\\lib\\site-packages (from nbformat>=4.4->nbconvert->notebook-as-pdf) (0.2.0)\n",
      "Requirement already satisfied: jsonschema!=2.5.0,>=2.4 in c:\\users\\narsingha.addepalli\\anaconda3\\lib\\site-packages (from nbformat>=4.4->nbconvert->notebook-as-pdf) (3.2.0)\n",
      "Requirement already satisfied: setuptools in c:\\users\\narsingha.addepalli\\anaconda3\\lib\\site-packages (from jsonschema!=2.5.0,>=2.4->nbformat>=4.4->nbconvert->notebook-as-pdf) (58.0.4)\n",
      "Requirement already satisfied: six>=1.11.0 in c:\\users\\narsingha.addepalli\\anaconda3\\lib\\site-packages (from jsonschema!=2.5.0,>=2.4->nbformat>=4.4->nbconvert->notebook-as-pdf) (1.16.0)\n",
      "Requirement already satisfied: pyrsistent>=0.14.0 in c:\\users\\narsingha.addepalli\\anaconda3\\lib\\site-packages (from jsonschema!=2.5.0,>=2.4->nbformat>=4.4->nbconvert->notebook-as-pdf) (0.18.0)\n",
      "Requirement already satisfied: attrs>=17.4.0 in c:\\users\\narsingha.addepalli\\anaconda3\\lib\\site-packages (from jsonschema!=2.5.0,>=2.4->nbformat>=4.4->nbconvert->notebook-as-pdf) (21.2.0)\n",
      "Requirement already satisfied: webencodings in c:\\users\\narsingha.addepalli\\anaconda3\\lib\\site-packages (from bleach->nbconvert->notebook-as-pdf) (0.5.1)\n",
      "Requirement already satisfied: packaging in c:\\users\\narsingha.addepalli\\anaconda3\\lib\\site-packages (from bleach->nbconvert->notebook-as-pdf) (21.0)\n",
      "Requirement already satisfied: pyparsing>=2.0.2 in c:\\users\\narsingha.addepalli\\anaconda3\\lib\\site-packages (from packaging->bleach->nbconvert->notebook-as-pdf) (3.0.4)\n",
      "Requirement already satisfied: typing_extensions>=3.10.0.0 in c:\\users\\narsingha.addepalli\\anaconda3\\lib\\site-packages (from PyPDF2->notebook-as-pdf) (4.10.0)\n",
      "Requirement already satisfied: appdirs<2.0.0,>=1.4.3 in c:\\users\\narsingha.addepalli\\anaconda3\\lib\\site-packages (from pyppeteer->notebook-as-pdf) (1.4.4)\n",
      "Requirement already satisfied: websockets<11.0,>=10.0 in c:\\users\\narsingha.addepalli\\anaconda3\\lib\\site-packages (from pyppeteer->notebook-as-pdf) (10.4)\n",
      "Requirement already satisfied: importlib-metadata>=1.4 in c:\\users\\narsingha.addepalli\\anaconda3\\lib\\site-packages (from pyppeteer->notebook-as-pdf) (6.11.0)\n",
      "Requirement already satisfied: tqdm<5.0.0,>=4.42.1 in c:\\users\\narsingha.addepalli\\anaconda3\\lib\\site-packages (from pyppeteer->notebook-as-pdf) (4.66.2)\n",
      "Requirement already satisfied: urllib3<2.0.0,>=1.25.8 in c:\\users\\narsingha.addepalli\\anaconda3\\lib\\site-packages (from pyppeteer->notebook-as-pdf) (1.26.7)\n",
      "Requirement already satisfied: certifi>=2023 in c:\\users\\narsingha.addepalli\\anaconda3\\lib\\site-packages (from pyppeteer->notebook-as-pdf) (2024.2.2)\n",
      "Requirement already satisfied: pyee<12.0.0,>=11.0.0 in c:\\users\\narsingha.addepalli\\anaconda3\\lib\\site-packages (from pyppeteer->notebook-as-pdf) (11.1.0)\n",
      "Requirement already satisfied: zipp>=0.5 in c:\\users\\narsingha.addepalli\\anaconda3\\lib\\site-packages (from importlib-metadata>=1.4->pyppeteer->notebook-as-pdf) (3.6.0)\n",
      "Requirement already satisfied: colorama in c:\\users\\narsingha.addepalli\\anaconda3\\lib\\site-packages (from tqdm<5.0.0,>=4.42.1->pyppeteer->notebook-as-pdf) (0.4.4)\n"
     ]
    }
   ],
   "source": [
    "!pip install -U notebook-as-pdf"
   ]
  },
  {
   "cell_type": "code",
   "execution_count": 6,
   "id": "b4cfda1e",
   "metadata": {},
   "outputs": [
    {
     "name": "stdout",
     "output_type": "stream",
     "text": [
      "Requirement already satisfied: pyppeteer in c:\\users\\narsingha.addepalli\\anaconda3\\lib\\site-packages (2.0.0)\n",
      "Requirement already satisfied: appdirs<2.0.0,>=1.4.3 in c:\\users\\narsingha.addepalli\\anaconda3\\lib\\site-packages (from pyppeteer) (1.4.4)\n",
      "Requirement already satisfied: certifi>=2023 in c:\\users\\narsingha.addepalli\\anaconda3\\lib\\site-packages (from pyppeteer) (2024.2.2)\n",
      "Requirement already satisfied: pyee<12.0.0,>=11.0.0 in c:\\users\\narsingha.addepalli\\anaconda3\\lib\\site-packages (from pyppeteer) (11.1.0)\n",
      "Requirement already satisfied: urllib3<2.0.0,>=1.25.8 in c:\\users\\narsingha.addepalli\\anaconda3\\lib\\site-packages (from pyppeteer) (1.26.7)\n",
      "Requirement already satisfied: websockets<11.0,>=10.0 in c:\\users\\narsingha.addepalli\\anaconda3\\lib\\site-packages (from pyppeteer) (10.4)\n",
      "Requirement already satisfied: importlib-metadata>=1.4 in c:\\users\\narsingha.addepalli\\anaconda3\\lib\\site-packages (from pyppeteer) (6.11.0)\n",
      "Requirement already satisfied: tqdm<5.0.0,>=4.42.1 in c:\\users\\narsingha.addepalli\\anaconda3\\lib\\site-packages (from pyppeteer) (4.66.2)\n",
      "Requirement already satisfied: zipp>=0.5 in c:\\users\\narsingha.addepalli\\anaconda3\\lib\\site-packages (from importlib-metadata>=1.4->pyppeteer) (3.6.0)\n",
      "Requirement already satisfied: typing-extensions in c:\\users\\narsingha.addepalli\\anaconda3\\lib\\site-packages (from pyee<12.0.0,>=11.0.0->pyppeteer) (4.10.0)\n",
      "Requirement already satisfied: colorama in c:\\users\\narsingha.addepalli\\anaconda3\\lib\\site-packages (from tqdm<5.0.0,>=4.42.1->pyppeteer) (0.4.4)\n"
     ]
    }
   ],
   "source": [
    "#!pyppeteer-install\n",
    "!pip install pyppeteer"
   ]
  },
  {
   "cell_type": "code",
   "execution_count": null,
   "id": "18e72ebb",
   "metadata": {},
   "outputs": [],
   "source": [
    "!pip uninstall pandoc"
   ]
  },
  {
   "cell_type": "code",
   "execution_count": null,
   "id": "57acd203",
   "metadata": {},
   "outputs": [],
   "source": [
    "import pandas as pd\n",
    "import numpy as np\n",
    "import matplotlib.pyplot as mpl\n",
    "import sklearn\n",
    "from sklearn.preprocessing import LabelEncoder, StandardScaler\n",
    "from sklearn.model_selection import train_test_split\n",
    "from sklearn.linear_model import LogisticRegression\n",
    "from sklearn.metrics import accuracy_score, classification_report, confusion_matrix, roc_curve, auc"
   ]
  },
  {
   "cell_type": "markdown",
   "id": "a8171d2e",
   "metadata": {},
   "source": [
    "Exploratory Data Analysis"
   ]
  },
  {
   "cell_type": "code",
   "execution_count": null,
   "id": "562a4aac",
   "metadata": {},
   "outputs": [],
   "source": [
    "loantap=pd.read_csv(r'C:\\Users\\Narsingha.Addepalli\\OneDrive - Neudesic\\Learning\\scaler\\businesscase\\logistic_regression.csv')"
   ]
  },
  {
   "cell_type": "code",
   "execution_count": null,
   "id": "e3d4ab1e",
   "metadata": {},
   "outputs": [],
   "source": [
    "loantap.info()"
   ]
  },
  {
   "cell_type": "code",
   "execution_count": null,
   "id": "b923bb59",
   "metadata": {},
   "outputs": [],
   "source": [
    "loantap.describe()"
   ]
  },
  {
   "cell_type": "code",
   "execution_count": null,
   "id": "bdfb085f",
   "metadata": {},
   "outputs": [],
   "source": [
    "def simpleeda1(inputdf):\n",
    "    for x in inputdf.columns:\n",
    "        print(x,len(inputdf[x]),type(inputdf[x]),type(inputdf[x][0]))\n",
    "        print(inputdf[x].value_counts())\n",
    "simpleeda1(loantap)"
   ]
  },
  {
   "cell_type": "code",
   "execution_count": null,
   "id": "d67b6a13",
   "metadata": {},
   "outputs": [],
   "source": [
    "#Simple EDA to check distribution of integer columns\n",
    "def simpleeda(inputdf):\n",
    "    for x in inputdf.columns:\n",
    "        print(x,len(inputdf[x]),type(inputdf[x]),type(inputdf[x][0]))\n",
    "#         if type(inputdf[x][0])=='int' or type(inputdf[x][0])=='float64':\n",
    "        if inputdf.dtypes[x]=='int':\n",
    "            mpl.hist(inputdf[x],bins=10,histtype='bar')\n",
    "            mpl.show()\n",
    "        elif inputdf.dtypes[x]=='float':\n",
    "            mpl.plot(inputdf[x])\n",
    "            mpl.show()\n",
    "        else:\n",
    "            print(\"column is of type\",inputdf.dtypes[x])\n",
    "#             mpl.title(\"histogram\")\n",
    "#             mpl.xlabel(\"bin number\")\n",
    "#             mpl.ylabel(\"values\")\n",
    "#             mpl.show()\n",
    "simpleeda(loantap)"
   ]
  },
  {
   "cell_type": "markdown",
   "id": "f7de4de8",
   "metadata": {},
   "source": [
    "Several outliers show up in the above Charts"
   ]
  },
  {
   "cell_type": "markdown",
   "id": "323b1848",
   "metadata": {},
   "source": [
    "So Lets do some data cleansing"
   ]
  },
  {
   "cell_type": "code",
   "execution_count": null,
   "id": "04667ece",
   "metadata": {},
   "outputs": [],
   "source": [
    "loantap_clean=loantap[loantap['dti']<1000.0]"
   ]
  },
  {
   "cell_type": "code",
   "execution_count": null,
   "id": "e7cd61b2",
   "metadata": {},
   "outputs": [],
   "source": [
    "mpl.hist(loantap_clean['dti'],bins=10,histtype='bar')\n",
    "mpl.show()"
   ]
  },
  {
   "cell_type": "markdown",
   "id": "ef5d1d89",
   "metadata": {},
   "source": [
    "Find correlation"
   ]
  },
  {
   "cell_type": "code",
   "execution_count": null,
   "id": "92e7fb31",
   "metadata": {},
   "outputs": [],
   "source": [
    "correlation_matrix = loantap_clean.corr()\n",
    "print(correlation_matrix)"
   ]
  },
  {
   "cell_type": "markdown",
   "id": "1aa86fdb",
   "metadata": {},
   "source": [
    "Feature Engineering"
   ]
  },
  {
   "cell_type": "code",
   "execution_count": null,
   "id": "bd9bf477",
   "metadata": {},
   "outputs": [],
   "source": [
    "loantap_clean.loc[loantap_clean['pub_rec'] >1.0, 'pub_rec'] =1"
   ]
  },
  {
   "cell_type": "code",
   "execution_count": null,
   "id": "b9b58ac0",
   "metadata": {},
   "outputs": [],
   "source": [
    "loantap_clean.loc[loantap_clean['mort_acc'] >1.0, 'mort_acc'] =1"
   ]
  },
  {
   "cell_type": "code",
   "execution_count": null,
   "id": "6894ca8f",
   "metadata": {},
   "outputs": [],
   "source": [
    "loantap_clean.loc[loantap_clean['pub_rec_bankruptcies'] >1.0, 'pub_rec_bankruptcies'] =1"
   ]
  },
  {
   "cell_type": "markdown",
   "id": "03b998e4",
   "metadata": {},
   "source": [
    "Handle missing values"
   ]
  },
  {
   "cell_type": "code",
   "execution_count": null,
   "id": "f9a6df2c",
   "metadata": {},
   "outputs": [],
   "source": [
    "# Handle missing values (assuming fill with median for demonstration)\n",
    "#loantap_clean.fillna(0, inplace=True)\n",
    "\n",
    "#Simple EDA to check distribution of integer columns\n",
    "def replacemissing(inputdf):\n",
    "    for x in inputdf.columns:\n",
    "        print(x,len(inputdf[x]),type(inputdf[x]),type(inputdf[x][0]))\n",
    "        if type(inputdf[x][0])=='int' or type(inputdf[x][0])=='float64':\n",
    "            input_df.loc[inputdf[x]==NaN,x] =1\n",
    "        else:\n",
    "            print(\"column is of type\",inputdf.dtypes[x])\n",
    "#             mpl.title(\"histogram\")\n",
    "#             mpl.xlabel(\"bin number\")\n",
    "#             mpl.ylabel(\"values\")\n",
    "#             mpl.show()\n",
    "replacemissing(loantap_clean)"
   ]
  },
  {
   "cell_type": "markdown",
   "id": "1fc61bae",
   "metadata": {},
   "source": [
    "Split the model into train and test datasets"
   ]
  },
  {
   "cell_type": "code",
   "execution_count": null,
   "id": "5157d202",
   "metadata": {},
   "outputs": [],
   "source": [
    "# Split the data into training and testing sets\n",
    "#X_train, X_test, y_train, y_test = train_test_split(loantap_clean['loan_amnt','int_rate','installment','annual_inc','dti','open_acc','pub_rec','revol_bal','revol_util','total_acc','mort_acc','pub_rec_bankruptcies', loantap_clean['loan_status'], test_size=0.2, random_state=42)\n",
    "X_train, X_test, y_train, y_test = train_test_split(loantap_clean['loan_amnt','int_rate','installment','annual_inc','dti','open_acc','pub_rec','revol_bal','revol_util','total_acc','mort_acc','pub_rec_bankruptcies'], loantap_clean['loan_status'], test_size=0.2, random_state=42)"
   ]
  },
  {
   "cell_type": "code",
   "execution_count": null,
   "id": "23309db7",
   "metadata": {},
   "outputs": [],
   "source": [
    "# Standardize continuous variables\n",
    "scaler = StandardScaler()\n",
    "X_train=scaler.fit_transform(X_train)\n",
    "x_test=scaler.transform(X_train)"
   ]
  },
  {
   "cell_type": "code",
   "execution_count": null,
   "id": "0837c5a6",
   "metadata": {},
   "outputs": [],
   "source": [
    "# Train the Logistic Regression model\n",
    "model = LogisticRegression()\n",
    "model.fit(X_train, y_train)"
   ]
  },
  {
   "cell_type": "code",
   "execution_count": null,
   "id": "d2dc655f",
   "metadata": {},
   "outputs": [],
   "source": [
    "# Evaluate the model\n",
    "y_pred = model.predict(X_test)\n",
    "accuracy = accuracy_score(y_test, y_pred)\n",
    "print(\"Accuracy: {:.2f}%\".format(accuracy * 100))"
   ]
  },
  {
   "cell_type": "code",
   "execution_count": null,
   "id": "31ffa997",
   "metadata": {},
   "outputs": [],
   "source": [
    "# evaluate the model\n",
    "print(\"Confusion Matrix:\\n\", confusion_matrix(y_test, y_pred))\n",
    "print(\"\\nClassification Report:\\n\", classification_report(y_test, y_pred))"
   ]
  },
  {
   "cell_type": "code",
   "execution_count": null,
   "id": "1eb9a970",
   "metadata": {},
   "outputs": [],
   "source": [
    "# Visualize the decision boundary with accuracy information\n",
    "plt.figure(figsize=(8, 6))\n",
    "sns.scatterplot(x=X_test[:, 2], y=X_test[:, 8], hue=y_test, palette={0: 'blue', 1: 'red'}, marker='o')\n",
    "plt.xlabel(\"loan_amnt\")\n",
    "plt.ylabel(\"loan_status\")\n",
    "plt.title(\"Logistic Regression Decision Boundary\\nAccuracy: {:.2f}%\".format(accuracy * 100))\n",
    "plt.legend(title=\"loantap\", loc=\"upper right\")\n",
    "plt.show()\n"
   ]
  },
  {
   "cell_type": "code",
   "execution_count": null,
   "id": "ecd65269",
   "metadata": {},
   "outputs": [],
   "source": [
    "# Plot ROC Curve\n",
    "y_prob = model.predict_proba(X_test)[:, 1]\n",
    "fpr, tpr, thresholds = roc_curve(y_test, y_prob)\n",
    "roc_auc = auc(fpr, tpr)\n",
    "\n",
    "plt.figure(figsize=(8, 6))\n",
    "plt.plot(fpr, tpr, color='darkorange', lw=2,\n",
    "\t\tlabel=f'ROC Curve (AUC = {roc_auc:.2f})')\n",
    "plt.plot([0, 1], [0, 1], color='navy', lw=2, linestyle='--', label='Random')\n",
    "plt.xlabel('False Positive Rate')\n",
    "plt.ylabel('True Positive Rate')\n",
    "plt.title('Receiver Operating Characteristic (ROC) Curve\\nAccuracy: {:.2f}%'.format(\n",
    "\taccuracy * 100))\n",
    "plt.legend(loc=\"lower right\")\n",
    "plt.show()"
   ]
  }
 ],
 "metadata": {
  "kernelspec": {
   "display_name": "Python 3 (ipykernel)",
   "language": "python",
   "name": "python3"
  },
  "language_info": {
   "codemirror_mode": {
    "name": "ipython",
    "version": 3
   },
   "file_extension": ".py",
   "mimetype": "text/x-python",
   "name": "python",
   "nbconvert_exporter": "python",
   "pygments_lexer": "ipython3",
   "version": "3.9.7"
  }
 },
 "nbformat": 4,
 "nbformat_minor": 5
}
