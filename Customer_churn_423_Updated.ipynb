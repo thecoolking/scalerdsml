{
  "cells": [
    {
      "cell_type": "markdown",
      "source": [
        "# Create, evaluate, and score a churn prediction model"
      ],
      "metadata": {
        "id": "98e321e3-7797-4a8d-9822-2f1084ba2e2f"
      },
      "id": "98e321e3-7797-4a8d-9822-2f1084ba2e2f"
    },
    {
      "cell_type": "markdown",
      "source": [
        "## Introduction\n",
        "\n",
        "In this notebook, you'll see a Microsoft Fabric data science workflow with an end-to-end example. The scenario is to build a model to predict whether bank customers would churn or not. The churn rate, also known as the rate of attrition refers to the rate at which bank customers stop doing business with the bank.\n",
        "\n",
        "The main steps in this notebook are:\n",
        "1. Data collection\n",
        "2. Data Journey and Data storeage\n",
        "3. Data Augmentation\n",
        "4. Data Validation\n",
        "5. Understand and process the data through exploratory data analysis and demonstrate the use of Fabric Data Wrangler feature\n",
        "6. Train machine learning models using `Scikit-Learn` and `LightGBM`, and track experiments using MLflow and Fabric Autologging feature\n",
        "7. Evaluate and save the final machine learning model\n",
        "8. Demonstrate the model performance via visualizations in Power BI\n"
      ],
      "metadata": {
        "nteract": {
          "transient": {
            "deleting": false
          }
        },
        "id": "faa52bd2-a2ca-4cc4-90c2-e37b69df136d"
      },
      "id": "faa52bd2-a2ca-4cc4-90c2-e37b69df136d"
    },
    {
      "cell_type": "markdown",
      "source": [
        "## Prerequisites\n",
        "- [Add a lakehouse](https://aka.ms/fabric/addlakehouse) to this notebook. You will be downloading data from a public blob, then storing the data in the lakehouse."
      ],
      "metadata": {
        "nteract": {
          "transient": {
            "deleting": false
          }
        },
        "id": "1eb8ee2b-ba0c-43b3-9d9d-8654067ec748"
      },
      "id": "1eb8ee2b-ba0c-43b3-9d9d-8654067ec748"
    },
    {
      "cell_type": "markdown",
      "source": [
        "For this notebook, you'll install the `imblearn` using `%pip install`. Note that the PySpark kernel will be restarted after `%pip install`, thus you'll need to install the library before you run any other cells."
      ],
      "metadata": {
        "nteract": {
          "transient": {
            "deleting": false
          }
        },
        "id": "591a8c19-19ab-49ce-b1b8-7c3cbfe9a00a"
      },
      "id": "591a8c19-19ab-49ce-b1b8-7c3cbfe9a00a"
    },
    {
      "cell_type": "code",
      "source": [
        "# Use pip to install imblearn for SMOTE\n",
        "%pip install imblearn"
      ],
      "outputs": [
        {
          "output_type": "stream",
          "name": "stdout",
          "text": [
            "Collecting imblearn\n",
            "  Downloading imblearn-0.0-py2.py3-none-any.whl (1.9 kB)\n",
            "Requirement already satisfied: imbalanced-learn in /usr/local/lib/python3.10/dist-packages (from imblearn) (0.10.1)\n",
            "Requirement already satisfied: numpy>=1.17.3 in /usr/local/lib/python3.10/dist-packages (from imbalanced-learn->imblearn) (1.25.2)\n",
            "Requirement already satisfied: scipy>=1.3.2 in /usr/local/lib/python3.10/dist-packages (from imbalanced-learn->imblearn) (1.11.4)\n",
            "Requirement already satisfied: scikit-learn>=1.0.2 in /usr/local/lib/python3.10/dist-packages (from imbalanced-learn->imblearn) (1.2.2)\n",
            "Requirement already satisfied: joblib>=1.1.1 in /usr/local/lib/python3.10/dist-packages (from imbalanced-learn->imblearn) (1.4.2)\n",
            "Requirement already satisfied: threadpoolctl>=2.0.0 in /usr/local/lib/python3.10/dist-packages (from imbalanced-learn->imblearn) (3.5.0)\n",
            "Installing collected packages: imblearn\n",
            "Successfully installed imblearn-0.0\n"
          ]
        }
      ],
      "execution_count": 1,
      "metadata": {
        "jupyter": {
          "outputs_hidden": false,
          "source_hidden": false
        },
        "nteract": {
          "transient": {
            "deleting": false
          }
        },
        "colab": {
          "base_uri": "https://localhost:8080/"
        },
        "id": "8b5da681-e3ed-4ddc-8ff1-5cea41a3f98a",
        "outputId": "baeb8e3d-d3af-4a0a-d33d-903108c7bf41"
      },
      "id": "8b5da681-e3ed-4ddc-8ff1-5cea41a3f98a"
    },
    {
      "cell_type": "markdown",
      "source": [
        "## Step 1: Data Collection\n"
      ],
      "metadata": {
        "nteract": {
          "transient": {
            "deleting": false
          }
        },
        "id": "e2bbaff9-09b7-4320-9cf8-57d4e9063c10"
      },
      "id": "e2bbaff9-09b7-4320-9cf8-57d4e9063c10"
    },
    {
      "cell_type": "markdown",
      "source": [
        "![Image of Data Collection](https://miro.medium.com/v2/resize:fit:1400/format:webp/1*MTWLp_V79poGSZ9W1bHGZA.png)\n",
        "\n",
        "Data collection is the process of gathering and measuring information on variables of interest, in an established systematic fashion\n",
        "\n",
        "### 1. Data Sources Identification\n",
        "\n",
        "#### Internal Sources:\n",
        "- **Transactional Data:** Includes all customer transactions, such as deposits, withdrawals, and payments. This data often resides in transaction processing systems.\n",
        "- **Customer Interaction Data:** Information from CRM systems, including customer service interactions, feedback, and complaints.\n",
        "- **Account Information:** Details about the type and number of products each customer holds, account opening date, and account status.\n",
        "\n",
        "#### External Sources:\n",
        "- **Credit Scores:** Often obtained from credit bureaus or external credit scoring agencies.\n",
        "- **Demographic Data:** Additional demographic information might be collected from third-party providers to enrich the customer profiles.\n",
        "\n",
        "### 2. Data Collection Mechanisms\n",
        "\n",
        "#### Automated Data Collection:\n",
        "- **APIs:** For external data, APIs can be used to pull information from third-party services (like credit bureaus).\n",
        "- **Web Scraping:** To collect publicly available information or additional data from external websites that could enhance the customer profile.\n",
        "\n",
        "#### Manual Data Entry:\n",
        "- **Forms and Applications:** Data entered by customers on applications or forms, either online or in paper form, needs to be digitized and integrated into the bank’s data systems.\n",
        "\n",
        "### 3. Data Ingestion\n",
        "\n",
        "#### Batch Processing:\n",
        "- **Scheduled Imports:** Data from systems like CRM or external databases is imported at regular intervals (e.g., nightly, weekly).\n",
        "\n",
        "#### Real-Time Processing:\n",
        "- **Streaming Data:** Transactional data might be streamed in real-time for immediate analysis, such as detecting fraud or high-value transactions that could indicate a risk of churn.\n",
        "\n",
        "### 4. Data Verification and Validation\n",
        "\n",
        "- **Consistency Checks:** Ensure data across different sources is consistent, e.g., the same customer is identified similarly across all datasets.\n",
        "- **Accuracy Checks:** Validate that data like credit scores or personal information is accurately recorded and reflects the true state of affairs."
      ],
      "metadata": {
        "nteract": {
          "transient": {
            "deleting": false
          }
        },
        "id": "04fe9525-acba-4b48-a0a7-9b2429010b4d"
      },
      "id": "04fe9525-acba-4b48-a0a7-9b2429010b4d"
    },
    {
      "cell_type": "markdown",
      "source": [
        "## Step 2: Data Journey and Data Storage\n",
        "\n"
      ],
      "metadata": {
        "nteract": {
          "transient": {
            "deleting": false
          }
        },
        "id": "faf255e8-6658-43fa-8cb8-8b632b10db11"
      },
      "id": "faf255e8-6658-43fa-8cb8-8b632b10db11"
    },
    {
      "cell_type": "markdown",
      "source": [
        "### Dataset\n",
        "\n",
        "The dataset contains churn status of 10,000 customers along with 14 attributes that include credit score, geographical location (Germany, France, Spain), gender (male, female), age, tenure (years of being bank's customer), account balance, estimated salary, number of products that a customer has purchased through the bank, credit card status (whether a customer has a credit card or not), and active member status (whether an active bank's customer or not).\n",
        "\n",
        "The dataset also includes columns such as row number, customer ID, and customer surname that should have no impact on customer's decision to leave the bank. The event that defines the customer's churn is the closing of the customer's bank account, therefore, the column `exit` in the dataset refers to customer's abandonment. Since you don't have much context about these attributes, you'll proceed without having background information about the dataset. Your aim is to understand how these attributes contribute to the `exit` status.\n",
        "\n",
        "Out of the 10,000 customers, only 2037 customers (around 20%) have left the bank. Therefore, given the class imbalance ratio, it is recommended to generate synthetic data.\n",
        "\n",
        "- churn.csv\n",
        "\n",
        "|\"CustomerID\"|\"Surname\"|\"CreditScore\"|\"Geography\"|\"Gender\"|\"Age\"|\"Tenure\"|\"Balance\"|\"NumOfProducts\"|\"HasCrCard\"|\"IsActiveMember\"|\"EstimatedSalary\"|\"Exited\"|\n",
        "|---|---|---|---|---|---|---|---|---|---|---|---|---|\n",
        "|15634602|Hargrave|619|France|Female|42|2|0.00|1|1|1|101348.88|1|\n",
        "|15647311|Hill|608|Spain|Female|41|1|83807.86|1|0|1|112542.58|0|\n",
        "\n",
        "\n"
      ],
      "metadata": {
        "nteract": {
          "transient": {
            "deleting": false
          }
        },
        "id": "90eec3b3-1a5d-4a3a-bfbd-78b0b035f7a9"
      },
      "id": "90eec3b3-1a5d-4a3a-bfbd-78b0b035f7a9"
    },
    {
      "cell_type": "markdown",
      "source": [
        "### Download dataset and upload to lakehouse\n",
        "\n",
        "> [!TIP]\n",
        "> By defining the following parameters, you can use this notebook with different datasets easily.\n"
      ],
      "metadata": {
        "id": "26e0b468"
      },
      "id": "26e0b468"
    },
    {
      "cell_type": "code",
      "source": [
        "IS_CUSTOM_DATA = False  # if TRUE, dataset has to be uploaded manually\n",
        "\n",
        "IS_SAMPLE = False  # if TRUE, use only SAMPLE_ROWS of data for training, otherwise use all data\n",
        "SAMPLE_ROWS = 5000  # if IS_SAMPLE is True, use only this number of rows for training\n",
        "\n",
        "DATA_ROOT = \"/lakehouse/default\"\n",
        "DATA_FOLDER = \"Files/churn\"  # folder with data files\n",
        "DATA_FILE = \"churn.csv\"  # data file name"
      ],
      "outputs": [
        {
          "output_type": "display_data",
          "data": {
            "application/vnd.livy.statement-meta+json": {
              "spark_pool": null,
              "session_id": "6a641aa0-deaf-4a58-90ef-f9f974aea84b",
              "statement_id": 51,
              "statement_ids": [
                51
              ],
              "state": "finished",
              "livy_statement_state": "available",
              "queued_time": "2024-05-08T18:52:48.2119348Z",
              "session_start_time": null,
              "execution_start_time": "2024-05-08T18:53:02.9645189Z",
              "execution_finish_time": "2024-05-08T18:53:03.2287579Z",
              "parent_msg_id": "d31401ad-9791-4c88-b267-03584df43de3"
            },
            "text/plain": "StatementMeta(, 6a641aa0-deaf-4a58-90ef-f9f974aea84b, 51, Finished, Available)"
          },
          "metadata": {}
        }
      ],
      "execution_count": null,
      "metadata": {
        "jupyter": {
          "outputs_hidden": false,
          "source_hidden": false
        },
        "nteract": {
          "transient": {
            "deleting": false
          }
        },
        "id": "bcd5f6a9-2008-4a06-83cd-a0874797a801",
        "outputId": "c87dfbb0-0eb8-405c-e833-61e73f636823"
      },
      "id": "bcd5f6a9-2008-4a06-83cd-a0874797a801"
    },
    {
      "cell_type": "markdown",
      "source": [
        "\n",
        "\n",
        "This code downloads a publicly available version of the dataset and then stores it in a Fabric lakehouse.\n",
        "\n",
        "> [!IMPORTANT]\n",
        "> **Make sure you [add a lakehouse](https://aka.ms/fabric/addlakehouse) to the notebook before running it. Failure to do so will result in an error.**"
      ],
      "metadata": {
        "nteract": {
          "transient": {
            "deleting": false
          }
        },
        "id": "20376a28-ff40-47a7-86a0-7fb272c88028"
      },
      "id": "20376a28-ff40-47a7-86a0-7fb272c88028"
    },
    {
      "cell_type": "code",
      "source": [
        "import os, requests\n",
        "if not IS_CUSTOM_DATA:\n",
        "# Using synapse blob, this can be done in one line\n",
        "\n",
        "# Download demo data files into lakehouse if not exist\n",
        "    remote_url = \"https://synapseaisolutionsa.blob.core.windows.net/public/bankcustomerchurn\"\n",
        "    file_list = [\"churn.csv\"]\n",
        "    download_path = \"/lakehouse/default/Files/churn/raw\"\n",
        "\n",
        "    if not os.path.exists(\"/lakehouse/default\"):\n",
        "        raise FileNotFoundError(\n",
        "            \"Default lakehouse not found, please add a lakehouse and restart the session.\"\n",
        "        )\n",
        "    os.makedirs(download_path, exist_ok=True)\n",
        "    for fname in file_list:\n",
        "        if not os.path.exists(f\"{download_path}/{fname}\"):\n",
        "            r = requests.get(f\"{remote_url}/{fname}\", timeout=30)\n",
        "            with open(f\"{download_path}/{fname}\", \"wb\") as f:\n",
        "                f.write(r.content)\n",
        "    print(\"Downloaded demo data files into lakehouse.\")"
      ],
      "outputs": [
        {
          "output_type": "display_data",
          "data": {
            "application/vnd.livy.statement-meta+json": {
              "spark_pool": null,
              "session_id": "6a641aa0-deaf-4a58-90ef-f9f974aea84b",
              "statement_id": 52,
              "statement_ids": [
                52
              ],
              "state": "finished",
              "livy_statement_state": "available",
              "queued_time": "2024-05-08T18:52:48.5795046Z",
              "session_start_time": null,
              "execution_start_time": "2024-05-08T18:53:03.7556034Z",
              "execution_finish_time": "2024-05-08T18:53:04.011382Z",
              "parent_msg_id": "0dbb5808-a30d-4eb5-9124-bb6daa46dd11"
            },
            "text/plain": "StatementMeta(, 6a641aa0-deaf-4a58-90ef-f9f974aea84b, 52, Finished, Available)"
          },
          "metadata": {}
        },
        {
          "output_type": "stream",
          "name": "stdout",
          "text": [
            "Downloaded demo data files into lakehouse.\n"
          ]
        }
      ],
      "execution_count": null,
      "metadata": {
        "jupyter": {
          "outputs_hidden": false,
          "source_hidden": false
        },
        "nteract": {
          "transient": {
            "deleting": false
          }
        },
        "id": "a89670b9-66cb-4679-84a1-bf36923d26a6",
        "outputId": "3f77bfe0-5fff-4c40-b9ae-715e7696c3b8"
      },
      "id": "a89670b9-66cb-4679-84a1-bf36923d26a6"
    },
    {
      "cell_type": "markdown",
      "source": [
        "### Medallion Architecture\n",
        "\n",
        "![Medallion Architecture](https://www.databricks.com/sites/default/files/inline-images/building-data-pipelines-with-delta-lake-120823.png)\n",
        "\n",
        "A medallion architecture is a data design pattern used to logically organize data in a lakehouse, with the goal of incrementally and progressively improving the structure and quality of data as it flows through each layer of the architecture (from Bronze ⇒ Silver ⇒ Gold layer tables). Medallion architectures are sometimes also referred to as \"multi-hop\" architectures.\n"
      ],
      "metadata": {
        "id": "un5ZpYPKejC6"
      },
      "id": "un5ZpYPKejC6"
    },
    {
      "cell_type": "markdown",
      "source": [
        "### Medallion Architecture in the Context of Churn Prediction\n",
        "\n",
        "The Medallion Architecture, also known as the Data Mesh, consists of three layers that structure data processing and storage in a way that optimizes for scalability, accessibility, and reliability. Here's how these layers can be utilized for your dataset in the context of churn prediction:\n",
        "\n",
        "#### 1. Bronze Layer (Raw Data Layer)\n",
        "- **Purpose:** This layer stores raw data as it is ingested from various sources. For churn prediction, this includes all the raw customer data collected by the bank.\n",
        "- **Data Science Usage:** Data scientists use this layer for initial data exploration and quality checks. They can assess the completeness and accuracy of the raw data, including identifying any missing values or anomalies.\n",
        "\n",
        "#### 2. Silver Layer (Cleansed Data Layer)\n",
        "- **Purpose:** Data in this layer is cleansed, transformed, and enriched to make it ready for analysis. This involves preprocessing steps like handling missing values, encoding categorical variables, and feature scaling.\n",
        "- **Data Science Usage:** The cleansed and processed data in this layer is used for more detailed analysis and model training. Data scientists can start building predictive models using this refined data, optimizing features to better predict customer churn.\n",
        "\n",
        "#### 3. Gold Layer (Aggregated Data Layer)\n",
        "- **Purpose:** This layer contains highly aggregated and summarized data. For churn prediction, it could include customer segments identified as high risk, summary statistics like average churn rate by demographic, or the results of predictive models.\n",
        "- **Data Science Usage:** Data scientists and business analysts use this layer for generating insights, reporting, and decision-making. It is also where predictive insights are operationalized, allowing for strategic actions like targeted customer retention campaigns."
      ],
      "metadata": {
        "id": "sslimE_HoIyT"
      },
      "id": "sslimE_HoIyT"
    },
    {
      "cell_type": "markdown",
      "source": [
        "### Read raw data from the lakehouse\n",
        "\n",
        "Reads raw data from the **Files** section of the lakehouse, adds additional columns for different date parts and the same information will be used to create partitioned delta table."
      ],
      "metadata": {
        "nteract": {
          "transient": {
            "deleting": false
          }
        },
        "id": "1f22364a-ccb5-4686-9ac0-1120b859fbd5"
      },
      "id": "1f22364a-ccb5-4686-9ac0-1120b859fbd5"
    },
    {
      "cell_type": "code",
      "source": [
        "df = (\n",
        "    spark.read.option(\"header\", True)\n",
        "    .option(\"inferSchema\", True)\n",
        "    .csv(\"Files/churn/raw/churn.csv\")\n",
        "    .cache()\n",
        ").toPandas()"
      ],
      "outputs": [
        {
          "output_type": "error",
          "ename": "NameError",
          "evalue": "name 'spark' is not defined",
          "traceback": [
            "\u001b[0;31m---------------------------------------------------------------------------\u001b[0m",
            "\u001b[0;31mNameError\u001b[0m                                 Traceback (most recent call last)",
            "\u001b[0;32m<ipython-input-10-ec1418f73b3b>\u001b[0m in \u001b[0;36m<cell line: 2>\u001b[0;34m()\u001b[0m\n\u001b[1;32m      1\u001b[0m df = (\n\u001b[0;32m----> 2\u001b[0;31m     \u001b[0mspark\u001b[0m\u001b[0;34m.\u001b[0m\u001b[0mread\u001b[0m\u001b[0;34m.\u001b[0m\u001b[0moption\u001b[0m\u001b[0;34m(\u001b[0m\u001b[0;34m\"header\"\u001b[0m\u001b[0;34m,\u001b[0m \u001b[0;32mTrue\u001b[0m\u001b[0;34m)\u001b[0m\u001b[0;34m\u001b[0m\u001b[0;34m\u001b[0m\u001b[0m\n\u001b[0m\u001b[1;32m      3\u001b[0m     \u001b[0;34m.\u001b[0m\u001b[0moption\u001b[0m\u001b[0;34m(\u001b[0m\u001b[0;34m\"inferSchema\"\u001b[0m\u001b[0;34m,\u001b[0m \u001b[0;32mTrue\u001b[0m\u001b[0;34m)\u001b[0m\u001b[0;34m\u001b[0m\u001b[0;34m\u001b[0m\u001b[0m\n\u001b[1;32m      4\u001b[0m     \u001b[0;34m.\u001b[0m\u001b[0mcsv\u001b[0m\u001b[0;34m(\u001b[0m\u001b[0;34m\"Files/churn/raw/churn.csv\"\u001b[0m\u001b[0;34m)\u001b[0m\u001b[0;34m\u001b[0m\u001b[0;34m\u001b[0m\u001b[0m\n\u001b[1;32m      5\u001b[0m     \u001b[0;34m.\u001b[0m\u001b[0mcache\u001b[0m\u001b[0;34m(\u001b[0m\u001b[0;34m)\u001b[0m\u001b[0;34m\u001b[0m\u001b[0;34m\u001b[0m\u001b[0m\n",
            "\u001b[0;31mNameError\u001b[0m: name 'spark' is not defined"
          ]
        }
      ],
      "execution_count": 10,
      "metadata": {
        "jupyter": {
          "outputs_hidden": false,
          "source_hidden": false
        },
        "nteract": {
          "transient": {
            "deleting": false
          }
        },
        "colab": {
          "base_uri": "https://localhost:8080/",
          "height": 219
        },
        "id": "2cfd34fd-047c-44d0-884a-4941482bd5fb",
        "outputId": "e566e333-1dc8-4f3d-a5c3-8319015dc242"
      },
      "id": "2cfd34fd-047c-44d0-884a-4941482bd5fb"
    },
    {
      "cell_type": "markdown",
      "source": [
        "### Simplistic Demonstration of Medallion Architecture"
      ],
      "metadata": {
        "id": "bSG_A-HXoOqW"
      },
      "id": "bSG_A-HXoOqW"
    },
    {
      "cell_type": "code",
      "source": [
        "import pandas as pd\n",
        "from sklearn.preprocessing import LabelEncoder, StandardScaler\n",
        "from sklearn.model_selection import train_test_split\n",
        "\n",
        "# Step 1: Load raw data into the Bronze layer\n",
        "bronze_data = pd.read_csv('Files/churn/raw/churn.csv')\n",
        "print(\n",
        "  f\"Loaded {bronze_data.shape[0]} rows and {bronze_data.shape[1]} columns from the raw data.\"\n",
        ")\n",
        "\n",
        "display(bronze_data)\n",
        "\n",
        "# Step 2: Clean and preprocess data to move to the Silver layer\n",
        "# Remove irrelevant columns\n",
        "silver_data = bronze_data.drop(columns=['CustomerId', 'Surname', 'RowNumber'])\n",
        "\n",
        "# Convert categorical data to numeric\n",
        "le = LabelEncoder()\n",
        "silver_data['Geography'] = le.fit_transform(silver_data['Geography'])\n",
        "silver_data['Gender'] = le.fit_transform(silver_data['Gender'])\n",
        "\n",
        "# Handle missing values (assuming fill with median for demonstration)\n",
        "silver_data.fillna(silver_data.median(), inplace=True)\n",
        "\n",
        "# Standardize continuous variables\n",
        "scaler = StandardScaler()\n",
        "silver_data[['Age', 'CreditScore', 'Tenure', 'Balance', 'EstimatedSalary']] = scaler.fit_transform(\n",
        "    silver_data[['Age', 'CreditScore', 'Tenure', 'Balance', 'EstimatedSalary']]\n",
        ")\n",
        "print(\n",
        "    f\"Converted {silver_data.shape[0]} rows and {silver_data.shape[1]} columns from the bronze data to the silver data.\"\n",
        ")\n",
        "display(silver_data)\n",
        "\n",
        "# Step 3: Create aggregated data for the Gold layer\n",
        "gold_data = silver_data.groupby('Exited').agg({\n",
        "    'CreditScore': ['mean', 'std'],\n",
        "    'Balance': ['mean', 'std'],\n",
        "    'Age': ['mean', 'std'],\n",
        "    'NumOfProducts': ['count']\n",
        "})\n",
        "print(\n",
        "    f\"Created {gold_data.shape[0]} rows and {gold_data.shape[1]} columns from the silver data to the gold data.\"\n",
        ")\n",
        "# Data is now ready for high-level analysis and reporting\n",
        "display(gold_data)"
      ],
      "metadata": {
        "colab": {
          "base_uri": "https://localhost:8080/",
          "height": 1000
        },
        "id": "svbZYG_9hFca",
        "outputId": "42866e14-777e-44a4-ec93-6892dc05bce3"
      },
      "id": "svbZYG_9hFca",
      "execution_count": 13,
      "outputs": [
        {
          "output_type": "stream",
          "name": "stdout",
          "text": [
            "Loaded 10000 rows and 14 columns from the raw data.\n"
          ]
        },
        {
          "output_type": "display_data",
          "data": {
            "text/plain": [
              "      RowNumber  CustomerId    Surname  CreditScore Geography  Gender  Age  \\\n",
              "0             1    15634602   Hargrave          619    France  Female   42   \n",
              "1             2    15647311       Hill          608     Spain  Female   41   \n",
              "2             3    15619304       Onio          502    France  Female   42   \n",
              "3             4    15701354       Boni          699    France  Female   39   \n",
              "4             5    15737888   Mitchell          850     Spain  Female   43   \n",
              "...         ...         ...        ...          ...       ...     ...  ...   \n",
              "9995       9996    15606229   Obijiaku          771    France    Male   39   \n",
              "9996       9997    15569892  Johnstone          516    France    Male   35   \n",
              "9997       9998    15584532        Liu          709    France  Female   36   \n",
              "9998       9999    15682355  Sabbatini          772   Germany    Male   42   \n",
              "9999      10000    15628319     Walker          792    France  Female   28   \n",
              "\n",
              "      Tenure    Balance  NumOfProducts  HasCrCard  IsActiveMember  \\\n",
              "0          2       0.00              1          1               1   \n",
              "1          1   83807.86              1          0               1   \n",
              "2          8  159660.80              3          1               0   \n",
              "3          1       0.00              2          0               0   \n",
              "4          2  125510.82              1          1               1   \n",
              "...      ...        ...            ...        ...             ...   \n",
              "9995       5       0.00              2          1               0   \n",
              "9996      10   57369.61              1          1               1   \n",
              "9997       7       0.00              1          0               1   \n",
              "9998       3   75075.31              2          1               0   \n",
              "9999       4  130142.79              1          1               0   \n",
              "\n",
              "      EstimatedSalary  Exited  \n",
              "0           101348.88       1  \n",
              "1           112542.58       0  \n",
              "2           113931.57       1  \n",
              "3            93826.63       0  \n",
              "4            79084.10       0  \n",
              "...               ...     ...  \n",
              "9995         96270.64       0  \n",
              "9996        101699.77       0  \n",
              "9997         42085.58       1  \n",
              "9998         92888.52       1  \n",
              "9999         38190.78       0  \n",
              "\n",
              "[10000 rows x 14 columns]"
            ],
            "text/html": [
              "\n",
              "  <div id=\"df-0ebf1a96-65ba-4c41-b947-4816cf2f72f4\" class=\"colab-df-container\">\n",
              "    <div>\n",
              "<style scoped>\n",
              "    .dataframe tbody tr th:only-of-type {\n",
              "        vertical-align: middle;\n",
              "    }\n",
              "\n",
              "    .dataframe tbody tr th {\n",
              "        vertical-align: top;\n",
              "    }\n",
              "\n",
              "    .dataframe thead th {\n",
              "        text-align: right;\n",
              "    }\n",
              "</style>\n",
              "<table border=\"1\" class=\"dataframe\">\n",
              "  <thead>\n",
              "    <tr style=\"text-align: right;\">\n",
              "      <th></th>\n",
              "      <th>RowNumber</th>\n",
              "      <th>CustomerId</th>\n",
              "      <th>Surname</th>\n",
              "      <th>CreditScore</th>\n",
              "      <th>Geography</th>\n",
              "      <th>Gender</th>\n",
              "      <th>Age</th>\n",
              "      <th>Tenure</th>\n",
              "      <th>Balance</th>\n",
              "      <th>NumOfProducts</th>\n",
              "      <th>HasCrCard</th>\n",
              "      <th>IsActiveMember</th>\n",
              "      <th>EstimatedSalary</th>\n",
              "      <th>Exited</th>\n",
              "    </tr>\n",
              "  </thead>\n",
              "  <tbody>\n",
              "    <tr>\n",
              "      <th>0</th>\n",
              "      <td>1</td>\n",
              "      <td>15634602</td>\n",
              "      <td>Hargrave</td>\n",
              "      <td>619</td>\n",
              "      <td>France</td>\n",
              "      <td>Female</td>\n",
              "      <td>42</td>\n",
              "      <td>2</td>\n",
              "      <td>0.00</td>\n",
              "      <td>1</td>\n",
              "      <td>1</td>\n",
              "      <td>1</td>\n",
              "      <td>101348.88</td>\n",
              "      <td>1</td>\n",
              "    </tr>\n",
              "    <tr>\n",
              "      <th>1</th>\n",
              "      <td>2</td>\n",
              "      <td>15647311</td>\n",
              "      <td>Hill</td>\n",
              "      <td>608</td>\n",
              "      <td>Spain</td>\n",
              "      <td>Female</td>\n",
              "      <td>41</td>\n",
              "      <td>1</td>\n",
              "      <td>83807.86</td>\n",
              "      <td>1</td>\n",
              "      <td>0</td>\n",
              "      <td>1</td>\n",
              "      <td>112542.58</td>\n",
              "      <td>0</td>\n",
              "    </tr>\n",
              "    <tr>\n",
              "      <th>2</th>\n",
              "      <td>3</td>\n",
              "      <td>15619304</td>\n",
              "      <td>Onio</td>\n",
              "      <td>502</td>\n",
              "      <td>France</td>\n",
              "      <td>Female</td>\n",
              "      <td>42</td>\n",
              "      <td>8</td>\n",
              "      <td>159660.80</td>\n",
              "      <td>3</td>\n",
              "      <td>1</td>\n",
              "      <td>0</td>\n",
              "      <td>113931.57</td>\n",
              "      <td>1</td>\n",
              "    </tr>\n",
              "    <tr>\n",
              "      <th>3</th>\n",
              "      <td>4</td>\n",
              "      <td>15701354</td>\n",
              "      <td>Boni</td>\n",
              "      <td>699</td>\n",
              "      <td>France</td>\n",
              "      <td>Female</td>\n",
              "      <td>39</td>\n",
              "      <td>1</td>\n",
              "      <td>0.00</td>\n",
              "      <td>2</td>\n",
              "      <td>0</td>\n",
              "      <td>0</td>\n",
              "      <td>93826.63</td>\n",
              "      <td>0</td>\n",
              "    </tr>\n",
              "    <tr>\n",
              "      <th>4</th>\n",
              "      <td>5</td>\n",
              "      <td>15737888</td>\n",
              "      <td>Mitchell</td>\n",
              "      <td>850</td>\n",
              "      <td>Spain</td>\n",
              "      <td>Female</td>\n",
              "      <td>43</td>\n",
              "      <td>2</td>\n",
              "      <td>125510.82</td>\n",
              "      <td>1</td>\n",
              "      <td>1</td>\n",
              "      <td>1</td>\n",
              "      <td>79084.10</td>\n",
              "      <td>0</td>\n",
              "    </tr>\n",
              "    <tr>\n",
              "      <th>...</th>\n",
              "      <td>...</td>\n",
              "      <td>...</td>\n",
              "      <td>...</td>\n",
              "      <td>...</td>\n",
              "      <td>...</td>\n",
              "      <td>...</td>\n",
              "      <td>...</td>\n",
              "      <td>...</td>\n",
              "      <td>...</td>\n",
              "      <td>...</td>\n",
              "      <td>...</td>\n",
              "      <td>...</td>\n",
              "      <td>...</td>\n",
              "      <td>...</td>\n",
              "    </tr>\n",
              "    <tr>\n",
              "      <th>9995</th>\n",
              "      <td>9996</td>\n",
              "      <td>15606229</td>\n",
              "      <td>Obijiaku</td>\n",
              "      <td>771</td>\n",
              "      <td>France</td>\n",
              "      <td>Male</td>\n",
              "      <td>39</td>\n",
              "      <td>5</td>\n",
              "      <td>0.00</td>\n",
              "      <td>2</td>\n",
              "      <td>1</td>\n",
              "      <td>0</td>\n",
              "      <td>96270.64</td>\n",
              "      <td>0</td>\n",
              "    </tr>\n",
              "    <tr>\n",
              "      <th>9996</th>\n",
              "      <td>9997</td>\n",
              "      <td>15569892</td>\n",
              "      <td>Johnstone</td>\n",
              "      <td>516</td>\n",
              "      <td>France</td>\n",
              "      <td>Male</td>\n",
              "      <td>35</td>\n",
              "      <td>10</td>\n",
              "      <td>57369.61</td>\n",
              "      <td>1</td>\n",
              "      <td>1</td>\n",
              "      <td>1</td>\n",
              "      <td>101699.77</td>\n",
              "      <td>0</td>\n",
              "    </tr>\n",
              "    <tr>\n",
              "      <th>9997</th>\n",
              "      <td>9998</td>\n",
              "      <td>15584532</td>\n",
              "      <td>Liu</td>\n",
              "      <td>709</td>\n",
              "      <td>France</td>\n",
              "      <td>Female</td>\n",
              "      <td>36</td>\n",
              "      <td>7</td>\n",
              "      <td>0.00</td>\n",
              "      <td>1</td>\n",
              "      <td>0</td>\n",
              "      <td>1</td>\n",
              "      <td>42085.58</td>\n",
              "      <td>1</td>\n",
              "    </tr>\n",
              "    <tr>\n",
              "      <th>9998</th>\n",
              "      <td>9999</td>\n",
              "      <td>15682355</td>\n",
              "      <td>Sabbatini</td>\n",
              "      <td>772</td>\n",
              "      <td>Germany</td>\n",
              "      <td>Male</td>\n",
              "      <td>42</td>\n",
              "      <td>3</td>\n",
              "      <td>75075.31</td>\n",
              "      <td>2</td>\n",
              "      <td>1</td>\n",
              "      <td>0</td>\n",
              "      <td>92888.52</td>\n",
              "      <td>1</td>\n",
              "    </tr>\n",
              "    <tr>\n",
              "      <th>9999</th>\n",
              "      <td>10000</td>\n",
              "      <td>15628319</td>\n",
              "      <td>Walker</td>\n",
              "      <td>792</td>\n",
              "      <td>France</td>\n",
              "      <td>Female</td>\n",
              "      <td>28</td>\n",
              "      <td>4</td>\n",
              "      <td>130142.79</td>\n",
              "      <td>1</td>\n",
              "      <td>1</td>\n",
              "      <td>0</td>\n",
              "      <td>38190.78</td>\n",
              "      <td>0</td>\n",
              "    </tr>\n",
              "  </tbody>\n",
              "</table>\n",
              "<p>10000 rows × 14 columns</p>\n",
              "</div>\n",
              "    <div class=\"colab-df-buttons\">\n",
              "\n",
              "  <div class=\"colab-df-container\">\n",
              "    <button class=\"colab-df-convert\" onclick=\"convertToInteractive('df-0ebf1a96-65ba-4c41-b947-4816cf2f72f4')\"\n",
              "            title=\"Convert this dataframe to an interactive table.\"\n",
              "            style=\"display:none;\">\n",
              "\n",
              "  <svg xmlns=\"http://www.w3.org/2000/svg\" height=\"24px\" viewBox=\"0 -960 960 960\">\n",
              "    <path d=\"M120-120v-720h720v720H120Zm60-500h600v-160H180v160Zm220 220h160v-160H400v160Zm0 220h160v-160H400v160ZM180-400h160v-160H180v160Zm440 0h160v-160H620v160ZM180-180h160v-160H180v160Zm440 0h160v-160H620v160Z\"/>\n",
              "  </svg>\n",
              "    </button>\n",
              "\n",
              "  <style>\n",
              "    .colab-df-container {\n",
              "      display:flex;\n",
              "      gap: 12px;\n",
              "    }\n",
              "\n",
              "    .colab-df-convert {\n",
              "      background-color: #E8F0FE;\n",
              "      border: none;\n",
              "      border-radius: 50%;\n",
              "      cursor: pointer;\n",
              "      display: none;\n",
              "      fill: #1967D2;\n",
              "      height: 32px;\n",
              "      padding: 0 0 0 0;\n",
              "      width: 32px;\n",
              "    }\n",
              "\n",
              "    .colab-df-convert:hover {\n",
              "      background-color: #E2EBFA;\n",
              "      box-shadow: 0px 1px 2px rgba(60, 64, 67, 0.3), 0px 1px 3px 1px rgba(60, 64, 67, 0.15);\n",
              "      fill: #174EA6;\n",
              "    }\n",
              "\n",
              "    .colab-df-buttons div {\n",
              "      margin-bottom: 4px;\n",
              "    }\n",
              "\n",
              "    [theme=dark] .colab-df-convert {\n",
              "      background-color: #3B4455;\n",
              "      fill: #D2E3FC;\n",
              "    }\n",
              "\n",
              "    [theme=dark] .colab-df-convert:hover {\n",
              "      background-color: #434B5C;\n",
              "      box-shadow: 0px 1px 3px 1px rgba(0, 0, 0, 0.15);\n",
              "      filter: drop-shadow(0px 1px 2px rgba(0, 0, 0, 0.3));\n",
              "      fill: #FFFFFF;\n",
              "    }\n",
              "  </style>\n",
              "\n",
              "    <script>\n",
              "      const buttonEl =\n",
              "        document.querySelector('#df-0ebf1a96-65ba-4c41-b947-4816cf2f72f4 button.colab-df-convert');\n",
              "      buttonEl.style.display =\n",
              "        google.colab.kernel.accessAllowed ? 'block' : 'none';\n",
              "\n",
              "      async function convertToInteractive(key) {\n",
              "        const element = document.querySelector('#df-0ebf1a96-65ba-4c41-b947-4816cf2f72f4');\n",
              "        const dataTable =\n",
              "          await google.colab.kernel.invokeFunction('convertToInteractive',\n",
              "                                                    [key], {});\n",
              "        if (!dataTable) return;\n",
              "\n",
              "        const docLinkHtml = 'Like what you see? Visit the ' +\n",
              "          '<a target=\"_blank\" href=https://colab.research.google.com/notebooks/data_table.ipynb>data table notebook</a>'\n",
              "          + ' to learn more about interactive tables.';\n",
              "        element.innerHTML = '';\n",
              "        dataTable['output_type'] = 'display_data';\n",
              "        await google.colab.output.renderOutput(dataTable, element);\n",
              "        const docLink = document.createElement('div');\n",
              "        docLink.innerHTML = docLinkHtml;\n",
              "        element.appendChild(docLink);\n",
              "      }\n",
              "    </script>\n",
              "  </div>\n",
              "\n",
              "\n",
              "<div id=\"df-17f6d443-1249-4fcf-ac14-6fd90a818c0c\">\n",
              "  <button class=\"colab-df-quickchart\" onclick=\"quickchart('df-17f6d443-1249-4fcf-ac14-6fd90a818c0c')\"\n",
              "            title=\"Suggest charts\"\n",
              "            style=\"display:none;\">\n",
              "\n",
              "<svg xmlns=\"http://www.w3.org/2000/svg\" height=\"24px\"viewBox=\"0 0 24 24\"\n",
              "     width=\"24px\">\n",
              "    <g>\n",
              "        <path d=\"M19 3H5c-1.1 0-2 .9-2 2v14c0 1.1.9 2 2 2h14c1.1 0 2-.9 2-2V5c0-1.1-.9-2-2-2zM9 17H7v-7h2v7zm4 0h-2V7h2v10zm4 0h-2v-4h2v4z\"/>\n",
              "    </g>\n",
              "</svg>\n",
              "  </button>\n",
              "\n",
              "<style>\n",
              "  .colab-df-quickchart {\n",
              "      --bg-color: #E8F0FE;\n",
              "      --fill-color: #1967D2;\n",
              "      --hover-bg-color: #E2EBFA;\n",
              "      --hover-fill-color: #174EA6;\n",
              "      --disabled-fill-color: #AAA;\n",
              "      --disabled-bg-color: #DDD;\n",
              "  }\n",
              "\n",
              "  [theme=dark] .colab-df-quickchart {\n",
              "      --bg-color: #3B4455;\n",
              "      --fill-color: #D2E3FC;\n",
              "      --hover-bg-color: #434B5C;\n",
              "      --hover-fill-color: #FFFFFF;\n",
              "      --disabled-bg-color: #3B4455;\n",
              "      --disabled-fill-color: #666;\n",
              "  }\n",
              "\n",
              "  .colab-df-quickchart {\n",
              "    background-color: var(--bg-color);\n",
              "    border: none;\n",
              "    border-radius: 50%;\n",
              "    cursor: pointer;\n",
              "    display: none;\n",
              "    fill: var(--fill-color);\n",
              "    height: 32px;\n",
              "    padding: 0;\n",
              "    width: 32px;\n",
              "  }\n",
              "\n",
              "  .colab-df-quickchart:hover {\n",
              "    background-color: var(--hover-bg-color);\n",
              "    box-shadow: 0 1px 2px rgba(60, 64, 67, 0.3), 0 1px 3px 1px rgba(60, 64, 67, 0.15);\n",
              "    fill: var(--button-hover-fill-color);\n",
              "  }\n",
              "\n",
              "  .colab-df-quickchart-complete:disabled,\n",
              "  .colab-df-quickchart-complete:disabled:hover {\n",
              "    background-color: var(--disabled-bg-color);\n",
              "    fill: var(--disabled-fill-color);\n",
              "    box-shadow: none;\n",
              "  }\n",
              "\n",
              "  .colab-df-spinner {\n",
              "    border: 2px solid var(--fill-color);\n",
              "    border-color: transparent;\n",
              "    border-bottom-color: var(--fill-color);\n",
              "    animation:\n",
              "      spin 1s steps(1) infinite;\n",
              "  }\n",
              "\n",
              "  @keyframes spin {\n",
              "    0% {\n",
              "      border-color: transparent;\n",
              "      border-bottom-color: var(--fill-color);\n",
              "      border-left-color: var(--fill-color);\n",
              "    }\n",
              "    20% {\n",
              "      border-color: transparent;\n",
              "      border-left-color: var(--fill-color);\n",
              "      border-top-color: var(--fill-color);\n",
              "    }\n",
              "    30% {\n",
              "      border-color: transparent;\n",
              "      border-left-color: var(--fill-color);\n",
              "      border-top-color: var(--fill-color);\n",
              "      border-right-color: var(--fill-color);\n",
              "    }\n",
              "    40% {\n",
              "      border-color: transparent;\n",
              "      border-right-color: var(--fill-color);\n",
              "      border-top-color: var(--fill-color);\n",
              "    }\n",
              "    60% {\n",
              "      border-color: transparent;\n",
              "      border-right-color: var(--fill-color);\n",
              "    }\n",
              "    80% {\n",
              "      border-color: transparent;\n",
              "      border-right-color: var(--fill-color);\n",
              "      border-bottom-color: var(--fill-color);\n",
              "    }\n",
              "    90% {\n",
              "      border-color: transparent;\n",
              "      border-bottom-color: var(--fill-color);\n",
              "    }\n",
              "  }\n",
              "</style>\n",
              "\n",
              "  <script>\n",
              "    async function quickchart(key) {\n",
              "      const quickchartButtonEl =\n",
              "        document.querySelector('#' + key + ' button');\n",
              "      quickchartButtonEl.disabled = true;  // To prevent multiple clicks.\n",
              "      quickchartButtonEl.classList.add('colab-df-spinner');\n",
              "      try {\n",
              "        const charts = await google.colab.kernel.invokeFunction(\n",
              "            'suggestCharts', [key], {});\n",
              "      } catch (error) {\n",
              "        console.error('Error during call to suggestCharts:', error);\n",
              "      }\n",
              "      quickchartButtonEl.classList.remove('colab-df-spinner');\n",
              "      quickchartButtonEl.classList.add('colab-df-quickchart-complete');\n",
              "    }\n",
              "    (() => {\n",
              "      let quickchartButtonEl =\n",
              "        document.querySelector('#df-17f6d443-1249-4fcf-ac14-6fd90a818c0c button');\n",
              "      quickchartButtonEl.style.display =\n",
              "        google.colab.kernel.accessAllowed ? 'block' : 'none';\n",
              "    })();\n",
              "  </script>\n",
              "</div>\n",
              "\n",
              "  <div id=\"id_209d052f-c2e7-46d9-a3a3-f815a6b1a00f\">\n",
              "    <style>\n",
              "      .colab-df-generate {\n",
              "        background-color: #E8F0FE;\n",
              "        border: none;\n",
              "        border-radius: 50%;\n",
              "        cursor: pointer;\n",
              "        display: none;\n",
              "        fill: #1967D2;\n",
              "        height: 32px;\n",
              "        padding: 0 0 0 0;\n",
              "        width: 32px;\n",
              "      }\n",
              "\n",
              "      .colab-df-generate:hover {\n",
              "        background-color: #E2EBFA;\n",
              "        box-shadow: 0px 1px 2px rgba(60, 64, 67, 0.3), 0px 1px 3px 1px rgba(60, 64, 67, 0.15);\n",
              "        fill: #174EA6;\n",
              "      }\n",
              "\n",
              "      [theme=dark] .colab-df-generate {\n",
              "        background-color: #3B4455;\n",
              "        fill: #D2E3FC;\n",
              "      }\n",
              "\n",
              "      [theme=dark] .colab-df-generate:hover {\n",
              "        background-color: #434B5C;\n",
              "        box-shadow: 0px 1px 3px 1px rgba(0, 0, 0, 0.15);\n",
              "        filter: drop-shadow(0px 1px 2px rgba(0, 0, 0, 0.3));\n",
              "        fill: #FFFFFF;\n",
              "      }\n",
              "    </style>\n",
              "    <button class=\"colab-df-generate\" onclick=\"generateWithVariable('bronze_data')\"\n",
              "            title=\"Generate code using this dataframe.\"\n",
              "            style=\"display:none;\">\n",
              "\n",
              "  <svg xmlns=\"http://www.w3.org/2000/svg\" height=\"24px\"viewBox=\"0 0 24 24\"\n",
              "       width=\"24px\">\n",
              "    <path d=\"M7,19H8.4L18.45,9,17,7.55,7,17.6ZM5,21V16.75L18.45,3.32a2,2,0,0,1,2.83,0l1.4,1.43a1.91,1.91,0,0,1,.58,1.4,1.91,1.91,0,0,1-.58,1.4L9.25,21ZM18.45,9,17,7.55Zm-12,3A5.31,5.31,0,0,0,4.9,8.1,5.31,5.31,0,0,0,1,6.5,5.31,5.31,0,0,0,4.9,4.9,5.31,5.31,0,0,0,6.5,1,5.31,5.31,0,0,0,8.1,4.9,5.31,5.31,0,0,0,12,6.5,5.46,5.46,0,0,0,6.5,12Z\"/>\n",
              "  </svg>\n",
              "    </button>\n",
              "    <script>\n",
              "      (() => {\n",
              "      const buttonEl =\n",
              "        document.querySelector('#id_209d052f-c2e7-46d9-a3a3-f815a6b1a00f button.colab-df-generate');\n",
              "      buttonEl.style.display =\n",
              "        google.colab.kernel.accessAllowed ? 'block' : 'none';\n",
              "\n",
              "      buttonEl.onclick = () => {\n",
              "        google.colab.notebook.generateWithVariable('bronze_data');\n",
              "      }\n",
              "      })();\n",
              "    </script>\n",
              "  </div>\n",
              "\n",
              "    </div>\n",
              "  </div>\n"
            ],
            "application/vnd.google.colaboratory.intrinsic+json": {
              "type": "dataframe",
              "variable_name": "bronze_data",
              "summary": "{\n  \"name\": \"bronze_data\",\n  \"rows\": 10000,\n  \"fields\": [\n    {\n      \"column\": \"RowNumber\",\n      \"properties\": {\n        \"dtype\": \"number\",\n        \"std\": 2886,\n        \"min\": 1,\n        \"max\": 10000,\n        \"num_unique_values\": 10000,\n        \"samples\": [\n          6253,\n          4685,\n          1732\n        ],\n        \"semantic_type\": \"\",\n        \"description\": \"\"\n      }\n    },\n    {\n      \"column\": \"CustomerId\",\n      \"properties\": {\n        \"dtype\": \"number\",\n        \"std\": 71936,\n        \"min\": 15565701,\n        \"max\": 15815690,\n        \"num_unique_values\": 10000,\n        \"samples\": [\n          15687492,\n          15736963,\n          15721730\n        ],\n        \"semantic_type\": \"\",\n        \"description\": \"\"\n      }\n    },\n    {\n      \"column\": \"Surname\",\n      \"properties\": {\n        \"dtype\": \"category\",\n        \"num_unique_values\": 2932,\n        \"samples\": [\n          \"McGuirk\",\n          \"Torkelson\",\n          \"Rapuluchukwu\"\n        ],\n        \"semantic_type\": \"\",\n        \"description\": \"\"\n      }\n    },\n    {\n      \"column\": \"CreditScore\",\n      \"properties\": {\n        \"dtype\": \"number\",\n        \"std\": 96,\n        \"min\": 350,\n        \"max\": 850,\n        \"num_unique_values\": 460,\n        \"samples\": [\n          754,\n          533,\n          744\n        ],\n        \"semantic_type\": \"\",\n        \"description\": \"\"\n      }\n    },\n    {\n      \"column\": \"Geography\",\n      \"properties\": {\n        \"dtype\": \"category\",\n        \"num_unique_values\": 3,\n        \"samples\": [\n          \"France\",\n          \"Spain\",\n          \"Germany\"\n        ],\n        \"semantic_type\": \"\",\n        \"description\": \"\"\n      }\n    },\n    {\n      \"column\": \"Gender\",\n      \"properties\": {\n        \"dtype\": \"category\",\n        \"num_unique_values\": 2,\n        \"samples\": [\n          \"Male\",\n          \"Female\"\n        ],\n        \"semantic_type\": \"\",\n        \"description\": \"\"\n      }\n    },\n    {\n      \"column\": \"Age\",\n      \"properties\": {\n        \"dtype\": \"number\",\n        \"std\": 10,\n        \"min\": 18,\n        \"max\": 92,\n        \"num_unique_values\": 70,\n        \"samples\": [\n          61,\n          42\n        ],\n        \"semantic_type\": \"\",\n        \"description\": \"\"\n      }\n    },\n    {\n      \"column\": \"Tenure\",\n      \"properties\": {\n        \"dtype\": \"number\",\n        \"std\": 2,\n        \"min\": 0,\n        \"max\": 10,\n        \"num_unique_values\": 11,\n        \"samples\": [\n          6,\n          2\n        ],\n        \"semantic_type\": \"\",\n        \"description\": \"\"\n      }\n    },\n    {\n      \"column\": \"Balance\",\n      \"properties\": {\n        \"dtype\": \"number\",\n        \"std\": 62397.405202385955,\n        \"min\": 0.0,\n        \"max\": 250898.09,\n        \"num_unique_values\": 6382,\n        \"samples\": [\n          117707.18,\n          133050.97\n        ],\n        \"semantic_type\": \"\",\n        \"description\": \"\"\n      }\n    },\n    {\n      \"column\": \"NumOfProducts\",\n      \"properties\": {\n        \"dtype\": \"number\",\n        \"std\": 0,\n        \"min\": 1,\n        \"max\": 4,\n        \"num_unique_values\": 4,\n        \"samples\": [\n          3,\n          4\n        ],\n        \"semantic_type\": \"\",\n        \"description\": \"\"\n      }\n    },\n    {\n      \"column\": \"HasCrCard\",\n      \"properties\": {\n        \"dtype\": \"number\",\n        \"std\": 0,\n        \"min\": 0,\n        \"max\": 1,\n        \"num_unique_values\": 2,\n        \"samples\": [\n          0,\n          1\n        ],\n        \"semantic_type\": \"\",\n        \"description\": \"\"\n      }\n    },\n    {\n      \"column\": \"IsActiveMember\",\n      \"properties\": {\n        \"dtype\": \"number\",\n        \"std\": 0,\n        \"min\": 0,\n        \"max\": 1,\n        \"num_unique_values\": 2,\n        \"samples\": [\n          0,\n          1\n        ],\n        \"semantic_type\": \"\",\n        \"description\": \"\"\n      }\n    },\n    {\n      \"column\": \"EstimatedSalary\",\n      \"properties\": {\n        \"dtype\": \"number\",\n        \"std\": 57510.49281769816,\n        \"min\": 11.58,\n        \"max\": 199992.48,\n        \"num_unique_values\": 9999,\n        \"samples\": [\n          100809.99,\n          95273.73\n        ],\n        \"semantic_type\": \"\",\n        \"description\": \"\"\n      }\n    },\n    {\n      \"column\": \"Exited\",\n      \"properties\": {\n        \"dtype\": \"number\",\n        \"std\": 0,\n        \"min\": 0,\n        \"max\": 1,\n        \"num_unique_values\": 2,\n        \"samples\": [\n          0,\n          1\n        ],\n        \"semantic_type\": \"\",\n        \"description\": \"\"\n      }\n    }\n  ]\n}"
            }
          },
          "metadata": {}
        },
        {
          "output_type": "stream",
          "name": "stdout",
          "text": [
            "Converted 10000 rows and 11 columns from the bronze data to the silver data.\n"
          ]
        },
        {
          "output_type": "display_data",
          "data": {
            "text/plain": [
              "      CreditScore  Geography  Gender       Age    Tenure   Balance  \\\n",
              "0       -0.326221          0       0  0.293517 -1.041760 -1.225848   \n",
              "1       -0.440036          2       0  0.198164 -1.387538  0.117350   \n",
              "2       -1.536794          0       0  0.293517  1.032908  1.333053   \n",
              "3        0.501521          0       0  0.007457 -1.387538 -1.225848   \n",
              "4        2.063884          2       0  0.388871 -1.041760  0.785728   \n",
              "...           ...        ...     ...       ...       ...       ...   \n",
              "9995     1.246488          0       1  0.007457 -0.004426 -1.225848   \n",
              "9996    -1.391939          0       1 -0.373958  1.724464 -0.306379   \n",
              "9997     0.604988          0       0 -0.278604  0.687130 -1.225848   \n",
              "9998     1.256835          1       1  0.293517 -0.695982 -0.022608   \n",
              "9999     1.463771          0       0 -1.041433 -0.350204  0.859965   \n",
              "\n",
              "      NumOfProducts  HasCrCard  IsActiveMember  EstimatedSalary  Exited  \n",
              "0                 1          1               1         0.021886       1  \n",
              "1                 1          0               1         0.216534       0  \n",
              "2                 3          1               0         0.240687       1  \n",
              "3                 2          0               0        -0.108918       0  \n",
              "4                 1          1               1        -0.365276       0  \n",
              "...             ...        ...             ...              ...     ...  \n",
              "9995              2          1               0        -0.066419       0  \n",
              "9996              1          1               1         0.027988       0  \n",
              "9997              1          0               1        -1.008643       1  \n",
              "9998              2          1               0        -0.125231       1  \n",
              "9999              1          1               0        -1.076370       0  \n",
              "\n",
              "[10000 rows x 11 columns]"
            ],
            "text/html": [
              "\n",
              "  <div id=\"df-6639d31d-d3f0-4e60-b1d2-8221fedab0a3\" class=\"colab-df-container\">\n",
              "    <div>\n",
              "<style scoped>\n",
              "    .dataframe tbody tr th:only-of-type {\n",
              "        vertical-align: middle;\n",
              "    }\n",
              "\n",
              "    .dataframe tbody tr th {\n",
              "        vertical-align: top;\n",
              "    }\n",
              "\n",
              "    .dataframe thead th {\n",
              "        text-align: right;\n",
              "    }\n",
              "</style>\n",
              "<table border=\"1\" class=\"dataframe\">\n",
              "  <thead>\n",
              "    <tr style=\"text-align: right;\">\n",
              "      <th></th>\n",
              "      <th>CreditScore</th>\n",
              "      <th>Geography</th>\n",
              "      <th>Gender</th>\n",
              "      <th>Age</th>\n",
              "      <th>Tenure</th>\n",
              "      <th>Balance</th>\n",
              "      <th>NumOfProducts</th>\n",
              "      <th>HasCrCard</th>\n",
              "      <th>IsActiveMember</th>\n",
              "      <th>EstimatedSalary</th>\n",
              "      <th>Exited</th>\n",
              "    </tr>\n",
              "  </thead>\n",
              "  <tbody>\n",
              "    <tr>\n",
              "      <th>0</th>\n",
              "      <td>-0.326221</td>\n",
              "      <td>0</td>\n",
              "      <td>0</td>\n",
              "      <td>0.293517</td>\n",
              "      <td>-1.041760</td>\n",
              "      <td>-1.225848</td>\n",
              "      <td>1</td>\n",
              "      <td>1</td>\n",
              "      <td>1</td>\n",
              "      <td>0.021886</td>\n",
              "      <td>1</td>\n",
              "    </tr>\n",
              "    <tr>\n",
              "      <th>1</th>\n",
              "      <td>-0.440036</td>\n",
              "      <td>2</td>\n",
              "      <td>0</td>\n",
              "      <td>0.198164</td>\n",
              "      <td>-1.387538</td>\n",
              "      <td>0.117350</td>\n",
              "      <td>1</td>\n",
              "      <td>0</td>\n",
              "      <td>1</td>\n",
              "      <td>0.216534</td>\n",
              "      <td>0</td>\n",
              "    </tr>\n",
              "    <tr>\n",
              "      <th>2</th>\n",
              "      <td>-1.536794</td>\n",
              "      <td>0</td>\n",
              "      <td>0</td>\n",
              "      <td>0.293517</td>\n",
              "      <td>1.032908</td>\n",
              "      <td>1.333053</td>\n",
              "      <td>3</td>\n",
              "      <td>1</td>\n",
              "      <td>0</td>\n",
              "      <td>0.240687</td>\n",
              "      <td>1</td>\n",
              "    </tr>\n",
              "    <tr>\n",
              "      <th>3</th>\n",
              "      <td>0.501521</td>\n",
              "      <td>0</td>\n",
              "      <td>0</td>\n",
              "      <td>0.007457</td>\n",
              "      <td>-1.387538</td>\n",
              "      <td>-1.225848</td>\n",
              "      <td>2</td>\n",
              "      <td>0</td>\n",
              "      <td>0</td>\n",
              "      <td>-0.108918</td>\n",
              "      <td>0</td>\n",
              "    </tr>\n",
              "    <tr>\n",
              "      <th>4</th>\n",
              "      <td>2.063884</td>\n",
              "      <td>2</td>\n",
              "      <td>0</td>\n",
              "      <td>0.388871</td>\n",
              "      <td>-1.041760</td>\n",
              "      <td>0.785728</td>\n",
              "      <td>1</td>\n",
              "      <td>1</td>\n",
              "      <td>1</td>\n",
              "      <td>-0.365276</td>\n",
              "      <td>0</td>\n",
              "    </tr>\n",
              "    <tr>\n",
              "      <th>...</th>\n",
              "      <td>...</td>\n",
              "      <td>...</td>\n",
              "      <td>...</td>\n",
              "      <td>...</td>\n",
              "      <td>...</td>\n",
              "      <td>...</td>\n",
              "      <td>...</td>\n",
              "      <td>...</td>\n",
              "      <td>...</td>\n",
              "      <td>...</td>\n",
              "      <td>...</td>\n",
              "    </tr>\n",
              "    <tr>\n",
              "      <th>9995</th>\n",
              "      <td>1.246488</td>\n",
              "      <td>0</td>\n",
              "      <td>1</td>\n",
              "      <td>0.007457</td>\n",
              "      <td>-0.004426</td>\n",
              "      <td>-1.225848</td>\n",
              "      <td>2</td>\n",
              "      <td>1</td>\n",
              "      <td>0</td>\n",
              "      <td>-0.066419</td>\n",
              "      <td>0</td>\n",
              "    </tr>\n",
              "    <tr>\n",
              "      <th>9996</th>\n",
              "      <td>-1.391939</td>\n",
              "      <td>0</td>\n",
              "      <td>1</td>\n",
              "      <td>-0.373958</td>\n",
              "      <td>1.724464</td>\n",
              "      <td>-0.306379</td>\n",
              "      <td>1</td>\n",
              "      <td>1</td>\n",
              "      <td>1</td>\n",
              "      <td>0.027988</td>\n",
              "      <td>0</td>\n",
              "    </tr>\n",
              "    <tr>\n",
              "      <th>9997</th>\n",
              "      <td>0.604988</td>\n",
              "      <td>0</td>\n",
              "      <td>0</td>\n",
              "      <td>-0.278604</td>\n",
              "      <td>0.687130</td>\n",
              "      <td>-1.225848</td>\n",
              "      <td>1</td>\n",
              "      <td>0</td>\n",
              "      <td>1</td>\n",
              "      <td>-1.008643</td>\n",
              "      <td>1</td>\n",
              "    </tr>\n",
              "    <tr>\n",
              "      <th>9998</th>\n",
              "      <td>1.256835</td>\n",
              "      <td>1</td>\n",
              "      <td>1</td>\n",
              "      <td>0.293517</td>\n",
              "      <td>-0.695982</td>\n",
              "      <td>-0.022608</td>\n",
              "      <td>2</td>\n",
              "      <td>1</td>\n",
              "      <td>0</td>\n",
              "      <td>-0.125231</td>\n",
              "      <td>1</td>\n",
              "    </tr>\n",
              "    <tr>\n",
              "      <th>9999</th>\n",
              "      <td>1.463771</td>\n",
              "      <td>0</td>\n",
              "      <td>0</td>\n",
              "      <td>-1.041433</td>\n",
              "      <td>-0.350204</td>\n",
              "      <td>0.859965</td>\n",
              "      <td>1</td>\n",
              "      <td>1</td>\n",
              "      <td>0</td>\n",
              "      <td>-1.076370</td>\n",
              "      <td>0</td>\n",
              "    </tr>\n",
              "  </tbody>\n",
              "</table>\n",
              "<p>10000 rows × 11 columns</p>\n",
              "</div>\n",
              "    <div class=\"colab-df-buttons\">\n",
              "\n",
              "  <div class=\"colab-df-container\">\n",
              "    <button class=\"colab-df-convert\" onclick=\"convertToInteractive('df-6639d31d-d3f0-4e60-b1d2-8221fedab0a3')\"\n",
              "            title=\"Convert this dataframe to an interactive table.\"\n",
              "            style=\"display:none;\">\n",
              "\n",
              "  <svg xmlns=\"http://www.w3.org/2000/svg\" height=\"24px\" viewBox=\"0 -960 960 960\">\n",
              "    <path d=\"M120-120v-720h720v720H120Zm60-500h600v-160H180v160Zm220 220h160v-160H400v160Zm0 220h160v-160H400v160ZM180-400h160v-160H180v160Zm440 0h160v-160H620v160ZM180-180h160v-160H180v160Zm440 0h160v-160H620v160Z\"/>\n",
              "  </svg>\n",
              "    </button>\n",
              "\n",
              "  <style>\n",
              "    .colab-df-container {\n",
              "      display:flex;\n",
              "      gap: 12px;\n",
              "    }\n",
              "\n",
              "    .colab-df-convert {\n",
              "      background-color: #E8F0FE;\n",
              "      border: none;\n",
              "      border-radius: 50%;\n",
              "      cursor: pointer;\n",
              "      display: none;\n",
              "      fill: #1967D2;\n",
              "      height: 32px;\n",
              "      padding: 0 0 0 0;\n",
              "      width: 32px;\n",
              "    }\n",
              "\n",
              "    .colab-df-convert:hover {\n",
              "      background-color: #E2EBFA;\n",
              "      box-shadow: 0px 1px 2px rgba(60, 64, 67, 0.3), 0px 1px 3px 1px rgba(60, 64, 67, 0.15);\n",
              "      fill: #174EA6;\n",
              "    }\n",
              "\n",
              "    .colab-df-buttons div {\n",
              "      margin-bottom: 4px;\n",
              "    }\n",
              "\n",
              "    [theme=dark] .colab-df-convert {\n",
              "      background-color: #3B4455;\n",
              "      fill: #D2E3FC;\n",
              "    }\n",
              "\n",
              "    [theme=dark] .colab-df-convert:hover {\n",
              "      background-color: #434B5C;\n",
              "      box-shadow: 0px 1px 3px 1px rgba(0, 0, 0, 0.15);\n",
              "      filter: drop-shadow(0px 1px 2px rgba(0, 0, 0, 0.3));\n",
              "      fill: #FFFFFF;\n",
              "    }\n",
              "  </style>\n",
              "\n",
              "    <script>\n",
              "      const buttonEl =\n",
              "        document.querySelector('#df-6639d31d-d3f0-4e60-b1d2-8221fedab0a3 button.colab-df-convert');\n",
              "      buttonEl.style.display =\n",
              "        google.colab.kernel.accessAllowed ? 'block' : 'none';\n",
              "\n",
              "      async function convertToInteractive(key) {\n",
              "        const element = document.querySelector('#df-6639d31d-d3f0-4e60-b1d2-8221fedab0a3');\n",
              "        const dataTable =\n",
              "          await google.colab.kernel.invokeFunction('convertToInteractive',\n",
              "                                                    [key], {});\n",
              "        if (!dataTable) return;\n",
              "\n",
              "        const docLinkHtml = 'Like what you see? Visit the ' +\n",
              "          '<a target=\"_blank\" href=https://colab.research.google.com/notebooks/data_table.ipynb>data table notebook</a>'\n",
              "          + ' to learn more about interactive tables.';\n",
              "        element.innerHTML = '';\n",
              "        dataTable['output_type'] = 'display_data';\n",
              "        await google.colab.output.renderOutput(dataTable, element);\n",
              "        const docLink = document.createElement('div');\n",
              "        docLink.innerHTML = docLinkHtml;\n",
              "        element.appendChild(docLink);\n",
              "      }\n",
              "    </script>\n",
              "  </div>\n",
              "\n",
              "\n",
              "<div id=\"df-16751c47-806f-41ef-a954-e0ff394db57f\">\n",
              "  <button class=\"colab-df-quickchart\" onclick=\"quickchart('df-16751c47-806f-41ef-a954-e0ff394db57f')\"\n",
              "            title=\"Suggest charts\"\n",
              "            style=\"display:none;\">\n",
              "\n",
              "<svg xmlns=\"http://www.w3.org/2000/svg\" height=\"24px\"viewBox=\"0 0 24 24\"\n",
              "     width=\"24px\">\n",
              "    <g>\n",
              "        <path d=\"M19 3H5c-1.1 0-2 .9-2 2v14c0 1.1.9 2 2 2h14c1.1 0 2-.9 2-2V5c0-1.1-.9-2-2-2zM9 17H7v-7h2v7zm4 0h-2V7h2v10zm4 0h-2v-4h2v4z\"/>\n",
              "    </g>\n",
              "</svg>\n",
              "  </button>\n",
              "\n",
              "<style>\n",
              "  .colab-df-quickchart {\n",
              "      --bg-color: #E8F0FE;\n",
              "      --fill-color: #1967D2;\n",
              "      --hover-bg-color: #E2EBFA;\n",
              "      --hover-fill-color: #174EA6;\n",
              "      --disabled-fill-color: #AAA;\n",
              "      --disabled-bg-color: #DDD;\n",
              "  }\n",
              "\n",
              "  [theme=dark] .colab-df-quickchart {\n",
              "      --bg-color: #3B4455;\n",
              "      --fill-color: #D2E3FC;\n",
              "      --hover-bg-color: #434B5C;\n",
              "      --hover-fill-color: #FFFFFF;\n",
              "      --disabled-bg-color: #3B4455;\n",
              "      --disabled-fill-color: #666;\n",
              "  }\n",
              "\n",
              "  .colab-df-quickchart {\n",
              "    background-color: var(--bg-color);\n",
              "    border: none;\n",
              "    border-radius: 50%;\n",
              "    cursor: pointer;\n",
              "    display: none;\n",
              "    fill: var(--fill-color);\n",
              "    height: 32px;\n",
              "    padding: 0;\n",
              "    width: 32px;\n",
              "  }\n",
              "\n",
              "  .colab-df-quickchart:hover {\n",
              "    background-color: var(--hover-bg-color);\n",
              "    box-shadow: 0 1px 2px rgba(60, 64, 67, 0.3), 0 1px 3px 1px rgba(60, 64, 67, 0.15);\n",
              "    fill: var(--button-hover-fill-color);\n",
              "  }\n",
              "\n",
              "  .colab-df-quickchart-complete:disabled,\n",
              "  .colab-df-quickchart-complete:disabled:hover {\n",
              "    background-color: var(--disabled-bg-color);\n",
              "    fill: var(--disabled-fill-color);\n",
              "    box-shadow: none;\n",
              "  }\n",
              "\n",
              "  .colab-df-spinner {\n",
              "    border: 2px solid var(--fill-color);\n",
              "    border-color: transparent;\n",
              "    border-bottom-color: var(--fill-color);\n",
              "    animation:\n",
              "      spin 1s steps(1) infinite;\n",
              "  }\n",
              "\n",
              "  @keyframes spin {\n",
              "    0% {\n",
              "      border-color: transparent;\n",
              "      border-bottom-color: var(--fill-color);\n",
              "      border-left-color: var(--fill-color);\n",
              "    }\n",
              "    20% {\n",
              "      border-color: transparent;\n",
              "      border-left-color: var(--fill-color);\n",
              "      border-top-color: var(--fill-color);\n",
              "    }\n",
              "    30% {\n",
              "      border-color: transparent;\n",
              "      border-left-color: var(--fill-color);\n",
              "      border-top-color: var(--fill-color);\n",
              "      border-right-color: var(--fill-color);\n",
              "    }\n",
              "    40% {\n",
              "      border-color: transparent;\n",
              "      border-right-color: var(--fill-color);\n",
              "      border-top-color: var(--fill-color);\n",
              "    }\n",
              "    60% {\n",
              "      border-color: transparent;\n",
              "      border-right-color: var(--fill-color);\n",
              "    }\n",
              "    80% {\n",
              "      border-color: transparent;\n",
              "      border-right-color: var(--fill-color);\n",
              "      border-bottom-color: var(--fill-color);\n",
              "    }\n",
              "    90% {\n",
              "      border-color: transparent;\n",
              "      border-bottom-color: var(--fill-color);\n",
              "    }\n",
              "  }\n",
              "</style>\n",
              "\n",
              "  <script>\n",
              "    async function quickchart(key) {\n",
              "      const quickchartButtonEl =\n",
              "        document.querySelector('#' + key + ' button');\n",
              "      quickchartButtonEl.disabled = true;  // To prevent multiple clicks.\n",
              "      quickchartButtonEl.classList.add('colab-df-spinner');\n",
              "      try {\n",
              "        const charts = await google.colab.kernel.invokeFunction(\n",
              "            'suggestCharts', [key], {});\n",
              "      } catch (error) {\n",
              "        console.error('Error during call to suggestCharts:', error);\n",
              "      }\n",
              "      quickchartButtonEl.classList.remove('colab-df-spinner');\n",
              "      quickchartButtonEl.classList.add('colab-df-quickchart-complete');\n",
              "    }\n",
              "    (() => {\n",
              "      let quickchartButtonEl =\n",
              "        document.querySelector('#df-16751c47-806f-41ef-a954-e0ff394db57f button');\n",
              "      quickchartButtonEl.style.display =\n",
              "        google.colab.kernel.accessAllowed ? 'block' : 'none';\n",
              "    })();\n",
              "  </script>\n",
              "</div>\n",
              "\n",
              "  <div id=\"id_02a43995-ac76-4c4b-83f6-5b41778801cb\">\n",
              "    <style>\n",
              "      .colab-df-generate {\n",
              "        background-color: #E8F0FE;\n",
              "        border: none;\n",
              "        border-radius: 50%;\n",
              "        cursor: pointer;\n",
              "        display: none;\n",
              "        fill: #1967D2;\n",
              "        height: 32px;\n",
              "        padding: 0 0 0 0;\n",
              "        width: 32px;\n",
              "      }\n",
              "\n",
              "      .colab-df-generate:hover {\n",
              "        background-color: #E2EBFA;\n",
              "        box-shadow: 0px 1px 2px rgba(60, 64, 67, 0.3), 0px 1px 3px 1px rgba(60, 64, 67, 0.15);\n",
              "        fill: #174EA6;\n",
              "      }\n",
              "\n",
              "      [theme=dark] .colab-df-generate {\n",
              "        background-color: #3B4455;\n",
              "        fill: #D2E3FC;\n",
              "      }\n",
              "\n",
              "      [theme=dark] .colab-df-generate:hover {\n",
              "        background-color: #434B5C;\n",
              "        box-shadow: 0px 1px 3px 1px rgba(0, 0, 0, 0.15);\n",
              "        filter: drop-shadow(0px 1px 2px rgba(0, 0, 0, 0.3));\n",
              "        fill: #FFFFFF;\n",
              "      }\n",
              "    </style>\n",
              "    <button class=\"colab-df-generate\" onclick=\"generateWithVariable('silver_data')\"\n",
              "            title=\"Generate code using this dataframe.\"\n",
              "            style=\"display:none;\">\n",
              "\n",
              "  <svg xmlns=\"http://www.w3.org/2000/svg\" height=\"24px\"viewBox=\"0 0 24 24\"\n",
              "       width=\"24px\">\n",
              "    <path d=\"M7,19H8.4L18.45,9,17,7.55,7,17.6ZM5,21V16.75L18.45,3.32a2,2,0,0,1,2.83,0l1.4,1.43a1.91,1.91,0,0,1,.58,1.4,1.91,1.91,0,0,1-.58,1.4L9.25,21ZM18.45,9,17,7.55Zm-12,3A5.31,5.31,0,0,0,4.9,8.1,5.31,5.31,0,0,0,1,6.5,5.31,5.31,0,0,0,4.9,4.9,5.31,5.31,0,0,0,6.5,1,5.31,5.31,0,0,0,8.1,4.9,5.31,5.31,0,0,0,12,6.5,5.46,5.46,0,0,0,6.5,12Z\"/>\n",
              "  </svg>\n",
              "    </button>\n",
              "    <script>\n",
              "      (() => {\n",
              "      const buttonEl =\n",
              "        document.querySelector('#id_02a43995-ac76-4c4b-83f6-5b41778801cb button.colab-df-generate');\n",
              "      buttonEl.style.display =\n",
              "        google.colab.kernel.accessAllowed ? 'block' : 'none';\n",
              "\n",
              "      buttonEl.onclick = () => {\n",
              "        google.colab.notebook.generateWithVariable('silver_data');\n",
              "      }\n",
              "      })();\n",
              "    </script>\n",
              "  </div>\n",
              "\n",
              "    </div>\n",
              "  </div>\n"
            ],
            "application/vnd.google.colaboratory.intrinsic+json": {
              "type": "dataframe",
              "variable_name": "silver_data",
              "summary": "{\n  \"name\": \"silver_data\",\n  \"rows\": 10000,\n  \"fields\": [\n    {\n      \"column\": \"CreditScore\",\n      \"properties\": {\n        \"dtype\": \"number\",\n        \"std\": 1.0000500037503124,\n        \"min\": -3.1095040882937757,\n        \"max\": 2.063883767202561,\n        \"num_unique_values\": 460,\n        \"samples\": [\n          1.0705932989472646,\n          -1.2160441331821163,\n          0.9671255418373379\n        ],\n        \"semantic_type\": \"\",\n        \"description\": \"\"\n      }\n    },\n    {\n      \"column\": \"Geography\",\n      \"properties\": {\n        \"dtype\": \"number\",\n        \"std\": 0,\n        \"min\": 0,\n        \"max\": 2,\n        \"num_unique_values\": 3,\n        \"samples\": [\n          0,\n          2,\n          1\n        ],\n        \"semantic_type\": \"\",\n        \"description\": \"\"\n      }\n    },\n    {\n      \"column\": \"Gender\",\n      \"properties\": {\n        \"dtype\": \"number\",\n        \"std\": 0,\n        \"min\": 0,\n        \"max\": 1,\n        \"num_unique_values\": 2,\n        \"samples\": [\n          1,\n          0\n        ],\n        \"semantic_type\": \"\",\n        \"description\": \"\"\n      }\n    },\n    {\n      \"column\": \"Age\",\n      \"properties\": {\n        \"dtype\": \"number\",\n        \"std\": 1.0000500037503124,\n        \"min\": -1.9949687539344934,\n        \"max\": 5.0611969579618314,\n        \"num_unique_values\": 70,\n        \"samples\": [\n          2.105235646221479,\n          0.2935174228967471\n        ],\n        \"semantic_type\": \"\",\n        \"description\": \"\"\n      }\n    },\n    {\n      \"column\": \"Tenure\",\n      \"properties\": {\n        \"dtype\": \"number\",\n        \"std\": 1.0000500037503124,\n        \"min\": -1.7333154938995745,\n        \"max\": 1.7244635794717436,\n        \"num_unique_values\": 11,\n        \"samples\": [\n          0.3413519501232164,\n          -1.0417596792253108\n        ],\n        \"semantic_type\": \"\",\n        \"description\": \"\"\n      }\n    },\n    {\n      \"column\": \"Balance\",\n      \"properties\": {\n        \"dtype\": \"number\",\n        \"std\": 1.0000500037503124,\n        \"min\": -1.2258476714090278,\n        \"max\": 2.7953233217054723,\n        \"num_unique_values\": 6382,\n        \"samples\": [\n          0.6606581122631684,\n          0.9065747044239153\n        ],\n        \"semantic_type\": \"\",\n        \"description\": \"\"\n      }\n    },\n    {\n      \"column\": \"NumOfProducts\",\n      \"properties\": {\n        \"dtype\": \"number\",\n        \"std\": 0,\n        \"min\": 1,\n        \"max\": 4,\n        \"num_unique_values\": 4,\n        \"samples\": [\n          3,\n          4\n        ],\n        \"semantic_type\": \"\",\n        \"description\": \"\"\n      }\n    },\n    {\n      \"column\": \"HasCrCard\",\n      \"properties\": {\n        \"dtype\": \"number\",\n        \"std\": 0,\n        \"min\": 0,\n        \"max\": 1,\n        \"num_unique_values\": 2,\n        \"samples\": [\n          0,\n          1\n        ],\n        \"semantic_type\": \"\",\n        \"description\": \"\"\n      }\n    },\n    {\n      \"column\": \"IsActiveMember\",\n      \"properties\": {\n        \"dtype\": \"number\",\n        \"std\": 0,\n        \"min\": 0,\n        \"max\": 1,\n        \"num_unique_values\": 2,\n        \"samples\": [\n          0,\n          1\n        ],\n        \"semantic_type\": \"\",\n        \"description\": \"\"\n      }\n    },\n    {\n      \"column\": \"EstimatedSalary\",\n      \"properties\": {\n        \"dtype\": \"number\",\n        \"std\": 1.0000500037503124,\n        \"min\": -1.7402678934881386,\n        \"max\": 1.7372001301113063,\n        \"num_unique_values\": 9999,\n        \"samples\": [\n          0.012515735371750046,\n          -0.08375429401772011\n        ],\n        \"semantic_type\": \"\",\n        \"description\": \"\"\n      }\n    },\n    {\n      \"column\": \"Exited\",\n      \"properties\": {\n        \"dtype\": \"number\",\n        \"std\": 0,\n        \"min\": 0,\n        \"max\": 1,\n        \"num_unique_values\": 2,\n        \"samples\": [\n          0,\n          1\n        ],\n        \"semantic_type\": \"\",\n        \"description\": \"\"\n      }\n    }\n  ]\n}"
            }
          },
          "metadata": {}
        },
        {
          "output_type": "stream",
          "name": "stdout",
          "text": [
            "Created 2 rows and 7 columns from the silver data to the gold data.\n"
          ]
        },
        {
          "output_type": "display_data",
          "data": {
            "text/plain": [
              "       CreditScore             Balance                 Age           \\\n",
              "              mean       std      mean       std      mean      std   \n",
              "Exited                                                                \n",
              "0         0.013703  0.989709 -0.059951  1.007272 -0.144309  0.96549   \n",
              "1        -0.053568  1.038004  0.234359  0.935355  0.564131  0.93080   \n",
              "\n",
              "       NumOfProducts  \n",
              "               count  \n",
              "Exited                \n",
              "0               7963  \n",
              "1               2037  "
            ],
            "text/html": [
              "\n",
              "  <div id=\"df-778cae74-6c5a-4157-9057-d31e28ffe6c9\" class=\"colab-df-container\">\n",
              "    <div>\n",
              "<style scoped>\n",
              "    .dataframe tbody tr th:only-of-type {\n",
              "        vertical-align: middle;\n",
              "    }\n",
              "\n",
              "    .dataframe tbody tr th {\n",
              "        vertical-align: top;\n",
              "    }\n",
              "\n",
              "    .dataframe thead tr th {\n",
              "        text-align: left;\n",
              "    }\n",
              "\n",
              "    .dataframe thead tr:last-of-type th {\n",
              "        text-align: right;\n",
              "    }\n",
              "</style>\n",
              "<table border=\"1\" class=\"dataframe\">\n",
              "  <thead>\n",
              "    <tr>\n",
              "      <th></th>\n",
              "      <th colspan=\"2\" halign=\"left\">CreditScore</th>\n",
              "      <th colspan=\"2\" halign=\"left\">Balance</th>\n",
              "      <th colspan=\"2\" halign=\"left\">Age</th>\n",
              "      <th>NumOfProducts</th>\n",
              "    </tr>\n",
              "    <tr>\n",
              "      <th></th>\n",
              "      <th>mean</th>\n",
              "      <th>std</th>\n",
              "      <th>mean</th>\n",
              "      <th>std</th>\n",
              "      <th>mean</th>\n",
              "      <th>std</th>\n",
              "      <th>count</th>\n",
              "    </tr>\n",
              "    <tr>\n",
              "      <th>Exited</th>\n",
              "      <th></th>\n",
              "      <th></th>\n",
              "      <th></th>\n",
              "      <th></th>\n",
              "      <th></th>\n",
              "      <th></th>\n",
              "      <th></th>\n",
              "    </tr>\n",
              "  </thead>\n",
              "  <tbody>\n",
              "    <tr>\n",
              "      <th>0</th>\n",
              "      <td>0.013703</td>\n",
              "      <td>0.989709</td>\n",
              "      <td>-0.059951</td>\n",
              "      <td>1.007272</td>\n",
              "      <td>-0.144309</td>\n",
              "      <td>0.96549</td>\n",
              "      <td>7963</td>\n",
              "    </tr>\n",
              "    <tr>\n",
              "      <th>1</th>\n",
              "      <td>-0.053568</td>\n",
              "      <td>1.038004</td>\n",
              "      <td>0.234359</td>\n",
              "      <td>0.935355</td>\n",
              "      <td>0.564131</td>\n",
              "      <td>0.93080</td>\n",
              "      <td>2037</td>\n",
              "    </tr>\n",
              "  </tbody>\n",
              "</table>\n",
              "</div>\n",
              "    <div class=\"colab-df-buttons\">\n",
              "\n",
              "  <div class=\"colab-df-container\">\n",
              "    <button class=\"colab-df-convert\" onclick=\"convertToInteractive('df-778cae74-6c5a-4157-9057-d31e28ffe6c9')\"\n",
              "            title=\"Convert this dataframe to an interactive table.\"\n",
              "            style=\"display:none;\">\n",
              "\n",
              "  <svg xmlns=\"http://www.w3.org/2000/svg\" height=\"24px\" viewBox=\"0 -960 960 960\">\n",
              "    <path d=\"M120-120v-720h720v720H120Zm60-500h600v-160H180v160Zm220 220h160v-160H400v160Zm0 220h160v-160H400v160ZM180-400h160v-160H180v160Zm440 0h160v-160H620v160ZM180-180h160v-160H180v160Zm440 0h160v-160H620v160Z\"/>\n",
              "  </svg>\n",
              "    </button>\n",
              "\n",
              "  <style>\n",
              "    .colab-df-container {\n",
              "      display:flex;\n",
              "      gap: 12px;\n",
              "    }\n",
              "\n",
              "    .colab-df-convert {\n",
              "      background-color: #E8F0FE;\n",
              "      border: none;\n",
              "      border-radius: 50%;\n",
              "      cursor: pointer;\n",
              "      display: none;\n",
              "      fill: #1967D2;\n",
              "      height: 32px;\n",
              "      padding: 0 0 0 0;\n",
              "      width: 32px;\n",
              "    }\n",
              "\n",
              "    .colab-df-convert:hover {\n",
              "      background-color: #E2EBFA;\n",
              "      box-shadow: 0px 1px 2px rgba(60, 64, 67, 0.3), 0px 1px 3px 1px rgba(60, 64, 67, 0.15);\n",
              "      fill: #174EA6;\n",
              "    }\n",
              "\n",
              "    .colab-df-buttons div {\n",
              "      margin-bottom: 4px;\n",
              "    }\n",
              "\n",
              "    [theme=dark] .colab-df-convert {\n",
              "      background-color: #3B4455;\n",
              "      fill: #D2E3FC;\n",
              "    }\n",
              "\n",
              "    [theme=dark] .colab-df-convert:hover {\n",
              "      background-color: #434B5C;\n",
              "      box-shadow: 0px 1px 3px 1px rgba(0, 0, 0, 0.15);\n",
              "      filter: drop-shadow(0px 1px 2px rgba(0, 0, 0, 0.3));\n",
              "      fill: #FFFFFF;\n",
              "    }\n",
              "  </style>\n",
              "\n",
              "    <script>\n",
              "      const buttonEl =\n",
              "        document.querySelector('#df-778cae74-6c5a-4157-9057-d31e28ffe6c9 button.colab-df-convert');\n",
              "      buttonEl.style.display =\n",
              "        google.colab.kernel.accessAllowed ? 'block' : 'none';\n",
              "\n",
              "      async function convertToInteractive(key) {\n",
              "        const element = document.querySelector('#df-778cae74-6c5a-4157-9057-d31e28ffe6c9');\n",
              "        const dataTable =\n",
              "          await google.colab.kernel.invokeFunction('convertToInteractive',\n",
              "                                                    [key], {});\n",
              "        if (!dataTable) return;\n",
              "\n",
              "        const docLinkHtml = 'Like what you see? Visit the ' +\n",
              "          '<a target=\"_blank\" href=https://colab.research.google.com/notebooks/data_table.ipynb>data table notebook</a>'\n",
              "          + ' to learn more about interactive tables.';\n",
              "        element.innerHTML = '';\n",
              "        dataTable['output_type'] = 'display_data';\n",
              "        await google.colab.output.renderOutput(dataTable, element);\n",
              "        const docLink = document.createElement('div');\n",
              "        docLink.innerHTML = docLinkHtml;\n",
              "        element.appendChild(docLink);\n",
              "      }\n",
              "    </script>\n",
              "  </div>\n",
              "\n",
              "\n",
              "<div id=\"df-8b72f3fd-d318-4538-8639-702f8c29c4f5\">\n",
              "  <button class=\"colab-df-quickchart\" onclick=\"quickchart('df-8b72f3fd-d318-4538-8639-702f8c29c4f5')\"\n",
              "            title=\"Suggest charts\"\n",
              "            style=\"display:none;\">\n",
              "\n",
              "<svg xmlns=\"http://www.w3.org/2000/svg\" height=\"24px\"viewBox=\"0 0 24 24\"\n",
              "     width=\"24px\">\n",
              "    <g>\n",
              "        <path d=\"M19 3H5c-1.1 0-2 .9-2 2v14c0 1.1.9 2 2 2h14c1.1 0 2-.9 2-2V5c0-1.1-.9-2-2-2zM9 17H7v-7h2v7zm4 0h-2V7h2v10zm4 0h-2v-4h2v4z\"/>\n",
              "    </g>\n",
              "</svg>\n",
              "  </button>\n",
              "\n",
              "<style>\n",
              "  .colab-df-quickchart {\n",
              "      --bg-color: #E8F0FE;\n",
              "      --fill-color: #1967D2;\n",
              "      --hover-bg-color: #E2EBFA;\n",
              "      --hover-fill-color: #174EA6;\n",
              "      --disabled-fill-color: #AAA;\n",
              "      --disabled-bg-color: #DDD;\n",
              "  }\n",
              "\n",
              "  [theme=dark] .colab-df-quickchart {\n",
              "      --bg-color: #3B4455;\n",
              "      --fill-color: #D2E3FC;\n",
              "      --hover-bg-color: #434B5C;\n",
              "      --hover-fill-color: #FFFFFF;\n",
              "      --disabled-bg-color: #3B4455;\n",
              "      --disabled-fill-color: #666;\n",
              "  }\n",
              "\n",
              "  .colab-df-quickchart {\n",
              "    background-color: var(--bg-color);\n",
              "    border: none;\n",
              "    border-radius: 50%;\n",
              "    cursor: pointer;\n",
              "    display: none;\n",
              "    fill: var(--fill-color);\n",
              "    height: 32px;\n",
              "    padding: 0;\n",
              "    width: 32px;\n",
              "  }\n",
              "\n",
              "  .colab-df-quickchart:hover {\n",
              "    background-color: var(--hover-bg-color);\n",
              "    box-shadow: 0 1px 2px rgba(60, 64, 67, 0.3), 0 1px 3px 1px rgba(60, 64, 67, 0.15);\n",
              "    fill: var(--button-hover-fill-color);\n",
              "  }\n",
              "\n",
              "  .colab-df-quickchart-complete:disabled,\n",
              "  .colab-df-quickchart-complete:disabled:hover {\n",
              "    background-color: var(--disabled-bg-color);\n",
              "    fill: var(--disabled-fill-color);\n",
              "    box-shadow: none;\n",
              "  }\n",
              "\n",
              "  .colab-df-spinner {\n",
              "    border: 2px solid var(--fill-color);\n",
              "    border-color: transparent;\n",
              "    border-bottom-color: var(--fill-color);\n",
              "    animation:\n",
              "      spin 1s steps(1) infinite;\n",
              "  }\n",
              "\n",
              "  @keyframes spin {\n",
              "    0% {\n",
              "      border-color: transparent;\n",
              "      border-bottom-color: var(--fill-color);\n",
              "      border-left-color: var(--fill-color);\n",
              "    }\n",
              "    20% {\n",
              "      border-color: transparent;\n",
              "      border-left-color: var(--fill-color);\n",
              "      border-top-color: var(--fill-color);\n",
              "    }\n",
              "    30% {\n",
              "      border-color: transparent;\n",
              "      border-left-color: var(--fill-color);\n",
              "      border-top-color: var(--fill-color);\n",
              "      border-right-color: var(--fill-color);\n",
              "    }\n",
              "    40% {\n",
              "      border-color: transparent;\n",
              "      border-right-color: var(--fill-color);\n",
              "      border-top-color: var(--fill-color);\n",
              "    }\n",
              "    60% {\n",
              "      border-color: transparent;\n",
              "      border-right-color: var(--fill-color);\n",
              "    }\n",
              "    80% {\n",
              "      border-color: transparent;\n",
              "      border-right-color: var(--fill-color);\n",
              "      border-bottom-color: var(--fill-color);\n",
              "    }\n",
              "    90% {\n",
              "      border-color: transparent;\n",
              "      border-bottom-color: var(--fill-color);\n",
              "    }\n",
              "  }\n",
              "</style>\n",
              "\n",
              "  <script>\n",
              "    async function quickchart(key) {\n",
              "      const quickchartButtonEl =\n",
              "        document.querySelector('#' + key + ' button');\n",
              "      quickchartButtonEl.disabled = true;  // To prevent multiple clicks.\n",
              "      quickchartButtonEl.classList.add('colab-df-spinner');\n",
              "      try {\n",
              "        const charts = await google.colab.kernel.invokeFunction(\n",
              "            'suggestCharts', [key], {});\n",
              "      } catch (error) {\n",
              "        console.error('Error during call to suggestCharts:', error);\n",
              "      }\n",
              "      quickchartButtonEl.classList.remove('colab-df-spinner');\n",
              "      quickchartButtonEl.classList.add('colab-df-quickchart-complete');\n",
              "    }\n",
              "    (() => {\n",
              "      let quickchartButtonEl =\n",
              "        document.querySelector('#df-8b72f3fd-d318-4538-8639-702f8c29c4f5 button');\n",
              "      quickchartButtonEl.style.display =\n",
              "        google.colab.kernel.accessAllowed ? 'block' : 'none';\n",
              "    })();\n",
              "  </script>\n",
              "</div>\n",
              "\n",
              "  <div id=\"id_64a8b730-fc00-4e7a-aefa-879536aa1093\">\n",
              "    <style>\n",
              "      .colab-df-generate {\n",
              "        background-color: #E8F0FE;\n",
              "        border: none;\n",
              "        border-radius: 50%;\n",
              "        cursor: pointer;\n",
              "        display: none;\n",
              "        fill: #1967D2;\n",
              "        height: 32px;\n",
              "        padding: 0 0 0 0;\n",
              "        width: 32px;\n",
              "      }\n",
              "\n",
              "      .colab-df-generate:hover {\n",
              "        background-color: #E2EBFA;\n",
              "        box-shadow: 0px 1px 2px rgba(60, 64, 67, 0.3), 0px 1px 3px 1px rgba(60, 64, 67, 0.15);\n",
              "        fill: #174EA6;\n",
              "      }\n",
              "\n",
              "      [theme=dark] .colab-df-generate {\n",
              "        background-color: #3B4455;\n",
              "        fill: #D2E3FC;\n",
              "      }\n",
              "\n",
              "      [theme=dark] .colab-df-generate:hover {\n",
              "        background-color: #434B5C;\n",
              "        box-shadow: 0px 1px 3px 1px rgba(0, 0, 0, 0.15);\n",
              "        filter: drop-shadow(0px 1px 2px rgba(0, 0, 0, 0.3));\n",
              "        fill: #FFFFFF;\n",
              "      }\n",
              "    </style>\n",
              "    <button class=\"colab-df-generate\" onclick=\"generateWithVariable('gold_data')\"\n",
              "            title=\"Generate code using this dataframe.\"\n",
              "            style=\"display:none;\">\n",
              "\n",
              "  <svg xmlns=\"http://www.w3.org/2000/svg\" height=\"24px\"viewBox=\"0 0 24 24\"\n",
              "       width=\"24px\">\n",
              "    <path d=\"M7,19H8.4L18.45,9,17,7.55,7,17.6ZM5,21V16.75L18.45,3.32a2,2,0,0,1,2.83,0l1.4,1.43a1.91,1.91,0,0,1,.58,1.4,1.91,1.91,0,0,1-.58,1.4L9.25,21ZM18.45,9,17,7.55Zm-12,3A5.31,5.31,0,0,0,4.9,8.1,5.31,5.31,0,0,0,1,6.5,5.31,5.31,0,0,0,4.9,4.9,5.31,5.31,0,0,0,6.5,1,5.31,5.31,0,0,0,8.1,4.9,5.31,5.31,0,0,0,12,6.5,5.46,5.46,0,0,0,6.5,12Z\"/>\n",
              "  </svg>\n",
              "    </button>\n",
              "    <script>\n",
              "      (() => {\n",
              "      const buttonEl =\n",
              "        document.querySelector('#id_64a8b730-fc00-4e7a-aefa-879536aa1093 button.colab-df-generate');\n",
              "      buttonEl.style.display =\n",
              "        google.colab.kernel.accessAllowed ? 'block' : 'none';\n",
              "\n",
              "      buttonEl.onclick = () => {\n",
              "        google.colab.notebook.generateWithVariable('gold_data');\n",
              "      }\n",
              "      })();\n",
              "    </script>\n",
              "  </div>\n",
              "\n",
              "    </div>\n",
              "  </div>\n"
            ],
            "application/vnd.google.colaboratory.intrinsic+json": {
              "type": "dataframe",
              "variable_name": "gold_data",
              "summary": "{\n  \"name\": \"gold_data\",\n  \"rows\": 2,\n  \"fields\": [\n    {\n      \"column\": [\n        \"Exited\",\n        \"\"\n      ],\n      \"properties\": {\n        \"dtype\": \"number\",\n        \"std\": 0,\n        \"min\": 0,\n        \"max\": 1,\n        \"num_unique_values\": 2,\n        \"samples\": [\n          1,\n          0\n        ],\n        \"semantic_type\": \"\",\n        \"description\": \"\"\n      }\n    },\n    {\n      \"column\": [\n        \"CreditScore\",\n        \"mean\"\n      ],\n      \"properties\": {\n        \"dtype\": \"number\",\n        \"std\": 0.047568217634976234,\n        \"min\": -0.05356838982532522,\n        \"max\": 0.013703228691973204,\n        \"num_unique_values\": 2,\n        \"samples\": [\n          -0.05356838982532522,\n          0.013703228691973204\n        ],\n        \"semantic_type\": \"\",\n        \"description\": \"\"\n      }\n    },\n    {\n      \"column\": [\n        \"CreditScore\",\n        \"std\"\n      ],\n      \"properties\": {\n        \"dtype\": \"number\",\n        \"std\": 0.03414992640964507,\n        \"min\": 0.9897087978227652,\n        \"max\": 1.0380040869053284,\n        \"num_unique_values\": 2,\n        \"samples\": [\n          1.0380040869053284,\n          0.9897087978227652\n        ],\n        \"semantic_type\": \"\",\n        \"description\": \"\"\n      }\n    },\n    {\n      \"column\": [\n        \"Balance\",\n        \"mean\"\n      ],\n      \"properties\": {\n        \"dtype\": \"number\",\n        \"std\": 0.20810837538627883,\n        \"min\": -0.059950883224525825,\n        \"max\": 0.23435880369018092,\n        \"num_unique_values\": 2,\n        \"samples\": [\n          0.23435880369018092,\n          -0.059950883224525825\n        ],\n        \"semantic_type\": \"\",\n        \"description\": \"\"\n      }\n    },\n    {\n      \"column\": [\n        \"Balance\",\n        \"std\"\n      ],\n      \"properties\": {\n        \"dtype\": \"number\",\n        \"std\": 0.05085340718377378,\n        \"min\": 0.935354809790001,\n        \"max\": 1.0072723879221752,\n        \"num_unique_values\": 2,\n        \"samples\": [\n          0.935354809790001,\n          1.0072723879221752\n        ],\n        \"semantic_type\": \"\",\n        \"description\": \"\"\n      }\n    },\n    {\n      \"column\": [\n        \"Age\",\n        \"mean\"\n      ],\n      \"properties\": {\n        \"dtype\": \"number\",\n        \"std\": 0.5009426041378663,\n        \"min\": -0.14430919229999956,\n        \"max\": 0.5641306324422675,\n        \"num_unique_values\": 2,\n        \"samples\": [\n          0.5641306324422675,\n          -0.14430919229999956\n        ],\n        \"semantic_type\": \"\",\n        \"description\": \"\"\n      }\n    },\n    {\n      \"column\": [\n        \"Age\",\n        \"std\"\n      ],\n      \"properties\": {\n        \"dtype\": \"number\",\n        \"std\": 0.024529368460137785,\n        \"min\": 0.9307999451693936,\n        \"max\": 0.9654897107221673,\n        \"num_unique_values\": 2,\n        \"samples\": [\n          0.9307999451693936,\n          0.9654897107221673\n        ],\n        \"semantic_type\": \"\",\n        \"description\": \"\"\n      }\n    },\n    {\n      \"column\": [\n        \"NumOfProducts\",\n        \"count\"\n      ],\n      \"properties\": {\n        \"dtype\": \"number\",\n        \"std\": 4190,\n        \"min\": 2037,\n        \"max\": 7963,\n        \"num_unique_values\": 2,\n        \"samples\": [\n          2037,\n          7963\n        ],\n        \"semantic_type\": \"\",\n        \"description\": \"\"\n      }\n    }\n  ]\n}"
            }
          },
          "metadata": {}
        }
      ]
    },
    {
      "cell_type": "markdown",
      "source": [
        "## Step 3: Data Cleaning and Preprocessing\n",
        "- **Location:** Silver Layer\n",
        "- **Why:** The Silver Layer is for cleansed and transformed data, making it suitable for data cleaning and preprocessing to prepare data for analysis and modeling.\n",
        "\n"
      ],
      "metadata": {
        "nteract": {
          "transient": {
            "deleting": false
          }
        },
        "id": "99b13900-2a4f-40a8-964a-f4df58c7563e"
      },
      "id": "99b13900-2a4f-40a8-964a-f4df58c7563e"
    },
    {
      "cell_type": "code",
      "source": [
        "def clean_data(df):\n",
        "    # Drop rows with missing data across all columns\n",
        "    df.dropna(inplace=True)\n",
        "    # Drop duplicate rows in columns: 'RowNumber', 'CustomerId'\n",
        "    df.drop_duplicates(subset=['RowNumber', 'CustomerId'], inplace=True)\n",
        "    # Drop columns: 'RowNumber', 'CustomerId', 'Surname'\n",
        "    df.drop(columns=['RowNumber', 'CustomerId', 'Surname'], inplace=True)\n",
        "    return df\n",
        "\n",
        "df_clean = clean_data(df.copy())"
      ],
      "outputs": [
        {
          "output_type": "display_data",
          "data": {
            "application/vnd.livy.statement-meta+json": {
              "spark_pool": null,
              "session_id": "6a641aa0-deaf-4a58-90ef-f9f974aea84b",
              "statement_id": 55,
              "statement_ids": [
                55
              ],
              "state": "finished",
              "livy_statement_state": "available",
              "queued_time": "2024-05-08T18:52:50.8486066Z",
              "session_start_time": null,
              "execution_start_time": "2024-05-08T18:53:06.6865882Z",
              "execution_finish_time": "2024-05-08T18:53:06.9538989Z",
              "parent_msg_id": "061778bc-f143-4e66-8036-78440b3e2fd1"
            },
            "text/plain": "StatementMeta(, 6a641aa0-deaf-4a58-90ef-f9f974aea84b, 55, Finished, Available)"
          },
          "metadata": {}
        }
      ],
      "execution_count": null,
      "metadata": {
        "jupyter": {
          "outputs_hidden": false,
          "source_hidden": false
        },
        "nteract": {
          "transient": {
            "deleting": false
          }
        },
        "id": "18014588-2616-4753-8c17-b115aab07310",
        "outputId": "ca764fcb-bf3c-4ad4-9c3f-2a668ceb3362"
      },
      "id": "18014588-2616-4753-8c17-b115aab07310"
    },
    {
      "cell_type": "code",
      "source": [
        "# if IS_SAMPLE is True, use only SAMPLE_ROWS of rows for training\n",
        "if IS_SAMPLE:\n",
        "    df_clean = df_clean.limit(SAMPLE_ROWS)"
      ],
      "outputs": [
        {
          "output_type": "display_data",
          "data": {
            "application/vnd.livy.statement-meta+json": {
              "spark_pool": null,
              "session_id": "6a641aa0-deaf-4a58-90ef-f9f974aea84b",
              "statement_id": 56,
              "statement_ids": [
                56
              ],
              "state": "finished",
              "livy_statement_state": "available",
              "queued_time": "2024-05-08T18:52:52.0144141Z",
              "session_start_time": null,
              "execution_start_time": "2024-05-08T18:53:07.5066769Z",
              "execution_finish_time": "2024-05-08T18:53:07.7657301Z",
              "parent_msg_id": "00183eb5-c385-4110-b5c9-f8ceb00d01d7"
            },
            "text/plain": "StatementMeta(, 6a641aa0-deaf-4a58-90ef-f9f974aea84b, 56, Finished, Available)"
          },
          "metadata": {}
        }
      ],
      "execution_count": null,
      "metadata": {
        "jupyter": {
          "outputs_hidden": false,
          "source_hidden": false
        },
        "nteract": {
          "transient": {
            "deleting": false
          }
        },
        "id": "4e92aa6e-bf04-49e6-b4d4-bb3373f09ae3",
        "outputId": "60bf821c-f503-486f-8eb6-d8a5caf27654"
      },
      "id": "4e92aa6e-bf04-49e6-b4d4-bb3373f09ae3"
    },
    {
      "cell_type": "markdown",
      "source": [
        "## Step 4: Data Augumentation - Demonstrated in Step 7\n",
        "\n",
        "- **Location:** Silver Layer\n",
        "- **Why:** Data augmentation typically takes place after initial data cleaning and preprocessing (still in the Silver layer) because it requires a processed dataset to generate meaningful synthetic data. The augmented dataset is then used for training models, which is also a part of the Silver layer activities before moving the trained models and their insights into the Gold layer for deployment and decision-making."
      ],
      "metadata": {
        "id": "xEWwgOhrnobz"
      },
      "id": "xEWwgOhrnobz"
    },
    {
      "cell_type": "markdown",
      "source": [
        "## Step 5: Data Analysis and Exploratory Data Analysis (EDA)\n",
        "- **Location:** Silver Layer\n",
        "- **Why:** EDA involves analyzing the cleansed and processed data to uncover patterns and check assumptions, suited to the Silver Layer."
      ],
      "metadata": {
        "nteract": {
          "transient": {
            "deleting": false
          }
        },
        "id": "44379940-befb-4b21-a377-41ba78366ca3"
      },
      "id": "44379940-befb-4b21-a377-41ba78366ca3"
    },
    {
      "cell_type": "markdown",
      "source": [
        "### Display raw data\n",
        "\n",
        "Explore the raw data with `display`, do some basic statistics and show chart views. You first need to import required libraries for data visualization such as `seaborn` which is a Python data visualization library to provide a high-level interface for building visuals on dataframes and arrays. Learn more about [`seaborn`](https://seaborn.pydata.org/)."
      ],
      "metadata": {
        "nteract": {
          "transient": {
            "deleting": false
          }
        },
        "id": "cf0eb500-e05e-4e62-b297-0189a31d1037"
      },
      "id": "cf0eb500-e05e-4e62-b297-0189a31d1037"
    },
    {
      "cell_type": "code",
      "source": [
        "import seaborn as sns\n",
        "sns.set_theme(style=\"whitegrid\", palette=\"tab10\", rc = {'figure.figsize':(9,6)})\n",
        "import matplotlib.pyplot as plt\n",
        "import matplotlib.ticker as mticker\n",
        "from matplotlib import rc, rcParams\n",
        "import numpy as np\n",
        "import pandas as pd\n",
        "import itertools"
      ],
      "outputs": [
        {
          "output_type": "display_data",
          "data": {
            "application/vnd.livy.statement-meta+json": {
              "spark_pool": null,
              "session_id": "6a641aa0-deaf-4a58-90ef-f9f974aea84b",
              "statement_id": 57,
              "statement_ids": [
                57
              ],
              "state": "finished",
              "livy_statement_state": "available",
              "queued_time": "2024-05-08T18:52:53.8824923Z",
              "session_start_time": null,
              "execution_start_time": "2024-05-08T18:53:08.2719194Z",
              "execution_finish_time": "2024-05-08T18:53:09.1033013Z",
              "parent_msg_id": "1c8d252d-e73c-45b7-ba79-9fb844630bbf"
            },
            "text/plain": "StatementMeta(, 6a641aa0-deaf-4a58-90ef-f9f974aea84b, 57, Finished, Available)"
          },
          "metadata": {}
        }
      ],
      "execution_count": null,
      "metadata": {
        "jupyter": {
          "outputs_hidden": false,
          "source_hidden": false
        },
        "nteract": {
          "transient": {
            "deleting": false
          }
        },
        "id": "73290de5-ed00-415a-b546-5f4a7586cff7",
        "outputId": "b807b49b-270a-4d7d-c032-d1c3eb0c3394"
      },
      "id": "73290de5-ed00-415a-b546-5f4a7586cff7"
    },
    {
      "cell_type": "code",
      "source": [
        "display(df, summary=True)"
      ],
      "outputs": [
        {
          "output_type": "display_data",
          "data": {
            "application/vnd.livy.statement-meta+json": {
              "spark_pool": null,
              "session_id": "6a641aa0-deaf-4a58-90ef-f9f974aea84b",
              "statement_id": 58,
              "statement_ids": [
                58
              ],
              "state": "finished",
              "livy_statement_state": "available",
              "queued_time": "2024-05-08T18:52:53.9984359Z",
              "session_start_time": null,
              "execution_start_time": "2024-05-08T18:53:09.616921Z",
              "execution_finish_time": "2024-05-08T18:53:12.1763596Z",
              "parent_msg_id": "30f6d483-d920-4245-9000-d2b22898676b"
            },
            "text/plain": "StatementMeta(, 6a641aa0-deaf-4a58-90ef-f9f974aea84b, 58, Finished, Available)"
          },
          "metadata": {}
        },
        {
          "output_type": "display_data",
          "data": {
            "application/vnd.synapse.widget-view+json": {
              "widget_id": "13421cb3-ab69-482e-927c-3cda6d8f452f",
              "widget_type": "Synapse.DataFrame"
            },
            "text/plain": "SynapseWidget(Synapse.DataFrame, 13421cb3-ab69-482e-927c-3cda6d8f452f)"
          },
          "metadata": {}
        }
      ],
      "execution_count": null,
      "metadata": {
        "jupyter": {
          "outputs_hidden": false,
          "source_hidden": false
        },
        "nteract": {
          "transient": {
            "deleting": false
          }
        },
        "id": "7e4e1172-c117-4a3e-8d40-e3c983f750c9",
        "outputId": "0b02b106-5b4f-48f7-d9bf-e413fa474449"
      },
      "id": "7e4e1172-c117-4a3e-8d40-e3c983f750c9"
    },
    {
      "cell_type": "markdown",
      "source": [
        "##### Determine attributes\n",
        "\n",
        "Use this code to determine categorical, numerical, and target attributes."
      ],
      "metadata": {
        "nteract": {
          "transient": {
            "deleting": false
          }
        },
        "id": "2922660b-dd45-4c2d-8a75-7431fefffb0c"
      },
      "id": "2922660b-dd45-4c2d-8a75-7431fefffb0c"
    },
    {
      "cell_type": "code",
      "source": [
        "# Determine the dependent (target) attribute\n",
        "dependent_variable_name = \"Exited\"\n",
        "print(dependent_variable_name)\n",
        "# Determine the categorical attributes\n",
        "categorical_variables = [col for col in df_clean.columns if col in \"O\"\n",
        "                        or df_clean[col].nunique() <=5\n",
        "                        and col not in \"Exited\"]\n",
        "print(categorical_variables)\n",
        "# Determine the numerical attributes\n",
        "numeric_variables = [col for col in df_clean.columns if df_clean[col].dtype != \"object\"\n",
        "                        and df_clean[col].nunique() >5]\n",
        "print(numeric_variables)"
      ],
      "outputs": [
        {
          "output_type": "display_data",
          "data": {
            "application/vnd.livy.statement-meta+json": {
              "spark_pool": null,
              "session_id": "6a641aa0-deaf-4a58-90ef-f9f974aea84b",
              "statement_id": 59,
              "statement_ids": [
                59
              ],
              "state": "finished",
              "livy_statement_state": "available",
              "queued_time": "2024-05-08T18:52:54.9503255Z",
              "session_start_time": null,
              "execution_start_time": "2024-05-08T18:53:12.7075206Z",
              "execution_finish_time": "2024-05-08T18:53:12.9609552Z",
              "parent_msg_id": "5d787373-af4b-4df5-822c-e033fd0a537d"
            },
            "text/plain": "StatementMeta(, 6a641aa0-deaf-4a58-90ef-f9f974aea84b, 59, Finished, Available)"
          },
          "metadata": {}
        },
        {
          "output_type": "stream",
          "name": "stdout",
          "text": [
            "Exited\n['Geography', 'Gender', 'NumOfProducts', 'HasCrCard', 'IsActiveMember']\n['CreditScore', 'Age', 'Tenure', 'Balance', 'EstimatedSalary']\n"
          ]
        }
      ],
      "execution_count": null,
      "metadata": {
        "jupyter": {
          "outputs_hidden": false,
          "source_hidden": false
        },
        "nteract": {
          "transient": {
            "deleting": false
          }
        },
        "id": "3adb4922-607e-4f4e-bdb2-bda535acb94c",
        "outputId": "27ce8b40-b31c-4aa3-f5a6-f2d7349d719f"
      },
      "id": "3adb4922-607e-4f4e-bdb2-bda535acb94c"
    },
    {
      "cell_type": "markdown",
      "source": [
        "\n",
        "##### The five-number summary\n",
        "\n",
        "Show the five-number summary (the minimum score, first quartile, median, third quartile, the maximum score) for the numerical attributes, using box plots."
      ],
      "metadata": {
        "nteract": {
          "transient": {
            "deleting": false
          }
        },
        "id": "0640a89c-6a64-4978-89f1-5a45cdd1303e"
      },
      "id": "0640a89c-6a64-4978-89f1-5a45cdd1303e"
    },
    {
      "cell_type": "code",
      "source": [
        "df_num_cols = df_clean[numeric_variables]\n",
        "sns.set(font_scale = 0.7)\n",
        "fig, axes = plt.subplots(nrows = 2, ncols = 3, gridspec_kw =  dict(hspace=0.3), figsize = (17,8))\n",
        "fig.tight_layout()\n",
        "for ax,col in zip(axes.flatten(), df_num_cols.columns):\n",
        "    sns.boxplot(x = df_num_cols[col], color='green', ax = ax)\n",
        "# fig.suptitle('visualize and compare the distribution and central tendency of numerical attributes', color = 'k', fontsize = 12)\n",
        "fig.delaxes(axes[1,2])\n"
      ],
      "outputs": [
        {
          "output_type": "display_data",
          "data": {
            "application/vnd.livy.statement-meta+json": {
              "spark_pool": null,
              "session_id": "6a641aa0-deaf-4a58-90ef-f9f974aea84b",
              "statement_id": 60,
              "statement_ids": [
                60
              ],
              "state": "finished",
              "livy_statement_state": "available",
              "queued_time": "2024-05-08T18:52:55.5589564Z",
              "session_start_time": null,
              "execution_start_time": "2024-05-08T18:53:13.4724154Z",
              "execution_finish_time": "2024-05-08T18:53:15.115177Z",
              "parent_msg_id": "6465f75b-2c65-4e88-9395-23ba2ec5d959"
            },
            "text/plain": "StatementMeta(, 6a641aa0-deaf-4a58-90ef-f9f974aea84b, 60, Finished, Available)"
          },
          "metadata": {}
        },
        {
          "output_type": "stream",
          "name": "stderr",
          "text": [
            "/tmp/ipykernel_19629/2095287195.py:4: UserWarning: This figure includes Axes that are not compatible with tight_layout, so results might be incorrect.\n  fig.tight_layout()\n"
          ]
        },
        {
          "output_type": "display_data",
          "data": {
            "text/plain": "<Figure size 1700x800 with 5 Axes>",
            "image/png": "[encoded data removed]"
          },
          "metadata": {}
        }
      ],
      "execution_count": null,
      "metadata": {
        "jupyter": {
          "outputs_hidden": false,
          "source_hidden": false
        },
        "nteract": {
          "transient": {
            "deleting": false
          }
        },
        "id": "f45982d4-de27-43b5-b826-e93730d7e66c",
        "outputId": "e100d89e-5aa0-4b2a-f2b8-e6fa3b38a01a"
      },
      "id": "f45982d4-de27-43b5-b826-e93730d7e66c"
    },
    {
      "cell_type": "markdown",
      "source": [
        "##### Distribution of exited and non-exited customers\n",
        "\n",
        "Show the distribution of exited versus non-exited customers across the categorical attributes."
      ],
      "metadata": {
        "nteract": {
          "transient": {
            "deleting": false
          }
        },
        "id": "a320fd15-64eb-493e-9b60-500ad4535435"
      },
      "id": "a320fd15-64eb-493e-9b60-500ad4535435"
    },
    {
      "cell_type": "code",
      "source": [
        "attr_list = ['Geography', 'Gender', 'HasCrCard', 'IsActiveMember', 'NumOfProducts', 'Tenure']\n",
        "fig, axarr = plt.subplots(2, 3, figsize=(15, 4))\n",
        "for ind, item in enumerate (attr_list):\n",
        "    sns.countplot(x = item, hue = 'Exited', data = df_clean, ax = axarr[ind%2][ind//2])\n",
        "fig.subplots_adjust(hspace=0.7)"
      ],
      "outputs": [
        {
          "output_type": "display_data",
          "data": {
            "application/vnd.livy.statement-meta+json": {
              "spark_pool": null,
              "session_id": "6a641aa0-deaf-4a58-90ef-f9f974aea84b",
              "statement_id": 61,
              "statement_ids": [
                61
              ],
              "state": "finished",
              "livy_statement_state": "available",
              "queued_time": "2024-05-08T18:52:56.3738677Z",
              "session_start_time": null,
              "execution_start_time": "2024-05-08T18:53:15.7164144Z",
              "execution_finish_time": "2024-05-08T18:53:17.6038796Z",
              "parent_msg_id": "22a01030-2c2c-4c4b-9286-85dc7cbf3929"
            },
            "text/plain": "StatementMeta(, 6a641aa0-deaf-4a58-90ef-f9f974aea84b, 61, Finished, Available)"
          },
          "metadata": {}
        },
        {
          "output_type": "display_data",
          "data": {
            "text/plain": "<Figure size 1500x400 with 6 Axes>",
            "image/png": "[encoded data removed]"
          },
          "metadata": {}
        }
      ],
      "execution_count": null,
      "metadata": {
        "jupyter": {
          "outputs_hidden": false,
          "source_hidden": false
        },
        "nteract": {
          "transient": {
            "deleting": false
          }
        },
        "id": "c4811cab-6cdc-4014-a0ab-8f90232e6603",
        "outputId": "32532397-471c-49fe-d10a-29fae55992a5"
      },
      "id": "c4811cab-6cdc-4014-a0ab-8f90232e6603"
    },
    {
      "cell_type": "markdown",
      "source": [
        "##### Distribution of numerical attributes\n",
        "\n",
        "Show the the frequency distribution of numerical attributes using histogram.\n"
      ],
      "metadata": {
        "nteract": {
          "transient": {
            "deleting": false
          }
        },
        "id": "5075fddc-1cce-4c64-8d17-499a309440d7"
      },
      "id": "5075fddc-1cce-4c64-8d17-499a309440d7"
    },
    {
      "cell_type": "code",
      "source": [
        "columns = df_num_cols.columns[: len(df_num_cols.columns)]\n",
        "fig = plt.figure()\n",
        "fig.set_size_inches(18, 8)\n",
        "length = len(columns)\n",
        "for i,j in itertools.zip_longest(columns, range(length)):\n",
        "    plt.subplot((length // 2), 3, j+1)\n",
        "    plt.subplots_adjust(wspace = 0.2, hspace = 0.5)\n",
        "    df_num_cols[i].hist(bins = 20, edgecolor = 'black')\n",
        "    plt.title(i)\n",
        "# fig = fig.suptitle('distribution of numerical attributes', color = 'r' ,fontsize = 14)\n",
        "plt.show()"
      ],
      "outputs": [
        {
          "output_type": "display_data",
          "data": {
            "application/vnd.livy.statement-meta+json": {
              "spark_pool": null,
              "session_id": "6a641aa0-deaf-4a58-90ef-f9f974aea84b",
              "statement_id": 62,
              "statement_ids": [
                62
              ],
              "state": "finished",
              "livy_statement_state": "available",
              "queued_time": "2024-05-08T18:52:57.6680124Z",
              "session_start_time": null,
              "execution_start_time": "2024-05-08T18:53:18.1077464Z",
              "execution_finish_time": "2024-05-08T18:53:19.7117377Z",
              "parent_msg_id": "b94a1a4e-e79c-4061-aaca-0966e9273d9d"
            },
            "text/plain": "StatementMeta(, 6a641aa0-deaf-4a58-90ef-f9f974aea84b, 62, Finished, Available)"
          },
          "metadata": {}
        },
        {
          "output_type": "display_data",
          "data": {
            "text/plain": "<Figure size 1800x800 with 5 Axes>",
            "image/png": "[encoded data removed]"
          },
          "metadata": {}
        }
      ],
      "execution_count": null,
      "metadata": {
        "jupyter": {
          "outputs_hidden": false,
          "source_hidden": false
        },
        "nteract": {
          "transient": {
            "deleting": false
          }
        },
        "id": "8626b081-a301-4cfa-9db3-38ab8524879d",
        "outputId": "cc0500d0-7adf-4534-e088-23935dfed0bd"
      },
      "id": "8626b081-a301-4cfa-9db3-38ab8524879d"
    },
    {
      "cell_type": "markdown",
      "source": [
        "### Summary of observations from the exploratory data analysis\n",
        "\n",
        "- Most of the customers are from France comparing to Spain and Germany, while Spain has the lower churn rate comparing to France and Germany.\n",
        "- Most of the customers have credit cards.\n",
        "- There are customers whose age and credit score are above 60 and below 400, respectively, but they can't be considered as outliers.\n",
        "- Very few customers have more than two of the bank's products.\n",
        "- Customers who aren't active have a higher churn rate.\n",
        "- Gender and tenure years don't seem to have an impact on customer's decision to close the bank account."
      ],
      "metadata": {
        "id": "1efc8976-b1e1-4c85-b4ee-8dd29040ca02"
      },
      "id": "1efc8976-b1e1-4c85-b4ee-8dd29040ca02"
    },
    {
      "cell_type": "markdown",
      "source": [
        "## Step 6: Feature Engineering\n",
        "- **Location:** Silver Layer\n",
        "- **Why:** Continues in the Silver Layer where new features are created from existing data to enhance the dataset further for predictive modeling."
      ],
      "metadata": {
        "nteract": {
          "transient": {
            "deleting": false
          }
        },
        "id": "945e1166-0e88-4baa-ac2c-b56b7eeeb7c4"
      },
      "id": "945e1166-0e88-4baa-ac2c-b56b7eeeb7c4"
    },
    {
      "cell_type": "markdown",
      "source": [
        "![image (8).png](attachment:8a2c049a-444f-4a25-b058-41a7db8ca4df.png)"
      ],
      "metadata": {
        "nteract": {
          "transient": {
            "deleting": false
          }
        },
        "id": "8623ceb3-e920-495b-b208-424dd9c88f15"
      },
      "id": "8623ceb3-e920-495b-b208-424dd9c88f15"
    },
    {
      "cell_type": "code",
      "source": [
        "df_clean = pd.get_dummies(df_clean, columns=['Geography', 'Gender'])"
      ],
      "outputs": [
        {
          "output_type": "display_data",
          "data": {
            "application/vnd.livy.statement-meta+json": {
              "spark_pool": null,
              "session_id": "6a641aa0-deaf-4a58-90ef-f9f974aea84b",
              "statement_id": 63,
              "statement_ids": [
                63
              ],
              "state": "finished",
              "livy_statement_state": "available",
              "queued_time": "2024-05-08T18:53:02.7455006Z",
              "session_start_time": null,
              "execution_start_time": "2024-05-08T18:53:20.245713Z",
              "execution_finish_time": "2024-05-08T18:53:20.5068098Z",
              "parent_msg_id": "e8997135-f019-4ad8-8cab-c72065e83bd6"
            },
            "text/plain": "StatementMeta(, 6a641aa0-deaf-4a58-90ef-f9f974aea84b, 63, Finished, Available)"
          },
          "metadata": {}
        }
      ],
      "execution_count": null,
      "metadata": {
        "jupyter": {
          "outputs_hidden": false,
          "source_hidden": false
        },
        "nteract": {
          "transient": {
            "deleting": false
          }
        },
        "id": "2b924a18-faf5-4b0b-8b57-3480f2f93083",
        "outputId": "e3c3426f-c3bf-4f73-bf9a-f265ac1723da"
      },
      "id": "2b924a18-faf5-4b0b-8b57-3480f2f93083"
    },
    {
      "cell_type": "code",
      "source": [
        "df_clean.head()"
      ],
      "outputs": [
        {
          "output_type": "display_data",
          "data": {
            "application/vnd.livy.statement-meta+json": {
              "spark_pool": null,
              "session_id": "6a641aa0-deaf-4a58-90ef-f9f974aea84b",
              "statement_id": 64,
              "statement_ids": [
                64
              ],
              "state": "finished",
              "livy_statement_state": "available",
              "queued_time": "2024-05-08T18:53:03.9137856Z",
              "session_start_time": null,
              "execution_start_time": "2024-05-08T18:53:21.02068Z",
              "execution_finish_time": "2024-05-08T18:53:21.2993807Z",
              "parent_msg_id": "3f918ea3-1fb1-4f59-b447-792db0750f8e"
            },
            "text/plain": "StatementMeta(, 6a641aa0-deaf-4a58-90ef-f9f974aea84b, 64, Finished, Available)"
          },
          "metadata": {}
        },
        {
          "output_type": "execute_result",
          "execution_count": 49,
          "data": {
            "text/plain": "   CreditScore  Age  Tenure    Balance  NumOfProducts  HasCrCard  \\\n0          619   42       2       0.00              1          1   \n1          608   41       1   83807.86              1          0   \n2          502   42       8  159660.80              3          1   \n3          699   39       1       0.00              2          0   \n4          850   43       2  125510.82              1          1   \n\n   IsActiveMember  EstimatedSalary  Exited  Geography_France  \\\n0               1        101348.88       1              True   \n1               1        112542.58       0             False   \n2               0        113931.57       1              True   \n3               0         93826.63       0              True   \n4               1         79084.10       0             False   \n\n   Geography_Germany  Geography_Spain  Gender_Female  Gender_Male  \n0              False            False           True        False  \n1              False             True           True        False  \n2              False            False           True        False  \n3              False            False           True        False  \n4              False             True           True        False  ",
            "text/html": "<div>\n<style scoped>\n    .dataframe tbody tr th:only-of-type {\n        vertical-align: middle;\n    }\n\n    .dataframe tbody tr th {\n        vertical-align: top;\n    }\n\n    .dataframe thead th {\n        text-align: right;\n    }\n</style>\n<table border=\"1\" class=\"dataframe\">\n  <thead>\n    <tr style=\"text-align: right;\">\n      <th></th>\n      <th>CreditScore</th>\n      <th>Age</th>\n      <th>Tenure</th>\n      <th>Balance</th>\n      <th>NumOfProducts</th>\n      <th>HasCrCard</th>\n      <th>IsActiveMember</th>\n      <th>EstimatedSalary</th>\n      <th>Exited</th>\n      <th>Geography_France</th>\n      <th>Geography_Germany</th>\n      <th>Geography_Spain</th>\n      <th>Gender_Female</th>\n      <th>Gender_Male</th>\n    </tr>\n  </thead>\n  <tbody>\n    <tr>\n      <th>0</th>\n      <td>619</td>\n      <td>42</td>\n      <td>2</td>\n      <td>0.00</td>\n      <td>1</td>\n      <td>1</td>\n      <td>1</td>\n      <td>101348.88</td>\n      <td>1</td>\n      <td>True</td>\n      <td>False</td>\n      <td>False</td>\n      <td>True</td>\n      <td>False</td>\n    </tr>\n    <tr>\n      <th>1</th>\n      <td>608</td>\n      <td>41</td>\n      <td>1</td>\n      <td>83807.86</td>\n      <td>1</td>\n      <td>0</td>\n      <td>1</td>\n      <td>112542.58</td>\n      <td>0</td>\n      <td>False</td>\n      <td>False</td>\n      <td>True</td>\n      <td>True</td>\n      <td>False</td>\n    </tr>\n    <tr>\n      <th>2</th>\n      <td>502</td>\n      <td>42</td>\n      <td>8</td>\n      <td>159660.80</td>\n      <td>3</td>\n      <td>1</td>\n      <td>0</td>\n      <td>113931.57</td>\n      <td>1</td>\n      <td>True</td>\n      <td>False</td>\n      <td>False</td>\n      <td>True</td>\n      <td>False</td>\n    </tr>\n    <tr>\n      <th>3</th>\n      <td>699</td>\n      <td>39</td>\n      <td>1</td>\n      <td>0.00</td>\n      <td>2</td>\n      <td>0</td>\n      <td>0</td>\n      <td>93826.63</td>\n      <td>0</td>\n      <td>True</td>\n      <td>False</td>\n      <td>False</td>\n      <td>True</td>\n      <td>False</td>\n    </tr>\n    <tr>\n      <th>4</th>\n      <td>850</td>\n      <td>43</td>\n      <td>2</td>\n      <td>125510.82</td>\n      <td>1</td>\n      <td>1</td>\n      <td>1</td>\n      <td>79084.10</td>\n      <td>0</td>\n      <td>False</td>\n      <td>False</td>\n      <td>True</td>\n      <td>True</td>\n      <td>False</td>\n    </tr>\n  </tbody>\n</table>\n</div>"
          },
          "metadata": {}
        }
      ],
      "execution_count": null,
      "metadata": {
        "jupyter": {
          "source_hidden": false,
          "outputs_hidden": false
        },
        "nteract": {
          "transient": {
            "deleting": false
          }
        },
        "id": "0cbd5a11-0b9e-4af1-9b5c-2bac3b6b9182",
        "outputId": "e571c496-e0cd-4763-b8a7-622e5336983c"
      },
      "id": "0cbd5a11-0b9e-4af1-9b5c-2bac3b6b9182"
    },
    {
      "cell_type": "code",
      "source": [
        "df_clean[\"NewTenure\"] = df_clean[\"Tenure\"]/df_clean[\"Age\"]\n",
        "df_clean[\"NewCreditsScore\"] = pd.qcut(df_clean['CreditScore'], 6, labels = [1, 2, 3, 4, 5, 6])\n",
        "df_clean[\"NewAgeScore\"] = pd.qcut(df_clean['Age'], 8, labels = [1, 2, 3, 4, 5, 6, 7, 8])\n",
        "df_clean[\"NewBalanceScore\"] = pd.qcut(df_clean['Balance'].rank(method=\"first\"), 5, labels = [1, 2, 3, 4, 5])\n",
        "df_clean[\"NewEstSalaryScore\"] = pd.qcut(df_clean['EstimatedSalary'], 10, labels = [1, 2, 3, 4, 5, 6, 7, 8, 9, 10])"
      ],
      "outputs": [
        {
          "output_type": "display_data",
          "data": {
            "application/vnd.livy.statement-meta+json": {
              "spark_pool": null,
              "session_id": "6a641aa0-deaf-4a58-90ef-f9f974aea84b",
              "statement_id": 65,
              "statement_ids": [
                65
              ],
              "state": "finished",
              "livy_statement_state": "available",
              "queued_time": "2024-05-08T18:53:04.7441187Z",
              "session_start_time": null,
              "execution_start_time": "2024-05-08T18:53:21.7909251Z",
              "execution_finish_time": "2024-05-08T18:53:22.0502771Z",
              "parent_msg_id": "f54b90da-a3cc-491a-8f08-38cdd705ff66"
            },
            "text/plain": "StatementMeta(, 6a641aa0-deaf-4a58-90ef-f9f974aea84b, 65, Finished, Available)"
          },
          "metadata": {}
        }
      ],
      "execution_count": null,
      "metadata": {
        "jupyter": {
          "outputs_hidden": false,
          "source_hidden": false
        },
        "nteract": {
          "transient": {
            "deleting": false
          }
        },
        "id": "e8a3e0c5-db7b-44bf-b11b-8d323934e151",
        "outputId": "033d1664-dfb8-41af-c11f-977464b2b82f"
      },
      "id": "e8a3e0c5-db7b-44bf-b11b-8d323934e151"
    },
    {
      "cell_type": "markdown",
      "source": [
        "### Create a delta table to generate the Power BI report"
      ],
      "metadata": {
        "nteract": {
          "transient": {
            "deleting": false
          }
        },
        "id": "5c4f77d9-1167-460e-a3ba-3268acafd285"
      },
      "id": "5c4f77d9-1167-460e-a3ba-3268acafd285"
    },
    {
      "cell_type": "code",
      "source": [
        "table_name = \"df_clean\"\n",
        "# Create PySpark DataFrame from Pandas\n",
        "sparkDF=spark.createDataFrame(df_clean)\n",
        "sparkDF.write.mode(\"overwrite\").format(\"delta\").save(f\"Tables/{table_name}\")\n",
        "print(f\"Spark dataframe saved to delta table: {table_name}\")"
      ],
      "outputs": [
        {
          "output_type": "display_data",
          "data": {
            "application/vnd.livy.statement-meta+json": {
              "spark_pool": null,
              "session_id": "6a641aa0-deaf-4a58-90ef-f9f974aea84b",
              "statement_id": 66,
              "statement_ids": [
                66
              ],
              "state": "finished",
              "livy_statement_state": "available",
              "queued_time": "2024-05-08T18:53:08.3013479Z",
              "session_start_time": null,
              "execution_start_time": "2024-05-08T18:53:22.5822595Z",
              "execution_finish_time": "2024-05-08T18:53:26.1912103Z",
              "parent_msg_id": "7f7e2116-2d65-420c-ae57-f4dd99fe1fc1"
            },
            "text/plain": "StatementMeta(, 6a641aa0-deaf-4a58-90ef-f9f974aea84b, 66, Finished, Available)"
          },
          "metadata": {}
        },
        {
          "output_type": "stream",
          "name": "stdout",
          "text": [
            "Spark dataframe saved to delta table: df_clean\n"
          ]
        }
      ],
      "execution_count": null,
      "metadata": {
        "jupyter": {
          "outputs_hidden": false,
          "source_hidden": false
        },
        "nteract": {
          "transient": {
            "deleting": false
          }
        },
        "id": "9061366a-dd4f-43e1-9b81-081f43d20378",
        "outputId": "d2e26a94-29b6-4bd0-e8c9-4cf6b04a4245"
      },
      "id": "9061366a-dd4f-43e1-9b81-081f43d20378"
    },
    {
      "cell_type": "markdown",
      "source": [
        "## Step 7: Model Training and Tracking\n",
        "- **Location:** Silver Layer\n",
        "- **Why:** Model training requires processed, clean data, making the Silver Layer the ideal place due to its stability and consistency in data quality.\n",
        "\n"
      ],
      "metadata": {
        "nteract": {
          "transient": {
            "deleting": false
          }
        },
        "id": "80113f25-b8d2-4d79-ac84-6c396dedb539"
      },
      "id": "80113f25-b8d2-4d79-ac84-6c396dedb539"
    },
    {
      "cell_type": "markdown",
      "source": [
        "With your data in place, you can now define the model. You'll apply Random Forrest and LightGBM models in this notebook.\n",
        "\n",
        "Use `scikit-learn` and `lightgbm` to implement the models within a few lines of code. Also use MLfLow and Fabric Autologging to track the experiments.\n",
        "\n",
        "Here you'll load the delta table from the lakehouse. You may use other delta tables considering the lakehouse as the source."
      ],
      "metadata": {
        "nteract": {
          "transient": {
            "deleting": false
          }
        },
        "id": "a5d1fffa-b0fb-4ac8-9d7f-41339ca50faf"
      },
      "id": "a5d1fffa-b0fb-4ac8-9d7f-41339ca50faf"
    },
    {
      "cell_type": "code",
      "source": [
        "SEED = 12345\n",
        "df_clean = spark.read.format(\"delta\").load(\"Tables/df_clean\").toPandas()"
      ],
      "outputs": [
        {
          "output_type": "display_data",
          "data": {
            "application/vnd.livy.statement-meta+json": {
              "spark_pool": null,
              "session_id": "6a641aa0-deaf-4a58-90ef-f9f974aea84b",
              "statement_id": 67,
              "statement_ids": [
                67
              ],
              "state": "finished",
              "livy_statement_state": "available",
              "queued_time": "2024-05-08T18:53:15.8866969Z",
              "session_start_time": null,
              "execution_start_time": "2024-05-08T18:53:26.7117777Z",
              "execution_finish_time": "2024-05-08T18:53:27.5581012Z",
              "parent_msg_id": "9c64ac87-bed1-4c16-ba52-8b3418ba768d"
            },
            "text/plain": "StatementMeta(, 6a641aa0-deaf-4a58-90ef-f9f974aea84b, 67, Finished, Available)"
          },
          "metadata": {}
        }
      ],
      "execution_count": null,
      "metadata": {
        "jupyter": {
          "outputs_hidden": false,
          "source_hidden": false
        },
        "nteract": {
          "transient": {
            "deleting": false
          }
        },
        "id": "025e525b-b00c-4537-9edb-cc445782d736",
        "outputId": "79622c7d-1d79-4d59-c817-46cf9c8e048f"
      },
      "id": "025e525b-b00c-4537-9edb-cc445782d736"
    },
    {
      "cell_type": "markdown",
      "source": [
        "### Generate experiment for tracking and logging the models using MLflow\n",
        "\n",
        "This section demonstrates how to generate an experiment, specify model and training parameters as well as scoring metrics, train the models, log them, and save the trained models for later use."
      ],
      "metadata": {
        "nteract": {
          "transient": {
            "deleting": false
          }
        },
        "id": "eef9eead-c909-4cb2-848f-12d2ad6a3df3"
      },
      "id": "eef9eead-c909-4cb2-848f-12d2ad6a3df3"
    },
    {
      "cell_type": "code",
      "source": [
        "import mlflow\n",
        "\n",
        "# Set up experiment name\n",
        "EXPERIMENT_NAME = \"sample-bank-churn-experiment\"  # MLflow experiment name"
      ],
      "outputs": [
        {
          "output_type": "display_data",
          "data": {
            "application/vnd.livy.statement-meta+json": {
              "spark_pool": null,
              "session_id": "6a641aa0-deaf-4a58-90ef-f9f974aea84b",
              "statement_id": 68,
              "statement_ids": [
                68
              ],
              "state": "finished",
              "livy_statement_state": "available",
              "queued_time": "2024-05-08T18:53:21.1898999Z",
              "session_start_time": null,
              "execution_start_time": "2024-05-08T18:53:28.0858719Z",
              "execution_finish_time": "2024-05-08T18:53:28.3421502Z",
              "parent_msg_id": "c8319019-0f4d-4a0d-9f70-1131b91a17bb"
            },
            "text/plain": "StatementMeta(, 6a641aa0-deaf-4a58-90ef-f9f974aea84b, 68, Finished, Available)"
          },
          "metadata": {}
        }
      ],
      "execution_count": null,
      "metadata": {
        "jupyter": {
          "outputs_hidden": false,
          "source_hidden": false
        },
        "nteract": {
          "transient": {
            "deleting": false
          }
        },
        "id": "33810bac-86b5-46a6-9c37-cd28ca679a43",
        "outputId": "48c27d5d-0bda-4f10-b1c8-85bda1b7850b"
      },
      "id": "33810bac-86b5-46a6-9c37-cd28ca679a43"
    },
    {
      "cell_type": "markdown",
      "source": [
        "Extending the MLflow autologging capabilities, autologging works by automatically capturing the values of input parameters and output metrics of a machine learning model as it is being trained. This information is then logged to your workspace, where it can be accessed and visualized using the MLflow APIs or the corresponding experiment in your workspace. To learn more about  autologging, see  [Autologging in Microsoft Fabric](https://aka.ms/fabric-autologging)."
      ],
      "metadata": {
        "nteract": {
          "transient": {
            "deleting": false
          }
        },
        "id": "6b415622-97f7-480f-bc72-9f63053742fc"
      },
      "id": "6b415622-97f7-480f-bc72-9f63053742fc"
    },
    {
      "cell_type": "markdown",
      "source": [
        "### Set experiment and autologging specifications"
      ],
      "metadata": {
        "nteract": {
          "transient": {
            "deleting": false
          }
        },
        "id": "65b8693b-2970-4daf-ad31-067a25b80b60"
      },
      "id": "65b8693b-2970-4daf-ad31-067a25b80b60"
    },
    {
      "cell_type": "code",
      "source": [
        "mlflow.set_experiment(EXPERIMENT_NAME) # Use date stamp to append to experiment\n",
        "mlflow.autolog(exclusive=False)"
      ],
      "outputs": [
        {
          "output_type": "display_data",
          "data": {
            "application/vnd.livy.statement-meta+json": {
              "spark_pool": null,
              "session_id": "6a641aa0-deaf-4a58-90ef-f9f974aea84b",
              "statement_id": 69,
              "statement_ids": [
                69
              ],
              "state": "finished",
              "livy_statement_state": "available",
              "queued_time": "2024-05-08T18:53:52.4323569Z",
              "session_start_time": null,
              "execution_start_time": "2024-05-08T18:53:52.9350019Z",
              "execution_finish_time": "2024-05-08T18:53:55.415848Z",
              "parent_msg_id": "4d8ac1be-f6d1-4d86-ad23-3bab8d9b7363"
            },
            "text/plain": "StatementMeta(, 6a641aa0-deaf-4a58-90ef-f9f974aea84b, 69, Finished, Available)"
          },
          "metadata": {}
        },
        {
          "output_type": "stream",
          "name": "stderr",
          "text": [
            "2024/05/08 18:53:54 INFO mlflow.tracking.fluent: Autologging successfully enabled for statsmodels.\n2024/05/08 18:53:54 INFO mlflow.tracking.fluent: Autologging successfully enabled for pyspark.ml.\n"
          ]
        }
      ],
      "execution_count": null,
      "metadata": {
        "jupyter": {
          "outputs_hidden": false,
          "source_hidden": false
        },
        "nteract": {
          "transient": {
            "deleting": false
          }
        },
        "id": "b08b40bc-e4c1-4faf-a388-2ed301580d16",
        "outputId": "1d2a4b32-be12-4cc7-fb34-eb2a5fcb5f19"
      },
      "id": "b08b40bc-e4c1-4faf-a388-2ed301580d16"
    },
    {
      "cell_type": "markdown",
      "source": [
        "### Import scikit-learn and LightGBM"
      ],
      "metadata": {
        "nteract": {
          "transient": {
            "deleting": false
          }
        },
        "id": "634163fa-5062-469e-a5e9-ed49ef7e4607"
      },
      "id": "634163fa-5062-469e-a5e9-ed49ef7e4607"
    },
    {
      "cell_type": "code",
      "source": [
        "# Import the required libraries for model training\n",
        "from sklearn.model_selection import train_test_split\n",
        "from lightgbm import LGBMClassifier\n",
        "from sklearn.ensemble import RandomForestClassifier\n",
        "from sklearn.metrics import accuracy_score, f1_score, precision_score, confusion_matrix, recall_score, roc_auc_score, classification_report"
      ],
      "outputs": [
        {
          "output_type": "display_data",
          "data": {
            "application/vnd.livy.statement-meta+json": {
              "spark_pool": null,
              "session_id": "6a641aa0-deaf-4a58-90ef-f9f974aea84b",
              "statement_id": 70,
              "statement_ids": [
                70
              ],
              "state": "finished",
              "livy_statement_state": "available",
              "queued_time": "2024-05-08T18:54:09.149685Z",
              "session_start_time": null,
              "execution_start_time": "2024-05-08T18:54:09.6448572Z",
              "execution_finish_time": "2024-05-08T18:54:14.4879465Z",
              "parent_msg_id": "53b3be73-2cd9-4ec9-96e6-78d5e49481a6"
            },
            "text/plain": "StatementMeta(, 6a641aa0-deaf-4a58-90ef-f9f974aea84b, 70, Finished, Available)"
          },
          "metadata": {}
        },
        {
          "output_type": "stream",
          "name": "stderr",
          "text": [
            "2024/05/08 18:54:13 INFO mlflow.tracking.fluent: Autologging successfully enabled for sklearn.\n2024/05/08 18:54:13 INFO mlflow.tracking.fluent: Autologging successfully enabled for lightgbm.\n"
          ]
        }
      ],
      "execution_count": null,
      "metadata": {
        "jupyter": {
          "outputs_hidden": false,
          "source_hidden": false
        },
        "nteract": {
          "transient": {
            "deleting": false
          }
        },
        "id": "ffbdd7fd-a273-458c-9cea-dbcd583911dc",
        "outputId": "3541946b-5d28-4484-d96c-d802a1bb4f81"
      },
      "id": "ffbdd7fd-a273-458c-9cea-dbcd583911dc"
    },
    {
      "cell_type": "markdown",
      "source": [
        "### Prepare training and test datasets"
      ],
      "metadata": {
        "nteract": {
          "transient": {
            "deleting": false
          }
        },
        "id": "c72af93c-971d-4b13-9079-0025a5d78b32"
      },
      "id": "c72af93c-971d-4b13-9079-0025a5d78b32"
    },
    {
      "cell_type": "code",
      "source": [
        "y = df_clean[\"Exited\"]\n",
        "X = df_clean.drop(\"Exited\",axis=1)\n",
        "# Train-Test Separation\n",
        "X_train, X_test, y_train, y_test = train_test_split(X, y, test_size=0.20, random_state=SEED)"
      ],
      "outputs": [
        {
          "output_type": "display_data",
          "data": {
            "application/vnd.livy.statement-meta+json": {
              "spark_pool": null,
              "session_id": "6a641aa0-deaf-4a58-90ef-f9f974aea84b",
              "statement_id": 71,
              "statement_ids": [
                71
              ],
              "state": "finished",
              "livy_statement_state": "available",
              "queued_time": "2024-05-08T18:54:18.6716223Z",
              "session_start_time": null,
              "execution_start_time": "2024-05-08T18:54:19.2692181Z",
              "execution_finish_time": "2024-05-08T18:54:19.5399239Z",
              "parent_msg_id": "fa04a8c8-7ae1-47e8-95ec-90186a794ae6"
            },
            "text/plain": "StatementMeta(, 6a641aa0-deaf-4a58-90ef-f9f974aea84b, 71, Finished, Available)"
          },
          "metadata": {}
        }
      ],
      "execution_count": null,
      "metadata": {
        "jupyter": {
          "outputs_hidden": false,
          "source_hidden": false
        },
        "nteract": {
          "transient": {
            "deleting": false
          }
        },
        "id": "3c539eed-0f88-4f0a-b7d2-901c2f9930e3",
        "outputId": "de9ca7b2-c23a-417f-a0de-f51d8508cc78"
      },
      "id": "3c539eed-0f88-4f0a-b7d2-901c2f9930e3"
    },
    {
      "cell_type": "markdown",
      "source": [
        "### Introduction to SMOTE\n",
        "\n",
        "The problem with imbalanced classification is that there are too few examples of the minority class for a model to effectively learn the decision boundary. Synthetic Minority Oversampling Technique (SMOTE) is the most widely used approach to synthesize new samples for the minority class. Learn more about SMOTE [here](https://imbalanced-learn.org/stable/references/generated/imblearn.over_sampling.SMOTE.html#) and [here](https://imbalanced-learn.org/stable/over_sampling.html#smote-adasyn).\n",
        "\n",
        "You will be able to access SMOTE using the `imblearn` library that you installed in Step 1."
      ],
      "metadata": {
        "nteract": {
          "transient": {
            "deleting": false
          }
        },
        "id": "8639514c-bbb8-49aa-9091-f7df34a26d91"
      },
      "id": "8639514c-bbb8-49aa-9091-f7df34a26d91"
    },
    {
      "cell_type": "markdown",
      "source": [
        "##### Apply SMOTE to the training data to synthesize new samples for the minority class\n",
        "\n",
        "SMOTE should only be applied to the training dataset. You must leave the test dataset in its original imbalanced distribution in order to get a valid approximation of how the model will perform on the original data, which is representing the situation in production."
      ],
      "metadata": {
        "nteract": {
          "transient": {
            "deleting": false
          }
        },
        "id": "c907a17c-ed92-4334-accc-2deec809334c"
      },
      "id": "c907a17c-ed92-4334-accc-2deec809334c"
    },
    {
      "cell_type": "code",
      "source": [
        "from collections import Counter\n",
        "from imblearn.over_sampling import SMOTE\n",
        "\n",
        "sm = SMOTE(random_state=SEED)\n",
        "X_res, y_res = sm.fit_resample(X_train, y_train)\n",
        "new_train = pd.concat([X_res, y_res], axis=1)"
      ],
      "outputs": [
        {
          "output_type": "display_data",
          "data": {
            "application/vnd.livy.statement-meta+json": {
              "spark_pool": null,
              "session_id": "6a641aa0-deaf-4a58-90ef-f9f974aea84b",
              "statement_id": 72,
              "statement_ids": [
                72
              ],
              "state": "finished",
              "livy_statement_state": "available",
              "queued_time": "2024-05-08T18:54:53.5311031Z",
              "session_start_time": null,
              "execution_start_time": "2024-05-08T18:54:54.0865526Z",
              "execution_finish_time": "2024-05-08T18:55:04.2848616Z",
              "parent_msg_id": "6f2502c0-867a-4bee-a714-a2798ace448e"
            },
            "text/plain": "StatementMeta(, 6a641aa0-deaf-4a58-90ef-f9f974aea84b, 72, Finished, Available)"
          },
          "metadata": {}
        },
        {
          "output_type": "stream",
          "name": "stderr",
          "text": [
            "2024/05/08 18:54:55 INFO mlflow.utils.autologging_utils: Created MLflow autologging run with ID '9f4c8501-3b72-40af-969a-1d908d5b71af', which will track hyperparameters, performance metrics, model artifacts, and lineage information for the current sklearn workflow\n2024-05-08:18:54:55,393 WARNING  [tracking_store.py:153] log_inputs not supported\n2024/05/08 18:54:56 WARNING mlflow.sklearn: Training metrics will not be recorded because training labels were not specified. To automatically record training metrics, provide training labels as inputs to the model training function.\n2024/05/08 18:54:56 WARNING mlflow.sklearn: Failed to infer model signature: the trained model does not have a `predict` or `transform` function, which is required in order to infer the signature\n2024/05/08 18:54:56 WARNING mlflow.sklearn: Model was missing function: predict. Not logging python_function flavor!\n2024/05/08 18:55:00 WARNING mlflow.utils.autologging_utils: MLflow autologging encountered a warning: \"/home/trusted-service-user/cluster-env/trident_env/lib/python3.10/site-packages/_distutils_hack/__init__.py:33: UserWarning: Setuptools is replacing distutils.\"\n"
          ]
        },
        {
          "output_type": "display_data",
          "data": {
            "application/vnd.mlflow.run-widget+json": {
              "info": {
                "artifact_uri": "sds://onelakeeastus.pbidedicated.windows.net/b31af911-01cd-4709-8f8b-5fec499e2222/aac3abe5-642e-4506-8a16-b51026873814/9f4c8501-3b72-40af-969a-1d908d5b71af/artifacts",
                "end_time": 1715194501,
                "experiment_id": "08f1b1a7-689b-4bb1-8ac8-2c3867060685",
                "lifecycle_stage": "active",
                "run_id": "9f4c8501-3b72-40af-969a-1d908d5b71af",
                "run_name": "",
                "run_uuid": "9f4c8501-3b72-40af-969a-1d908d5b71af",
                "start_time": 1715194494,
                "status": "FINISHED",
                "user_id": "7ebfac85-3ebb-440f-a743-e52052051f6a"
              },
              "data": {
                "metrics": {},
                "params": {
                  "algorithm": "auto",
                  "leaf_size": "30",
                  "metric": "minkowski",
                  "metric_params": "None",
                  "n_jobs": "None",
                  "n_neighbors": "6",
                  "p": "2",
                  "radius": "1.0"
                },
                "tags": {
                  "mlflow.user": "4b3a56ea-6f42-450e-b7c3-fb2932c7ac32",
                  "synapseml.notebook.artifactId": "9fd4e0c9-e9f7-482a-b186-7cc34ec584e7",
                  "synapseml.user.name": "Jibin V",
                  "synapseml.user.id": "b202665e-2989-45c8-b91e-278f271b96ff",
                  "synapseml.livy.id": "6a641aa0-deaf-4a58-90ef-f9f974aea84b",
                  "mlflow.autologging": "sklearn",
                  "estimator_name": "NearestNeighbors",
                  "estimator_class": "sklearn.neighbors._unsupervised.NearestNeighbors",
                  "mlflow.rootRunId": "9f4c8501-3b72-40af-969a-1d908d5b71af",
                  "mlflow.runName": "serene_gold_prpvv2fr",
                  "synapseml.experimentName": "sample-bank-churn-experiment",
                  "synapseml.experiment.artifactId": "aac3abe5-642e-4506-8a16-b51026873814"
                }
              },
              "inputs": {
                "dataset_inputs": []
              }
            }
          },
          "metadata": {}
        }
      ],
      "execution_count": null,
      "metadata": {
        "jupyter": {
          "outputs_hidden": false,
          "source_hidden": false
        },
        "nteract": {
          "transient": {
            "deleting": false
          }
        },
        "id": "bdbb6dec-3e17-498a-8e8d-380bc9a59f5a",
        "outputId": "b0a95542-317f-4bda-dd69-4956d3d29264"
      },
      "id": "bdbb6dec-3e17-498a-8e8d-380bc9a59f5a"
    },
    {
      "cell_type": "markdown",
      "source": [
        "### Model training\n",
        "\n",
        "Train the model using Random Forest with maximum depth of four, with four features."
      ],
      "metadata": {
        "nteract": {
          "transient": {
            "deleting": false
          }
        },
        "id": "039ad12c-e176-4162-80da-f1cd15becaf2"
      },
      "id": "039ad12c-e176-4162-80da-f1cd15becaf2"
    },
    {
      "cell_type": "code",
      "source": [
        "mlflow.sklearn.autolog(registered_model_name='rfc1_sm')  # Register the trained model with autologging\n",
        "rfc1_sm = RandomForestClassifier(max_depth=4, max_features=4, min_samples_split=3, random_state=1) # Pass hyperparameters\n",
        "with mlflow.start_run(run_name=\"rfc1_sm\") as run:\n",
        "    rfc1_sm_run_id = run.info.run_id # Capture run_id for model prediction later\n",
        "    print(\"run_id: {}; status: {}\".format(rfc1_sm_run_id, run.info.status))\n",
        "    # rfc1.fit(X_train,y_train) # imbalanaced training data\n",
        "    rfc1_sm.fit(X_res, y_res.ravel()) # balanced training data\n",
        "    rfc1_sm.score(X_test, y_test)\n",
        "    y_pred = rfc1_sm.predict(X_test)\n",
        "    cr_rfc1_sm = classification_report(y_test, y_pred)\n",
        "    cm_rfc1_sm = confusion_matrix(y_test, y_pred)\n",
        "    roc_auc_rfc1_sm = roc_auc_score(y_res, rfc1_sm.predict_proba(X_res)[:, 1])"
      ],
      "outputs": [
        {
          "output_type": "display_data",
          "data": {
            "application/vnd.livy.statement-meta+json": {
              "spark_pool": null,
              "session_id": "6a641aa0-deaf-4a58-90ef-f9f974aea84b",
              "statement_id": 73,
              "statement_ids": [
                73
              ],
              "state": "finished",
              "livy_statement_state": "available",
              "queued_time": "2024-05-08T18:55:15.4992119Z",
              "session_start_time": null,
              "execution_start_time": "2024-05-08T18:55:16.100209Z",
              "execution_finish_time": "2024-05-08T18:55:35.1734654Z",
              "parent_msg_id": "c0828556-0b40-4aaf-98af-be12caeda8f7"
            },
            "text/plain": "StatementMeta(, 6a641aa0-deaf-4a58-90ef-f9f974aea84b, 73, Finished, Available)"
          },
          "metadata": {}
        },
        {
          "output_type": "stream",
          "name": "stderr",
          "text": [
            "2024/05/08 18:55:16 WARNING mlflow.utils.autologging_utils: MLflow autologging encountered a warning: \"/home/trusted-service-user/cluster-env/trident_env/lib/python3.10/site-packages/mlflow/data/pandas_dataset.py:116: UserWarning: Hint: Inferred schema contains integer column(s). Integer columns in Python cannot represent missing values. If your input data contains missing values at inference time, it will be encoded as floats and will cause a schema enforcement error. The best way to avoid this problem is to infer the model schema based on a realistic data sample (training dataset) that includes missing values. Alternatively, you can declare integer columns as doubles (float64) whenever these columns may have missing values. See `Handling Integers With Missing Values <https://www.mlflow.org/docs/latest/models.html#handling-integers-with-missing-values>`_ for more details.\"\n2024-05-08:18:55:16,690 WARNING  [tracking_store.py:153] log_inputs not supported\n2024/05/08 18:55:18 WARNING mlflow.utils.autologging_utils: MLflow autologging encountered a warning: \"/home/trusted-service-user/cluster-env/trident_env/lib/python3.10/site-packages/mlflow/models/signature.py:214: UserWarning: Hint: Inferred schema contains integer column(s). Integer columns in Python cannot represent missing values. If your input data contains missing values at inference time, it will be encoded as floats and will cause a schema enforcement error. The best way to avoid this problem is to infer the model schema based on a realistic data sample (training dataset) that includes missing values. Alternatively, you can declare integer columns as doubles (float64) whenever these columns may have missing values. See `Handling Integers With Missing Values <https://www.mlflow.org/docs/latest/models.html#handling-integers-with-missing-values>`_ for more details.\"\nSuccessfully registered model 'rfc1_sm'.\n2024/05/08 18:55:29 INFO mlflow.tracking._model_registry.client: Waiting up to 300 seconds for model version to finish creation. Model name: rfc1_sm, version 1\nCreated version '1' of model 'rfc1_sm'.\n2024/05/08 18:55:32 WARNING mlflow.utils.autologging_utils: MLflow autologging encountered a warning: \"/home/trusted-service-user/cluster-env/trident_env/lib/python3.10/site-packages/mlflow/data/pandas_dataset.py:116: UserWarning: Hint: Inferred schema contains integer column(s). Integer columns in Python cannot represent missing values. If your input data contains missing values at inference time, it will be encoded as floats and will cause a schema enforcement error. The best way to avoid this problem is to infer the model schema based on a realistic data sample (training dataset) that includes missing values. Alternatively, you can declare integer columns as doubles (float64) whenever these columns may have missing values. See `Handling Integers With Missing Values <https://www.mlflow.org/docs/latest/models.html#handling-integers-with-missing-values>`_ for more details.\"\n2024-05-08:18:55:32,345 WARNING  [tracking_store.py:153] log_inputs not supported\n2024/05/08 18:55:32 WARNING mlflow.utils.autologging_utils: MLflow autologging encountered a warning: \"/home/trusted-service-user/cluster-env/trident_env/lib/python3.10/site-packages/mlflow/data/pandas_dataset.py:116: UserWarning: Hint: Inferred schema contains integer column(s). Integer columns in Python cannot represent missing values. If your input data contains missing values at inference time, it will be encoded as floats and will cause a schema enforcement error. The best way to avoid this problem is to infer the model schema based on a realistic data sample (training dataset) that includes missing values. Alternatively, you can declare integer columns as doubles (float64) whenever these columns may have missing values. See `Handling Integers With Missing Values <https://www.mlflow.org/docs/latest/models.html#handling-integers-with-missing-values>`_ for more details.\"\n2024-05-08:18:55:32,495 WARNING  [tracking_store.py:153] log_inputs not supported\n"
          ]
        },
        {
          "output_type": "stream",
          "name": "stdout",
          "text": [
            "run_id: d2a22cef-f58f-47d4-a39a-1d6e6c7d4aac; status: RUNNING\n"
          ]
        },
        {
          "output_type": "display_data",
          "data": {
            "application/vnd.mlflow.run-widget+json": {
              "info": {
                "artifact_uri": "sds://onelakeeastus.pbidedicated.windows.net/b31af911-01cd-4709-8f8b-5fec499e2222/aac3abe5-642e-4506-8a16-b51026873814/d2a22cef-f58f-47d4-a39a-1d6e6c7d4aac/artifacts",
                "end_time": 1715194533,
                "experiment_id": "08f1b1a7-689b-4bb1-8ac8-2c3867060685",
                "lifecycle_stage": "active",
                "run_id": "d2a22cef-f58f-47d4-a39a-1d6e6c7d4aac",
                "run_name": "",
                "run_uuid": "d2a22cef-f58f-47d4-a39a-1d6e6c7d4aac",
                "start_time": 1715194516,
                "status": "FINISHED",
                "user_id": "7ebfac85-3ebb-440f-a743-e52052051f6a"
              },
              "data": {
                "metrics": {
                  "training_accuracy_score": 0.824020147961593,
                  "training_log_loss": 0.44479666987412086,
                  "training_f1_score": 0.8238707938703356,
                  "training_score": 0.824020147961593,
                  "training_roc_auc": 0.9067529431976609,
                  "training_recall_score": 0.824020147961593,
                  "training_precision_score": 0.8251229393092516,
                  "RandomForestClassifier_score_X_test": 0.8175
                },
                "params": {
                  "bootstrap": "True",
                  "ccp_alpha": "0.0",
                  "class_weight": "None",
                  "criterion": "gini",
                  "max_depth": "4",
                  "max_features": "4",
                  "max_leaf_nodes": "None",
                  "max_samples": "None",
                  "min_impurity_decrease": "0.0",
                  "min_samples_leaf": "1",
                  "min_samples_split": "3",
                  "min_weight_fraction_leaf": "0.0",
                  "n_estimators": "100",
                  "n_jobs": "None",
                  "oob_score": "False",
                  "random_state": "1",
                  "verbose": "0",
                  "warm_start": "False"
                },
                "tags": {
                  "mlflow.user": "4b3a56ea-6f42-450e-b7c3-fb2932c7ac32",
                  "synapseml.notebook.artifactId": "9fd4e0c9-e9f7-482a-b186-7cc34ec584e7",
                  "synapseml.user.name": "Jibin V",
                  "synapseml.user.id": "b202665e-2989-45c8-b91e-278f271b96ff",
                  "synapseml.livy.id": "6a641aa0-deaf-4a58-90ef-f9f974aea84b",
                  "mlflow.runName": "rfc1_sm",
                  "estimator_name": "RandomForestClassifier",
                  "estimator_class": "sklearn.ensemble._forest.RandomForestClassifier",
                  "mlflow.rootRunId": "d2a22cef-f58f-47d4-a39a-1d6e6c7d4aac",
                  "synapseml.experimentName": "sample-bank-churn-experiment",
                  "synapseml.experiment.artifactId": "aac3abe5-642e-4506-8a16-b51026873814"
                }
              },
              "inputs": {
                "dataset_inputs": []
              }
            }
          },
          "metadata": {}
        }
      ],
      "execution_count": null,
      "metadata": {
        "jupyter": {
          "outputs_hidden": false,
          "source_hidden": false
        },
        "nteract": {
          "transient": {
            "deleting": false
          }
        },
        "id": "8cfb7902-c40f-45a3-a7a1-6ab036bc19bc",
        "outputId": "3bc07b85-5375-46f2-fab8-4345512ceb1b"
      },
      "id": "8cfb7902-c40f-45a3-a7a1-6ab036bc19bc"
    },
    {
      "cell_type": "markdown",
      "source": [
        "Train the model using Random Forest with maximum depth of eight, with six features."
      ],
      "metadata": {
        "nteract": {
          "transient": {
            "deleting": false
          }
        },
        "id": "562edcf7-8926-4757-ad5a-871a1f813772"
      },
      "id": "562edcf7-8926-4757-ad5a-871a1f813772"
    },
    {
      "cell_type": "code",
      "source": [
        "mlflow.sklearn.autolog(registered_model_name='rfc2_sm')  # Register the trained model with autologging\n",
        "rfc2_sm = RandomForestClassifier(max_depth=8, max_features=6, min_samples_split=3, random_state=1) # Pass hyperparameters\n",
        "with mlflow.start_run(run_name=\"rfc2_sm\") as run:\n",
        "    rfc2_sm_run_id = run.info.run_id # Capture run_id for model prediction later\n",
        "    print(\"run_id: {}; status: {}\".format(rfc2_sm_run_id, run.info.status))\n",
        "    # rfc2.fit(X_train,y_train) # imbalanced training data\n",
        "    rfc2_sm.fit(X_res, y_res.ravel()) # balanced training data\n",
        "    rfc2_sm.score(X_test, y_test)\n",
        "    y_pred = rfc2_sm.predict(X_test)\n",
        "    cr_rfc2_sm = classification_report(y_test, y_pred)\n",
        "    cm_rfc2_sm = confusion_matrix(y_test, y_pred)\n",
        "    roc_auc_rfc2_sm = roc_auc_score(y_res, rfc2_sm.predict_proba(X_res)[:, 1])"
      ],
      "outputs": [
        {
          "output_type": "display_data",
          "data": {
            "application/vnd.livy.statement-meta+json": {
              "spark_pool": null,
              "session_id": "6a641aa0-deaf-4a58-90ef-f9f974aea84b",
              "statement_id": 74,
              "statement_ids": [
                74
              ],
              "state": "finished",
              "livy_statement_state": "available",
              "queued_time": "2024-05-08T18:55:59.2898273Z",
              "session_start_time": null,
              "execution_start_time": "2024-05-08T18:55:59.8097314Z",
              "execution_finish_time": "2024-05-08T18:56:16.6743806Z",
              "parent_msg_id": "1807663d-102f-40da-8e72-20e44ce5a9d9"
            },
            "text/plain": "StatementMeta(, 6a641aa0-deaf-4a58-90ef-f9f974aea84b, 74, Finished, Available)"
          },
          "metadata": {}
        },
        {
          "output_type": "stream",
          "name": "stderr",
          "text": [
            "2024/05/08 18:56:00 WARNING mlflow.utils.autologging_utils: MLflow autologging encountered a warning: \"/home/trusted-service-user/cluster-env/trident_env/lib/python3.10/site-packages/mlflow/data/pandas_dataset.py:116: UserWarning: Hint: Inferred schema contains integer column(s). Integer columns in Python cannot represent missing values. If your input data contains missing values at inference time, it will be encoded as floats and will cause a schema enforcement error. The best way to avoid this problem is to infer the model schema based on a realistic data sample (training dataset) that includes missing values. Alternatively, you can declare integer columns as doubles (float64) whenever these columns may have missing values. See `Handling Integers With Missing Values <https://www.mlflow.org/docs/latest/models.html#handling-integers-with-missing-values>`_ for more details.\"\n2024-05-08:18:56:00,380 WARNING  [tracking_store.py:153] log_inputs not supported\n2024/05/08 18:56:03 WARNING mlflow.utils.autologging_utils: MLflow autologging encountered a warning: \"/home/trusted-service-user/cluster-env/trident_env/lib/python3.10/site-packages/mlflow/models/signature.py:214: UserWarning: Hint: Inferred schema contains integer column(s). Integer columns in Python cannot represent missing values. If your input data contains missing values at inference time, it will be encoded as floats and will cause a schema enforcement error. The best way to avoid this problem is to infer the model schema based on a realistic data sample (training dataset) that includes missing values. Alternatively, you can declare integer columns as doubles (float64) whenever these columns may have missing values. See `Handling Integers With Missing Values <https://www.mlflow.org/docs/latest/models.html#handling-integers-with-missing-values>`_ for more details.\"\nSuccessfully registered model 'rfc2_sm'.\n2024/05/08 18:56:11 INFO mlflow.tracking._model_registry.client: Waiting up to 300 seconds for model version to finish creation. Model name: rfc2_sm, version 1\nCreated version '1' of model 'rfc2_sm'.\n2024/05/08 18:56:14 WARNING mlflow.utils.autologging_utils: MLflow autologging encountered a warning: \"/home/trusted-service-user/cluster-env/trident_env/lib/python3.10/site-packages/mlflow/data/pandas_dataset.py:116: UserWarning: Hint: Inferred schema contains integer column(s). Integer columns in Python cannot represent missing values. If your input data contains missing values at inference time, it will be encoded as floats and will cause a schema enforcement error. The best way to avoid this problem is to infer the model schema based on a realistic data sample (training dataset) that includes missing values. Alternatively, you can declare integer columns as doubles (float64) whenever these columns may have missing values. See `Handling Integers With Missing Values <https://www.mlflow.org/docs/latest/models.html#handling-integers-with-missing-values>`_ for more details.\"\n2024-05-08:18:56:14,46 WARNING  [tracking_store.py:153] log_inputs not supported\n2024/05/08 18:56:14 WARNING mlflow.utils.autologging_utils: MLflow autologging encountered a warning: \"/home/trusted-service-user/cluster-env/trident_env/lib/python3.10/site-packages/mlflow/data/pandas_dataset.py:116: UserWarning: Hint: Inferred schema contains integer column(s). Integer columns in Python cannot represent missing values. If your input data contains missing values at inference time, it will be encoded as floats and will cause a schema enforcement error. The best way to avoid this problem is to infer the model schema based on a realistic data sample (training dataset) that includes missing values. Alternatively, you can declare integer columns as doubles (float64) whenever these columns may have missing values. See `Handling Integers With Missing Values <https://www.mlflow.org/docs/latest/models.html#handling-integers-with-missing-values>`_ for more details.\"\n2024-05-08:18:56:14,204 WARNING  [tracking_store.py:153] log_inputs not supported\n"
          ]
        },
        {
          "output_type": "stream",
          "name": "stdout",
          "text": [
            "run_id: 19587603-deed-4848-966c-b8128c9cbefd; status: RUNNING\n"
          ]
        },
        {
          "output_type": "display_data",
          "data": {
            "application/vnd.mlflow.run-widget+json": {
              "info": {
                "artifact_uri": "sds://onelakeeastus.pbidedicated.windows.net/b31af911-01cd-4709-8f8b-5fec499e2222/aac3abe5-642e-4506-8a16-b51026873814/19587603-deed-4848-966c-b8128c9cbefd/artifacts",
                "end_time": 1715194574,
                "experiment_id": "08f1b1a7-689b-4bb1-8ac8-2c3867060685",
                "lifecycle_stage": "active",
                "run_id": "19587603-deed-4848-966c-b8128c9cbefd",
                "run_name": "",
                "run_uuid": "19587603-deed-4848-966c-b8128c9cbefd",
                "start_time": 1715194560,
                "status": "FINISHED",
                "user_id": "7ebfac85-3ebb-440f-a743-e52052051f6a"
              },
              "data": {
                "metrics": {
                  "training_log_loss": 0.3011455629222681,
                  "training_precision_score": 0.8869120271085216,
                  "training_recall_score": 0.8858806862899418,
                  "training_accuracy_score": 0.8858806862899418,
                  "training_score": 0.8858806862899418,
                  "training_f1_score": 0.8858045873435951,
                  "training_roc_auc": 0.9562558508470473,
                  "RandomForestClassifier_score_X_test": 0.8505
                },
                "params": {
                  "bootstrap": "True",
                  "ccp_alpha": "0.0",
                  "class_weight": "None",
                  "criterion": "gini",
                  "max_depth": "8",
                  "max_features": "6",
                  "max_leaf_nodes": "None",
                  "max_samples": "None",
                  "min_impurity_decrease": "0.0",
                  "min_samples_leaf": "1",
                  "min_samples_split": "3",
                  "min_weight_fraction_leaf": "0.0",
                  "n_estimators": "100",
                  "n_jobs": "None",
                  "oob_score": "False",
                  "random_state": "1",
                  "verbose": "0",
                  "warm_start": "False"
                },
                "tags": {
                  "mlflow.user": "4b3a56ea-6f42-450e-b7c3-fb2932c7ac32",
                  "synapseml.notebook.artifactId": "9fd4e0c9-e9f7-482a-b186-7cc34ec584e7",
                  "synapseml.user.name": "Jibin V",
                  "synapseml.user.id": "b202665e-2989-45c8-b91e-278f271b96ff",
                  "synapseml.livy.id": "6a641aa0-deaf-4a58-90ef-f9f974aea84b",
                  "mlflow.runName": "rfc2_sm",
                  "estimator_name": "RandomForestClassifier",
                  "estimator_class": "sklearn.ensemble._forest.RandomForestClassifier",
                  "mlflow.rootRunId": "19587603-deed-4848-966c-b8128c9cbefd",
                  "synapseml.experimentName": "sample-bank-churn-experiment",
                  "synapseml.experiment.artifactId": "aac3abe5-642e-4506-8a16-b51026873814"
                }
              },
              "inputs": {
                "dataset_inputs": []
              }
            }
          },
          "metadata": {}
        }
      ],
      "execution_count": null,
      "metadata": {
        "jupyter": {
          "outputs_hidden": false,
          "source_hidden": false
        },
        "nteract": {
          "transient": {
            "deleting": false
          }
        },
        "id": "18ab69b4-7098-4bfb-a393-fcd62a2bc0b4",
        "outputId": "90700406-2802-4d9f-8728-1212d9be0004"
      },
      "id": "18ab69b4-7098-4bfb-a393-fcd62a2bc0b4"
    },
    {
      "cell_type": "markdown",
      "source": [
        "Train the model using LightGBM."
      ],
      "metadata": {
        "nteract": {
          "transient": {
            "deleting": false
          }
        },
        "id": "46086429-c184-46b8-872b-58632eae583e"
      },
      "id": "46086429-c184-46b8-872b-58632eae583e"
    },
    {
      "cell_type": "code",
      "source": [
        "# lgbm_model\n",
        "mlflow.lightgbm.autolog(registered_model_name='lgbm_sm')  # Register the trained model with autologging\n",
        "lgbm_sm_model = LGBMClassifier(learning_rate = 0.07,\n",
        "                        max_delta_step = 2,\n",
        "                        n_estimators = 100,\n",
        "                        max_depth = 10,\n",
        "                        eval_metric = \"logloss\",\n",
        "                        objective='binary',\n",
        "                        random_state=42)\n",
        "\n",
        "with mlflow.start_run(run_name=\"lgbm_sm\") as run:\n",
        "    lgbm1_sm_run_id = run.info.run_id # Capture run_id for model prediction later\n",
        "    # lgbm_sm_model.fit(X_train,y_train) # imbalanced training data\n",
        "    lgbm_sm_model.fit(X_res, y_res.ravel()) # balanced training data\n",
        "    y_pred = lgbm_sm_model.predict(X_test)\n",
        "    accuracy = accuracy_score(y_test, y_pred)\n",
        "    cr_lgbm_sm = classification_report(y_test, y_pred)\n",
        "    cm_lgbm_sm = confusion_matrix(y_test, y_pred)\n",
        "    roc_auc_lgbm_sm = roc_auc_score(y_res, lgbm_sm_model.predict_proba(X_res)[:, 1])"
      ],
      "outputs": [
        {
          "output_type": "display_data",
          "data": {
            "application/vnd.livy.statement-meta+json": {
              "spark_pool": null,
              "session_id": "6a641aa0-deaf-4a58-90ef-f9f974aea84b",
              "statement_id": 85,
              "statement_ids": [
                85
              ],
              "state": "finished",
              "livy_statement_state": "available",
              "queued_time": "2024-05-08T19:15:44.0888792Z",
              "session_start_time": null,
              "execution_start_time": "2024-05-08T19:15:44.7021279Z",
              "execution_finish_time": "2024-05-08T19:15:57.1820095Z",
              "parent_msg_id": "8def61bf-e98c-4d3f-b0e8-d1ed2d6c3051"
            },
            "text/plain": "StatementMeta(, 6a641aa0-deaf-4a58-90ef-f9f974aea84b, 85, Finished, Available)"
          },
          "metadata": {}
        },
        {
          "output_type": "stream",
          "name": "stderr",
          "text": [
            "2024/05/08 19:15:46 WARNING mlflow.utils.autologging_utils: MLflow autologging encountered a warning: \"/home/trusted-service-user/cluster-env/trident_env/lib/python3.10/site-packages/mlflow/data/pandas_dataset.py:116: UserWarning: Hint: Inferred schema contains integer column(s). Integer columns in Python cannot represent missing values. If your input data contains missing values at inference time, it will be encoded as floats and will cause a schema enforcement error. The best way to avoid this problem is to infer the model schema based on a realistic data sample (training dataset) that includes missing values. Alternatively, you can declare integer columns as doubles (float64) whenever these columns may have missing values. See `Handling Integers With Missing Values <https://www.mlflow.org/docs/latest/models.html#handling-integers-with-missing-values>`_ for more details.\"\n2024-05-08:19:15:46,47 WARNING  [tracking_store.py:153] log_inputs not supported\n2024/05/08 19:15:47 WARNING mlflow.utils.autologging_utils: MLflow autologging encountered a warning: \"/home/trusted-service-user/cluster-env/trident_env/lib/python3.10/site-packages/mlflow/models/signature.py:214: UserWarning: Hint: Inferred schema contains integer column(s). Integer columns in Python cannot represent missing values. If your input data contains missing values at inference time, it will be encoded as floats and will cause a schema enforcement error. The best way to avoid this problem is to infer the model schema based on a realistic data sample (training dataset) that includes missing values. Alternatively, you can declare integer columns as doubles (float64) whenever these columns may have missing values. See `Handling Integers With Missing Values <https://www.mlflow.org/docs/latest/models.html#handling-integers-with-missing-values>`_ for more details.\"\nRegistered model 'lgbm_sm' already exists. Creating a new version of this model...\n2024/05/08 19:15:53 INFO mlflow.tracking._model_registry.client: Waiting up to 300 seconds for model version to finish creation. Model name: lgbm_sm, version 2\nCreated version '2' of model 'lgbm_sm'.\n2024/05/08 19:15:53 WARNING mlflow.utils.autologging_utils: MLflow autologging encountered a warning: \"/home/trusted-service-user/cluster-env/trident_env/lib/python3.10/site-packages/mlflow/data/pandas_dataset.py:116: UserWarning: Hint: Inferred schema contains integer column(s). Integer columns in Python cannot represent missing values. If your input data contains missing values at inference time, it will be encoded as floats and will cause a schema enforcement error. The best way to avoid this problem is to infer the model schema based on a realistic data sample (training dataset) that includes missing values. Alternatively, you can declare integer columns as doubles (float64) whenever these columns may have missing values. See `Handling Integers With Missing Values <https://www.mlflow.org/docs/latest/models.html#handling-integers-with-missing-values>`_ for more details.\"\n2024-05-08:19:15:53,433 WARNING  [tracking_store.py:153] log_inputs not supported\n2024/05/08 19:15:54 WARNING mlflow.utils.autologging_utils: MLflow autologging encountered a warning: \"/home/trusted-service-user/cluster-env/trident_env/lib/python3.10/site-packages/mlflow/data/pandas_dataset.py:116: UserWarning: Hint: Inferred schema contains integer column(s). Integer columns in Python cannot represent missing values. If your input data contains missing values at inference time, it will be encoded as floats and will cause a schema enforcement error. The best way to avoid this problem is to infer the model schema based on a realistic data sample (training dataset) that includes missing values. Alternatively, you can declare integer columns as doubles (float64) whenever these columns may have missing values. See `Handling Integers With Missing Values <https://www.mlflow.org/docs/latest/models.html#handling-integers-with-missing-values>`_ for more details.\"\n2024-05-08:19:15:54,742 WARNING  [tracking_store.py:153] log_inputs not supported\n"
          ]
        },
        {
          "output_type": "stream",
          "name": "stdout",
          "text": [
            "[LightGBM] [Warning] Unknown parameter: eval_metric\n[LightGBM] [Warning] Accuracy may be bad since you didn't explicitly set num_leaves OR 2^max_depth > num_leaves. (num_leaves=31).\n[LightGBM] [Warning] Unknown parameter: eval_metric\n[LightGBM] [Warning] Accuracy may be bad since you didn't explicitly set num_leaves OR 2^max_depth > num_leaves. (num_leaves=31).\n[LightGBM] [Info] Number of positive: 6353, number of negative: 6353\n[LightGBM] [Warning] Auto-choosing row-wise multi-threading, the overhead of testing was 0.000715 seconds.\nYou can set `force_row_wise=true` to remove the overhead.\nAnd if memory is not enough, you can set `force_col_wise=true`.\n[LightGBM] [Info] Total Bins 1149\n[LightGBM] [Info] Number of data points in the train set: 12706, number of used features: 18\n[LightGBM] [Info] [binary:BoostFromScore]: pavg=0.500000 -> initscore=0.000000\n[LightGBM] [Warning] Unknown parameter: eval_metric\n[LightGBM] [Warning] Accuracy may be bad since you didn't explicitly set num_leaves OR 2^max_depth > num_leaves. (num_leaves=31).\n[LightGBM] [Warning] Unknown parameter: eval_metric\n[LightGBM] [Warning] Accuracy may be bad since you didn't explicitly set num_leaves OR 2^max_depth > num_leaves. (num_leaves=31).\n[LightGBM] [Warning] Unknown parameter: eval_metric\n[LightGBM] [Warning] Accuracy may be bad since you didn't explicitly set num_leaves OR 2^max_depth > num_leaves. (num_leaves=31).\n"
          ]
        },
        {
          "output_type": "display_data",
          "data": {
            "application/vnd.mlflow.run-widget+json": {
              "info": {
                "artifact_uri": "sds://onelakeeastus.pbidedicated.windows.net/b31af911-01cd-4709-8f8b-5fec499e2222/aac3abe5-642e-4506-8a16-b51026873814/e47c08d0-1901-45a1-9982-9a89093dbbef/artifacts",
                "end_time": 1715195755,
                "experiment_id": "08f1b1a7-689b-4bb1-8ac8-2c3867060685",
                "lifecycle_stage": "active",
                "run_id": "e47c08d0-1901-45a1-9982-9a89093dbbef",
                "run_name": "",
                "run_uuid": "e47c08d0-1901-45a1-9982-9a89093dbbef",
                "start_time": 1715195745,
                "status": "FINISHED",
                "user_id": "7ebfac85-3ebb-440f-a743-e52052051f6a"
              },
              "data": {
                "metrics": {
                  "accuracy_score_X_test": 0.868
                },
                "params": {
                  "boosting_type": "gbdt",
                  "colsample_bytree": "1.0",
                  "learning_rate": "0.07",
                  "max_depth": "10",
                  "min_child_samples": "20",
                  "min_child_weight": "0.001",
                  "min_split_gain": "0.0",
                  "num_leaves": "31",
                  "random_state": "42",
                  "reg_alpha": "0.0",
                  "reg_lambda": "0.0",
                  "subsample": "1.0",
                  "subsample_for_bin": "200000",
                  "subsample_freq": "0",
                  "max_delta_step": "2",
                  "eval_metric": "logloss",
                  "objective": "binary",
                  "metric": "['binary']",
                  "num_threads": "4",
                  "num_boost_round": "100",
                  "feature_name": "auto",
                  "categorical_feature": "auto",
                  "keep_training_booster": "False"
                },
                "tags": {
                  "mlflow.user": "4b3a56ea-6f42-450e-b7c3-fb2932c7ac32",
                  "synapseml.notebook.artifactId": "9fd4e0c9-e9f7-482a-b186-7cc34ec584e7",
                  "synapseml.user.name": "Jibin V",
                  "synapseml.user.id": "b202665e-2989-45c8-b91e-278f271b96ff",
                  "synapseml.livy.id": "6a641aa0-deaf-4a58-90ef-f9f974aea84b",
                  "mlflow.runName": "lgbm_sm",
                  "mlflow.rootRunId": "e47c08d0-1901-45a1-9982-9a89093dbbef",
                  "synapseml.experimentName": "sample-bank-churn-experiment",
                  "synapseml.experiment.artifactId": "aac3abe5-642e-4506-8a16-b51026873814"
                }
              },
              "inputs": {
                "dataset_inputs": []
              }
            }
          },
          "metadata": {}
        }
      ],
      "execution_count": null,
      "metadata": {
        "jupyter": {
          "outputs_hidden": false,
          "source_hidden": false
        },
        "nteract": {
          "transient": {
            "deleting": false
          }
        },
        "id": "9f7d92a2-17ea-43b0-b17c-b3fac5b76af6",
        "outputId": "284e3cd8-ac18-41f3-b5f4-cfeb1a3dbfc3"
      },
      "id": "9f7d92a2-17ea-43b0-b17c-b3fac5b76af6"
    },
    {
      "cell_type": "markdown",
      "source": [
        "### Experiments artifact for tracking model performance\n",
        "\n",
        "The experiment runs are automatically saved in the experiment artifact that can be found from the workspace. They're named based on the name used for setting the experiment. All of the trained models, their runs, performance metrics and model parameters are logged as can be seen from the experiment page shown in the image below.   \n",
        "\n",
        "To view your experiments:\n",
        "1. On the left panel, select your workspace.\n",
        "1. Find and select the experiment name, in this case _sample-bank-churn-experiment_.\n",
        "\n",
        "<img src=\"https://synapseaisolutionsa.blob.core.windows.net/public/bankcustomerchurn/experiment_runs.png\"  width=\"400%\" height=\"100%\" title=\"Screenshot shows logged values for one of the models.\">"
      ],
      "metadata": {
        "nteract": {
          "transient": {
            "deleting": false
          }
        },
        "id": "449f8d4d-04ac-43a8-a6e4-1c10ace0c376"
      },
      "id": "449f8d4d-04ac-43a8-a6e4-1c10ace0c376"
    },
    {
      "cell_type": "markdown",
      "source": [
        "## Step 8: Evaluate and save the final machine learning model\n"
      ],
      "metadata": {
        "nteract": {
          "transient": {
            "deleting": false
          }
        },
        "id": "90431a0d-205d-4352-9205-c98ef3b905c4"
      },
      "id": "90431a0d-205d-4352-9205-c98ef3b905c4"
    },
    {
      "cell_type": "markdown",
      "source": [
        "Open the saved experiment from the workspace to select and save the best model."
      ],
      "metadata": {
        "nteract": {
          "transient": {
            "deleting": false
          }
        },
        "id": "c61dd49a-dbc4-41b2-9065-58acd9072a5a"
      },
      "id": "c61dd49a-dbc4-41b2-9065-58acd9072a5a"
    },
    {
      "cell_type": "code",
      "source": [
        "# Define run_uri to fetch the model\n",
        "# mlflow client: mlflow.model.url, list model\n",
        "load_model_rfc1_sm = mlflow.sklearn.load_model(f\"runs:/{rfc1_sm_run_id}/model\")\n",
        "load_model_rfc2_sm = mlflow.sklearn.load_model(f\"runs:/{rfc2_sm_run_id}/model\")\n",
        "load_model_lgbm1_sm = mlflow.lightgbm.load_model(f\"runs:/{lgbm1_sm_run_id}/model\")"
      ],
      "outputs": [
        {
          "output_type": "display_data",
          "data": {
            "application/vnd.livy.statement-meta+json": {
              "spark_pool": null,
              "session_id": "6a641aa0-deaf-4a58-90ef-f9f974aea84b",
              "statement_id": 76,
              "statement_ids": [
                76
              ],
              "state": "finished",
              "livy_statement_state": "available",
              "queued_time": "2024-05-08T19:00:38.777004Z",
              "session_start_time": null,
              "execution_start_time": "2024-05-08T19:00:39.9093283Z",
              "execution_finish_time": "2024-05-08T19:00:42.5651188Z",
              "parent_msg_id": "b1c1050b-da17-4adb-aa57-2ad3f040bcbd"
            },
            "text/plain": "StatementMeta(, 6a641aa0-deaf-4a58-90ef-f9f974aea84b, 76, Finished, Available)"
          },
          "metadata": {}
        },
        {
          "output_type": "display_data",
          "data": {
            "text/plain": "Downloading artifacts:   0%|          | 0/5 [00:00<?, ?it/s]",
            "application/vnd.jupyter.widget-view+json": {
              "version_major": 2,
              "version_minor": 0,
              "model_id": "a661e06954544c8aa4fdf4bb25320900"
            }
          },
          "metadata": {}
        },
        {
          "output_type": "display_data",
          "data": {
            "text/plain": "Downloading artifacts:   0%|          | 0/5 [00:00<?, ?it/s]",
            "application/vnd.jupyter.widget-view+json": {
              "version_major": 2,
              "version_minor": 0,
              "model_id": "2016ca2a63174bfa834f156fdf49b091"
            }
          },
          "metadata": {}
        },
        {
          "output_type": "display_data",
          "data": {
            "text/plain": "Downloading artifacts:   0%|          | 0/5 [00:00<?, ?it/s]",
            "application/vnd.jupyter.widget-view+json": {
              "version_major": 2,
              "version_minor": 0,
              "model_id": "6858106267104cafad6005e9ad9ceba5"
            }
          },
          "metadata": {}
        },
        {
          "output_type": "display_data",
          "data": {
            "application/vnd.livy.statement-meta+json": {
              "spark_pool": null,
              "session_id": "6a641aa0-deaf-4a58-90ef-f9f974aea84b",
              "statement_id": 77,
              "statement_ids": [
                77
              ],
              "state": "finished",
              "livy_statement_state": "available",
              "queued_time": "2024-05-08T19:00:45.5747194Z",
              "session_start_time": null,
              "execution_start_time": "2024-05-08T19:00:46.0831267Z",
              "execution_finish_time": "2024-05-08T19:00:46.3579041Z",
              "parent_msg_id": "81db790d-549b-404a-864b-3a63864f61c7"
            },
            "text/plain": "StatementMeta(, 6a641aa0-deaf-4a58-90ef-f9f974aea84b, 77, Finished, Available)"
          },
          "metadata": {}
        },
        {
          "output_type": "display_data",
          "data": {
            "application/vnd.livy.statement-meta+json": {
              "spark_pool": null,
              "session_id": "6a641aa0-deaf-4a58-90ef-f9f974aea84b",
              "statement_id": 78,
              "statement_ids": [
                78
              ],
              "state": "finished",
              "livy_statement_state": "available",
              "queued_time": "2024-05-08T19:00:48.2609776Z",
              "session_start_time": null,
              "execution_start_time": "2024-05-08T19:00:48.8026775Z",
              "execution_finish_time": "2024-05-08T19:00:49.0734817Z",
              "parent_msg_id": "dedf758c-b45f-4f2c-825b-0f8f39f77f92"
            },
            "text/plain": "StatementMeta(, 6a641aa0-deaf-4a58-90ef-f9f974aea84b, 78, Finished, Available)"
          },
          "metadata": {}
        },
        {
          "output_type": "display_data",
          "data": {
            "application/vnd.livy.statement-meta+json": {
              "spark_pool": null,
              "session_id": "6a641aa0-deaf-4a58-90ef-f9f974aea84b",
              "statement_id": 79,
              "statement_ids": [
                79
              ],
              "state": "finished",
              "livy_statement_state": "available",
              "queued_time": "2024-05-08T19:00:52.4485833Z",
              "session_start_time": null,
              "execution_start_time": "2024-05-08T19:00:52.9601537Z",
              "execution_finish_time": "2024-05-08T19:00:53.228657Z",
              "parent_msg_id": "c0343c09-098e-43db-93cd-94ff008df7f1"
            },
            "text/plain": "StatementMeta(, 6a641aa0-deaf-4a58-90ef-f9f974aea84b, 79, Finished, Available)"
          },
          "metadata": {}
        }
      ],
      "execution_count": null,
      "metadata": {
        "jupyter": {
          "outputs_hidden": false,
          "source_hidden": false
        },
        "nteract": {
          "transient": {
            "deleting": false
          }
        },
        "colab": {
          "referenced_widgets": [
            "a661e06954544c8aa4fdf4bb25320900",
            "2016ca2a63174bfa834f156fdf49b091",
            "6858106267104cafad6005e9ad9ceba5"
          ]
        },
        "id": "6f5dd987-2bc0-4ece-839d-d1a1fe66b6f1",
        "outputId": "5058fd4d-a512-4884-a0ae-ef4741e02b96"
      },
      "id": "6f5dd987-2bc0-4ece-839d-d1a1fe66b6f1"
    },
    {
      "cell_type": "markdown",
      "source": [
        "### Assess the performances of the saved models on test dataset"
      ],
      "metadata": {
        "nteract": {
          "transient": {
            "deleting": false
          }
        },
        "id": "5803d3b4-3c9f-4d62-bc2a-79f841ec45cc"
      },
      "id": "5803d3b4-3c9f-4d62-bc2a-79f841ec45cc"
    },
    {
      "cell_type": "code",
      "source": [
        "ypred_rfc1_sm = load_model_rfc1_sm.predict(X_test) # Random Forest with max depth of 4 and 4 features\n",
        "ypred_rfc2_sm = load_model_rfc2_sm.predict(X_test) # Random Forest with max depth of 8 and 6 features\n",
        "ypred_lgbm1_sm = load_model_lgbm1_sm.predict(X_test) # LightGBM"
      ],
      "outputs": [
        {
          "output_type": "display_data",
          "data": {
            "application/vnd.livy.statement-meta+json": {
              "spark_pool": null,
              "session_id": "6a641aa0-deaf-4a58-90ef-f9f974aea84b",
              "statement_id": 80,
              "statement_ids": [
                80
              ],
              "state": "finished",
              "livy_statement_state": "available",
              "queued_time": "2024-05-08T19:04:22.4107274Z",
              "session_start_time": null,
              "execution_start_time": "2024-05-08T19:04:22.9772418Z",
              "execution_finish_time": "2024-05-08T19:04:23.253283Z",
              "parent_msg_id": "c21afabb-fe34-4e76-8533-2153ff1a4d2f"
            },
            "text/plain": "StatementMeta(, 6a641aa0-deaf-4a58-90ef-f9f974aea84b, 80, Finished, Available)"
          },
          "metadata": {}
        },
        {
          "output_type": "stream",
          "name": "stdout",
          "text": [
            "[LightGBM] [Warning] Unknown parameter: eval_metric\n[LightGBM] [Warning] Accuracy may be bad since you didn't explicitly set num_leaves OR 2^max_depth > num_leaves. (num_leaves=31).\n"
          ]
        }
      ],
      "execution_count": null,
      "metadata": {
        "jupyter": {
          "outputs_hidden": false,
          "source_hidden": false
        },
        "nteract": {
          "transient": {
            "deleting": false
          }
        },
        "id": "0181064b-34b6-4f26-879d-9d145edfac06",
        "outputId": "b2f94297-31b9-4854-f781-a6a65bd74d01"
      },
      "id": "0181064b-34b6-4f26-879d-9d145edfac06"
    },
    {
      "cell_type": "markdown",
      "source": [
        "### Show True/False Positives/Negatives using the Confusion Matrix\n",
        "\n",
        "Develop a script to plot the confusion matrix in order to evaluate the accuracy of the classification. You can also plot a confusion matrix using SynapseML tools, which is shown in the [Fraud Detection sample](https://aka.ms/samples/frauddectection)."
      ],
      "metadata": {
        "nteract": {
          "transient": {
            "deleting": false
          }
        },
        "id": "97eb022f-cf7a-4b1e-8c5c-d0c5dfe4a9f1"
      },
      "id": "97eb022f-cf7a-4b1e-8c5c-d0c5dfe4a9f1"
    },
    {
      "cell_type": "code",
      "source": [
        "def plot_confusion_matrix(cm, classes,\n",
        "                          normalize=False,\n",
        "                          title='Confusion matrix',\n",
        "                          cmap=plt.cm.Blues):\n",
        "    print(cm)\n",
        "    plt.figure(figsize=(4,4))\n",
        "    plt.rcParams.update({'font.size': 10})\n",
        "    plt.imshow(cm, interpolation='nearest', cmap=cmap)\n",
        "    plt.title(title)\n",
        "    plt.colorbar()\n",
        "    tick_marks = np.arange(len(classes))\n",
        "    plt.xticks(tick_marks, classes, rotation=45, color=\"blue\")\n",
        "    plt.yticks(tick_marks, classes, color=\"blue\")\n",
        "\n",
        "    fmt = '.2f' if normalize else 'd'\n",
        "    thresh = cm.max() / 2.\n",
        "    for i, j in itertools.product(range(cm.shape[0]), range(cm.shape[1])):\n",
        "        plt.text(j, i, format(cm[i, j], fmt),\n",
        "                 horizontalalignment=\"center\",\n",
        "                 color=\"red\" if cm[i, j] > thresh else \"black\")\n",
        "\n",
        "    plt.tight_layout()\n",
        "    plt.ylabel('True label')\n",
        "    plt.xlabel('Predicted label')"
      ],
      "outputs": [
        {
          "output_type": "display_data",
          "data": {
            "application/vnd.livy.statement-meta+json": {
              "spark_pool": null,
              "session_id": "6a641aa0-deaf-4a58-90ef-f9f974aea84b",
              "statement_id": 81,
              "statement_ids": [
                81
              ],
              "state": "finished",
              "livy_statement_state": "available",
              "queued_time": "2024-05-08T19:04:38.6127692Z",
              "session_start_time": null,
              "execution_start_time": "2024-05-08T19:04:39.1253595Z",
              "execution_finish_time": "2024-05-08T19:04:39.3906765Z",
              "parent_msg_id": "6a0380b2-f833-47a3-a9c1-c52c3cd88142"
            },
            "text/plain": "StatementMeta(, 6a641aa0-deaf-4a58-90ef-f9f974aea84b, 81, Finished, Available)"
          },
          "metadata": {}
        }
      ],
      "execution_count": null,
      "metadata": {
        "jupyter": {
          "outputs_hidden": false,
          "source_hidden": false
        },
        "nteract": {
          "transient": {
            "deleting": false
          }
        },
        "id": "53ae34cf-eed2-457f-8088-00f73acedd3b",
        "outputId": "f2107860-d7b5-45c1-b015-15d59b14e4f1"
      },
      "id": "53ae34cf-eed2-457f-8088-00f73acedd3b"
    },
    {
      "cell_type": "markdown",
      "source": [
        "Create a confusion matrix for Random Forest Classifier with maximum depth of four, with four features.\n"
      ],
      "metadata": {
        "nteract": {
          "transient": {
            "deleting": false
          }
        },
        "id": "b394b5b7-f4ca-4838-b77f-8ef8bdfd409f"
      },
      "id": "b394b5b7-f4ca-4838-b77f-8ef8bdfd409f"
    },
    {
      "cell_type": "code",
      "source": [
        "cfm = confusion_matrix(y_test, y_pred=ypred_rfc1_sm)\n",
        "plot_confusion_matrix(cfm, classes=['Non Churn','Churn'],\n",
        "                      title='Random Forest with max depth of 4')\n",
        "tn, fp, fn, tp = cfm.ravel()"
      ],
      "outputs": [
        {
          "output_type": "display_data",
          "data": {
            "application/vnd.livy.statement-meta+json": {
              "spark_pool": null,
              "session_id": "6a641aa0-deaf-4a58-90ef-f9f974aea84b",
              "statement_id": 82,
              "statement_ids": [
                82
              ],
              "state": "finished",
              "livy_statement_state": "available",
              "queued_time": "2024-05-08T19:04:44.6903526Z",
              "session_start_time": null,
              "execution_start_time": "2024-05-08T19:04:45.1920118Z",
              "execution_finish_time": "2024-05-08T19:04:45.9912005Z",
              "parent_msg_id": "89dfc341-090a-4124-8182-e8f4ac2147d1"
            },
            "text/plain": "StatementMeta(, 6a641aa0-deaf-4a58-90ef-f9f974aea84b, 82, Finished, Available)"
          },
          "metadata": {}
        },
        {
          "output_type": "stream",
          "name": "stdout",
          "text": [
            "[[1389  221]\n [ 144  246]]\n"
          ]
        },
        {
          "output_type": "display_data",
          "data": {
            "text/plain": "<Figure size 400x400 with 2 Axes>",
            "image/png": "[encoded data removed]"
          },
          "metadata": {}
        }
      ],
      "execution_count": null,
      "metadata": {
        "jupyter": {
          "outputs_hidden": false,
          "source_hidden": false
        },
        "nteract": {
          "transient": {
            "deleting": false
          }
        },
        "id": "89c19e11-fcab-4cd4-96d1-1f97a1ac7215",
        "outputId": "c399435e-c75f-443b-b205-fcb3989e9aa6"
      },
      "id": "89c19e11-fcab-4cd4-96d1-1f97a1ac7215"
    },
    {
      "cell_type": "markdown",
      "source": [
        "Create a confusion matrix for Random Forest Classifier with maximum depth of eight, with six features."
      ],
      "metadata": {
        "nteract": {
          "transient": {
            "deleting": false
          }
        },
        "id": "50a20d7f-d9cb-42ca-a537-1b50894bedfb"
      },
      "id": "50a20d7f-d9cb-42ca-a537-1b50894bedfb"
    },
    {
      "cell_type": "code",
      "source": [
        "cfm = confusion_matrix(y_test, y_pred=ypred_rfc2_sm)\n",
        "plot_confusion_matrix(cfm, classes=['Non Churn','Churn'],\n",
        "                      title='Random Forest with max depth of 8')\n",
        "tn, fp, fn, tp = cfm.ravel()"
      ],
      "outputs": [
        {
          "output_type": "display_data",
          "data": {
            "application/vnd.livy.statement-meta+json": {
              "spark_pool": null,
              "session_id": "6a641aa0-deaf-4a58-90ef-f9f974aea84b",
              "statement_id": 83,
              "statement_ids": [
                83
              ],
              "state": "finished",
              "livy_statement_state": "available",
              "queued_time": "2024-05-08T19:06:10.4187239Z",
              "session_start_time": null,
              "execution_start_time": "2024-05-08T19:06:10.9952235Z",
              "execution_finish_time": "2024-05-08T19:06:11.8546228Z",
              "parent_msg_id": "400f0150-a86e-4f5e-993f-28f5a195c7f2"
            },
            "text/plain": "StatementMeta(, 6a641aa0-deaf-4a58-90ef-f9f974aea84b, 83, Finished, Available)"
          },
          "metadata": {}
        },
        {
          "output_type": "stream",
          "name": "stdout",
          "text": [
            "[[1460  150]\n [ 149  241]]\n"
          ]
        },
        {
          "output_type": "display_data",
          "data": {
            "text/plain": "<Figure size 400x400 with 2 Axes>",
            "image/png": "[encoded data removed]"
          },
          "metadata": {}
        }
      ],
      "execution_count": null,
      "metadata": {
        "jupyter": {
          "outputs_hidden": false,
          "source_hidden": false
        },
        "nteract": {
          "transient": {
            "deleting": false
          }
        },
        "id": "c5fefc40-de64-4480-8f21-0efd11538f93",
        "outputId": "6570a66c-67da-4812-fe81-7619061c6e9a"
      },
      "id": "c5fefc40-de64-4480-8f21-0efd11538f93"
    },
    {
      "cell_type": "markdown",
      "source": [
        "Create the confusion matrix for LightGBM."
      ],
      "metadata": {
        "nteract": {
          "transient": {
            "deleting": false
          }
        },
        "id": "ef73db99-3670-44cb-8e15-f3885ca9a02b"
      },
      "id": "ef73db99-3670-44cb-8e15-f3885ca9a02b"
    },
    {
      "cell_type": "code",
      "source": [
        "cfm = confusion_matrix(y_test, y_pred=ypred_lgbm1_sm)\n",
        "plot_confusion_matrix(cfm, classes=['Non Churn','Churn'],\n",
        "                      title='LightGBM')\n",
        "tn, fp, fn, tp = cfm.ravel()"
      ],
      "outputs": [
        {
          "output_type": "display_data",
          "data": {
            "application/vnd.livy.statement-meta+json": {
              "spark_pool": null,
              "session_id": "6a641aa0-deaf-4a58-90ef-f9f974aea84b",
              "statement_id": 84,
              "statement_ids": [
                84
              ],
              "state": "finished",
              "livy_statement_state": "available",
              "queued_time": "2024-05-08T19:06:24.4602265Z",
              "session_start_time": null,
              "execution_start_time": "2024-05-08T19:06:24.9973094Z",
              "execution_finish_time": "2024-05-08T19:06:25.8876432Z",
              "parent_msg_id": "f1753041-0ddd-41a4-a1a7-2874deae5371"
            },
            "text/plain": "StatementMeta(, 6a641aa0-deaf-4a58-90ef-f9f974aea84b, 84, Finished, Available)"
          },
          "metadata": {}
        },
        {
          "output_type": "stream",
          "name": "stdout",
          "text": [
            "[[1503  107]\n [ 157  233]]\n"
          ]
        },
        {
          "output_type": "display_data",
          "data": {
            "text/plain": "<Figure size 400x400 with 2 Axes>",
            "image/png": "[encoded data removed]"
          },
          "metadata": {}
        }
      ],
      "execution_count": null,
      "metadata": {
        "jupyter": {
          "outputs_hidden": false,
          "source_hidden": false
        },
        "nteract": {
          "transient": {
            "deleting": false
          }
        },
        "id": "05052942-cb51-461e-861c-8312bc6182d8",
        "outputId": "4e11394a-4e87-4b37-c0de-6dfaefccab2a"
      },
      "id": "05052942-cb51-461e-861c-8312bc6182d8"
    }
  ],
  "metadata": {
    "kernel_info": {
      "name": "synapse_pyspark"
    },
    "kernelspec": {
      "display_name": "Synapse PySpark",
      "language": "Python",
      "name": "synapse_pyspark"
    },
    "language_info": {
      "name": "python"
    },
    "notebook_environment": {},
    "nteract": {
      "version": "nteract-front-end@1.0.0"
    },
    "microsoft": {
      "language": "python",
      "ms_spell_check": {
        "ms_spell_check_language": "en"
      }
    },
    "widgets": {
      "application/vnd.jupyter.widget-state+json": {}
    },
    "synapse_widget": {
      "version": "0.1",
      "state": {
        "13421cb3-ab69-482e-927c-3cda6d8f452f": {
          "type": "Synapse.DataFrame",
          "sync_state": {
            "profileResult": {
              "label": "DataFrame_-350685465",
              "numRecords": 10000,
              "columnProfiles": [
                {
                  "column": "Balance",
                  "profile": {
                    "column": "Balance",
                    "dataType": "float",
                    "completeness": 1,
                    "count": 10000,
                    "advanceProperty": {
                      "numNan": 0,
                      "numZero": 3617
                    },
                    "min": 0,
                    "max": 250898.09,
                    "mean": 76485.88928799999,
                    "stddev": 62394.28525412519,
                    "distinctCount": 7099,
                    "quantiles": [
                      {
                        "percentage": 0,
                        "value": 0
                      },
                      {
                        "percentage": 0.01,
                        "value": 0
                      },
                      {
                        "percentage": 0.02,
                        "value": 0
                      },
                      {
                        "percentage": 0.03,
                        "value": 0
                      },
                      {
                        "percentage": 0.04,
                        "value": 0
                      },
                      {
                        "percentage": 0.05,
                        "value": 0
                      },
                      {
                        "percentage": 0.06,
                        "value": 0
                      },
                      {
                        "percentage": 0.07,
                        "value": 0
                      },
                      {
                        "percentage": 0.08,
                        "value": 0
                      },
                      {
                        "percentage": 0.09,
                        "value": 0
                      },
                      {
                        "percentage": 0.1,
                        "value": 0
                      },
                      {
                        "percentage": 0.11,
                        "value": 0
                      },
                      {
                        "percentage": 0.12,
                        "value": 0
                      },
                      {
                        "percentage": 0.13,
                        "value": 0
                      },
                      {
                        "percentage": 0.14,
                        "value": 0
                      },
                      {
                        "percentage": 0.15,
                        "value": 0
                      },
                      {
                        "percentage": 0.16,
                        "value": 0
                      },
                      {
                        "percentage": 0.17,
                        "value": 0
                      },
                      {
                        "percentage": 0.18,
                        "value": 0
                      },
                      {
                        "percentage": 0.19,
                        "value": 0
                      },
                      {
                        "percentage": 0.2,
                        "value": 0
                      },
                      {
                        "percentage": 0.21,
                        "value": 0
                      },
                      {
                        "percentage": 0.22,
                        "value": 0
                      },
                      {
                        "percentage": 0.23,
                        "value": 0
                      },
                      {
                        "percentage": 0.24,
                        "value": 0
                      },
                      {
                        "percentage": 0.25,
                        "value": 0
                      },
                      {
                        "percentage": 0.26,
                        "value": 0
                      },
                      {
                        "percentage": 0.27,
                        "value": 0
                      },
                      {
                        "percentage": 0.28,
                        "value": 0
                      },
                      {
                        "percentage": 0.29,
                        "value": 0
                      },
                      {
                        "percentage": 0.3,
                        "value": 0
                      },
                      {
                        "percentage": 0.31,
                        "value": 0
                      },
                      {
                        "percentage": 0.32,
                        "value": 0
                      },
                      {
                        "percentage": 0.33,
                        "value": 0
                      },
                      {
                        "percentage": 0.34,
                        "value": 0
                      },
                      {
                        "percentage": 0.35,
                        "value": 0
                      },
                      {
                        "percentage": 0.36,
                        "value": 0
                      },
                      {
                        "percentage": 0.37,
                        "value": 51949.95
                      },
                      {
                        "percentage": 0.38,
                        "value": 62078.21
                      },
                      {
                        "percentage": 0.39,
                        "value": 68639.57
                      },
                      {
                        "percentage": 0.4,
                        "value": 73088.06
                      },
                      {
                        "percentage": 0.41,
                        "value": 77065.9
                      },
                      {
                        "percentage": 0.42,
                        "value": 79962.92
                      },
                      {
                        "percentage": 0.43,
                        "value": 82547.11
                      },
                      {
                        "percentage": 0.44,
                        "value": 84903.33
                      },
                      {
                        "percentage": 0.45,
                        "value": 87624.03
                      },
                      {
                        "percentage": 0.46,
                        "value": 89968.69
                      },
                      {
                        "percentage": 0.47,
                        "value": 92053
                      },
                      {
                        "percentage": 0.48,
                        "value": 93925.3
                      },
                      {
                        "percentage": 0.49,
                        "value": 95772.97
                      },
                      {
                        "percentage": 0.5,
                        "value": 97208.46
                      },
                      {
                        "percentage": 0.51,
                        "value": 98640.74
                      },
                      {
                        "percentage": 0.52,
                        "value": 99986.98
                      },
                      {
                        "percentage": 0.53,
                        "value": 101465.31
                      },
                      {
                        "percentage": 0.54,
                        "value": 102827.44
                      },
                      {
                        "percentage": 0.55,
                        "value": 104149.66
                      },
                      {
                        "percentage": 0.56,
                        "value": 105346.03
                      },
                      {
                        "percentage": 0.57,
                        "value": 106545.53
                      },
                      {
                        "percentage": 0.58,
                        "value": 107879.04
                      },
                      {
                        "percentage": 0.59,
                        "value": 108924.33
                      },
                      {
                        "percentage": 0.6,
                        "value": 110148.49
                      },
                      {
                        "percentage": 0.61,
                        "value": 111388.18
                      },
                      {
                        "percentage": 0.62,
                        "value": 112652.08
                      },
                      {
                        "percentage": 0.63,
                        "value": 113865.23
                      },
                      {
                        "percentage": 0.64,
                        "value": 115062.61
                      },
                      {
                        "percentage": 0.65,
                        "value": 116227.27
                      },
                      {
                        "percentage": 0.66,
                        "value": 117304.29
                      },
                      {
                        "percentage": 0.67,
                        "value": 118537.47
                      },
                      {
                        "percentage": 0.68,
                        "value": 119769.77
                      },
                      {
                        "percentage": 0.69,
                        "value": 121063.85
                      },
                      {
                        "percentage": 0.7,
                        "value": 122031.55
                      },
                      {
                        "percentage": 0.71,
                        "value": 123177.01
                      },
                      {
                        "percentage": 0.72,
                        "value": 124197.22
                      },
                      {
                        "percentage": 0.73,
                        "value": 125397.21
                      },
                      {
                        "percentage": 0.74,
                        "value": 126588.81
                      },
                      {
                        "percentage": 0.75,
                        "value": 127649.64
                      },
                      {
                        "percentage": 0.76,
                        "value": 128707.31
                      },
                      {
                        "percentage": 0.77,
                        "value": 129837.72
                      },
                      {
                        "percentage": 0.78,
                        "value": 131184.67
                      },
                      {
                        "percentage": 0.79,
                        "value": 132446.08
                      },
                      {
                        "percentage": 0.8,
                        "value": 133723.43
                      },
                      {
                        "percentage": 0.81,
                        "value": 135096.77
                      },
                      {
                        "percentage": 0.82,
                        "value": 136709.35
                      },
                      {
                        "percentage": 0.83,
                        "value": 137936.94
                      },
                      {
                        "percentage": 0.84,
                        "value": 139451.67
                      },
                      {
                        "percentage": 0.85,
                        "value": 140900.97
                      },
                      {
                        "percentage": 0.86,
                        "value": 142393.11
                      },
                      {
                        "percentage": 0.87,
                        "value": 144147.68
                      },
                      {
                        "percentage": 0.88,
                        "value": 145747.67
                      },
                      {
                        "percentage": 0.89,
                        "value": 147511.26
                      },
                      {
                        "percentage": 0.9,
                        "value": 149297.19
                      },
                      {
                        "percentage": 0.91,
                        "value": 151701.45
                      },
                      {
                        "percentage": 0.92,
                        "value": 153572.31
                      },
                      {
                        "percentage": 0.93,
                        "value": 156001.68
                      },
                      {
                        "percentage": 0.94,
                        "value": 159203.71
                      },
                      {
                        "percentage": 0.95,
                        "value": 162888.73
                      },
                      {
                        "percentage": 0.96,
                        "value": 166594.78
                      },
                      {
                        "percentage": 0.97,
                        "value": 170833.46
                      },
                      {
                        "percentage": 0.98,
                        "value": 176958.46
                      },
                      {
                        "percentage": 0.99,
                        "value": 186101.18
                      },
                      {
                        "percentage": 1,
                        "value": 250898.09
                      }
                    ],
                    "histograms": [
                      {
                        "minBin": 0,
                        "count": 3623
                      },
                      {
                        "minBin": 25089.809,
                        "count": 69
                      },
                      {
                        "minBin": 50179.618,
                        "count": 360
                      },
                      {
                        "minBin": 75269.427,
                        "count": 1173
                      },
                      {
                        "minBin": 100359.236,
                        "count": 2081
                      },
                      {
                        "minBin": 125449.04500000001,
                        "count": 1747
                      },
                      {
                        "minBin": 150538.854,
                        "count": 729.0000000000001
                      },
                      {
                        "minBin": 175628.663,
                        "count": 185.99999999999997
                      },
                      {
                        "minBin": 200718.472,
                        "count": 30
                      },
                      {
                        "minBin": 225808.28100000002,
                        "count": 2
                      }
                    ]
                  }
                },
                {
                  "column": "CustomerId",
                  "profile": {
                    "column": "CustomerId",
                    "dataType": "integer",
                    "completeness": 1,
                    "count": 10000,
                    "advanceProperty": {
                      "numNan": 0,
                      "numZero": 0
                    },
                    "min": 15565701,
                    "max": 15815690,
                    "mean": 15690940.569399992,
                    "stddev": 71932.58922351783,
                    "distinctCount": 9889,
                    "quantiles": [
                      {
                        "percentage": 0,
                        "value": 15565701
                      },
                      {
                        "percentage": 0.01,
                        "value": 15568506
                      },
                      {
                        "percentage": 0.02,
                        "value": 15570931
                      },
                      {
                        "percentage": 0.03,
                        "value": 15573730
                      },
                      {
                        "percentage": 0.04,
                        "value": 15576131
                      },
                      {
                        "percentage": 0.05,
                        "value": 15578825
                      },
                      {
                        "percentage": 0.06,
                        "value": 15581440
                      },
                      {
                        "percentage": 0.07,
                        "value": 15584113
                      },
                      {
                        "percentage": 0.08,
                        "value": 15586522
                      },
                      {
                        "percentage": 0.09,
                        "value": 15589018
                      },
                      {
                        "percentage": 0.1,
                        "value": 15591169
                      },
                      {
                        "percentage": 0.11,
                        "value": 15593555
                      },
                      {
                        "percentage": 0.12,
                        "value": 15596011
                      },
                      {
                        "percentage": 0.13,
                        "value": 15598838
                      },
                      {
                        "percentage": 0.14,
                        "value": 15601184
                      },
                      {
                        "percentage": 0.15,
                        "value": 15603883
                      },
                      {
                        "percentage": 0.16,
                        "value": 15606232
                      },
                      {
                        "percentage": 0.17,
                        "value": 15608956
                      },
                      {
                        "percentage": 0.18,
                        "value": 15611365
                      },
                      {
                        "percentage": 0.19,
                        "value": 15613786
                      },
                      {
                        "percentage": 0.2,
                        "value": 15616380
                      },
                      {
                        "percentage": 0.21,
                        "value": 15619116
                      },
                      {
                        "percentage": 0.22,
                        "value": 15621870
                      },
                      {
                        "percentage": 0.23,
                        "value": 15624343
                      },
                      {
                        "percentage": 0.24,
                        "value": 15626233
                      },
                      {
                        "percentage": 0.25,
                        "value": 15628530
                      },
                      {
                        "percentage": 0.26,
                        "value": 15631339
                      },
                      {
                        "percentage": 0.27,
                        "value": 15633640
                      },
                      {
                        "percentage": 0.28,
                        "value": 15636388
                      },
                      {
                        "percentage": 0.29,
                        "value": 15638646
                      },
                      {
                        "percentage": 0.3,
                        "value": 15641366
                      },
                      {
                        "percentage": 0.31,
                        "value": 15643523
                      },
                      {
                        "percentage": 0.32,
                        "value": 15645847
                      },
                      {
                        "percentage": 0.33,
                        "value": 15648702
                      },
                      {
                        "percentage": 0.34,
                        "value": 15651280
                      },
                      {
                        "percentage": 0.35,
                        "value": 15654156
                      },
                      {
                        "percentage": 0.36,
                        "value": 15656333
                      },
                      {
                        "percentage": 0.37,
                        "value": 15658852
                      },
                      {
                        "percentage": 0.38,
                        "value": 15661249
                      },
                      {
                        "percentage": 0.39,
                        "value": 15663706
                      },
                      {
                        "percentage": 0.4,
                        "value": 15665790
                      },
                      {
                        "percentage": 0.41,
                        "value": 15668472
                      },
                      {
                        "percentage": 0.42,
                        "value": 15670889
                      },
                      {
                        "percentage": 0.43,
                        "value": 15673055
                      },
                      {
                        "percentage": 0.44,
                        "value": 15675854
                      },
                      {
                        "percentage": 0.45,
                        "value": 15678412
                      },
                      {
                        "percentage": 0.46,
                        "value": 15680843
                      },
                      {
                        "percentage": 0.47,
                        "value": 15683213
                      },
                      {
                        "percentage": 0.48,
                        "value": 15685640
                      },
                      {
                        "percentage": 0.49,
                        "value": 15688264
                      },
                      {
                        "percentage": 0.5,
                        "value": 15690743
                      },
                      {
                        "percentage": 0.51,
                        "value": 15693376
                      },
                      {
                        "percentage": 0.52,
                        "value": 15695499
                      },
                      {
                        "percentage": 0.53,
                        "value": 15698324
                      },
                      {
                        "percentage": 0.54,
                        "value": 15700752
                      },
                      {
                        "percentage": 0.55,
                        "value": 15703019
                      },
                      {
                        "percentage": 0.56,
                        "value": 15705707
                      },
                      {
                        "percentage": 0.57,
                        "value": 15708196
                      },
                      {
                        "percentage": 0.58,
                        "value": 15710687
                      },
                      {
                        "percentage": 0.59,
                        "value": 15713463
                      },
                      {
                        "percentage": 0.6,
                        "value": 15715707
                      },
                      {
                        "percentage": 0.61,
                        "value": 15718280
                      },
                      {
                        "percentage": 0.62,
                        "value": 15720847
                      },
                      {
                        "percentage": 0.63,
                        "value": 15723318
                      },
                      {
                        "percentage": 0.64,
                        "value": 15725355
                      },
                      {
                        "percentage": 0.65,
                        "value": 15727703
                      },
                      {
                        "percentage": 0.66,
                        "value": 15730418
                      },
                      {
                        "percentage": 0.67,
                        "value": 15732967
                      },
                      {
                        "percentage": 0.68,
                        "value": 15735439
                      },
                      {
                        "percentage": 0.69,
                        "value": 15737888
                      },
                      {
                        "percentage": 0.7,
                        "value": 15740470
                      },
                      {
                        "percentage": 0.71,
                        "value": 15743490
                      },
                      {
                        "percentage": 0.72,
                        "value": 15746127
                      },
                      {
                        "percentage": 0.73,
                        "value": 15748673
                      },
                      {
                        "percentage": 0.74,
                        "value": 15750808
                      },
                      {
                        "percentage": 0.75,
                        "value": 15753248
                      },
                      {
                        "percentage": 0.76,
                        "value": 15756167
                      },
                      {
                        "percentage": 0.77,
                        "value": 15758306
                      },
                      {
                        "percentage": 0.78,
                        "value": 15761024
                      },
                      {
                        "percentage": 0.79,
                        "value": 15763218
                      },
                      {
                        "percentage": 0.8,
                        "value": 15765846
                      },
                      {
                        "percentage": 0.81,
                        "value": 15768367
                      },
                      {
                        "percentage": 0.82,
                        "value": 15770974
                      },
                      {
                        "percentage": 0.83,
                        "value": 15773469
                      },
                      {
                        "percentage": 0.84,
                        "value": 15775625
                      },
                      {
                        "percentage": 0.85,
                        "value": 15777907
                      },
                      {
                        "percentage": 0.86,
                        "value": 15780386
                      },
                      {
                        "percentage": 0.87,
                        "value": 15782758
                      },
                      {
                        "percentage": 0.88,
                        "value": 15785542
                      },
                      {
                        "percentage": 0.89,
                        "value": 15788224
                      },
                      {
                        "percentage": 0.9,
                        "value": 15790846
                      },
                      {
                        "percentage": 0.91,
                        "value": 15793197
                      },
                      {
                        "percentage": 0.92,
                        "value": 15795519
                      },
                      {
                        "percentage": 0.93,
                        "value": 15798084
                      },
                      {
                        "percentage": 0.94,
                        "value": 15800554
                      },
                      {
                        "percentage": 0.95,
                        "value": 15803078
                      },
                      {
                        "percentage": 0.96,
                        "value": 15805884
                      },
                      {
                        "percentage": 0.97,
                        "value": 15808223
                      },
                      {
                        "percentage": 0.98,
                        "value": 15810826
                      },
                      {
                        "percentage": 0.99,
                        "value": 15813132
                      },
                      {
                        "percentage": 1,
                        "value": 15815690
                      }
                    ],
                    "histograms": [
                      {
                        "minBin": 15565701,
                        "count": 981.0000000000001
                      },
                      {
                        "minBin": 15590699,
                        "count": 995
                      },
                      {
                        "minBin": 15615697,
                        "count": 993
                      },
                      {
                        "minBin": 15640695,
                        "count": 1025
                      },
                      {
                        "minBin": 15665693,
                        "count": 1003
                      },
                      {
                        "minBin": 15690691,
                        "count": 1003
                      },
                      {
                        "minBin": 15715689,
                        "count": 1008
                      },
                      {
                        "minBin": 15740687,
                        "count": 988
                      },
                      {
                        "minBin": 15765685,
                        "count": 993
                      },
                      {
                        "minBin": 15790683,
                        "count": 1011
                      }
                    ]
                  }
                },
                {
                  "column": "Tenure",
                  "profile": {
                    "column": "Tenure",
                    "dataType": "integer",
                    "completeness": 1,
                    "count": 10000,
                    "advanceProperty": {
                      "numNan": 0,
                      "numZero": 413
                    },
                    "min": 0,
                    "max": 10,
                    "mean": 5.012800000000003,
                    "stddev": 2.8920297647154327,
                    "distinctCount": 11,
                    "quantiles": [
                      {
                        "percentage": 0,
                        "value": 0
                      },
                      {
                        "percentage": 0.01,
                        "value": 0
                      },
                      {
                        "percentage": 0.02,
                        "value": 0
                      },
                      {
                        "percentage": 0.03,
                        "value": 0
                      },
                      {
                        "percentage": 0.04,
                        "value": 0
                      },
                      {
                        "percentage": 0.05,
                        "value": 1
                      },
                      {
                        "percentage": 0.06,
                        "value": 1
                      },
                      {
                        "percentage": 0.07,
                        "value": 1
                      },
                      {
                        "percentage": 0.08,
                        "value": 1
                      },
                      {
                        "percentage": 0.09,
                        "value": 1
                      },
                      {
                        "percentage": 0.1,
                        "value": 1
                      },
                      {
                        "percentage": 0.11,
                        "value": 1
                      },
                      {
                        "percentage": 0.12,
                        "value": 1
                      },
                      {
                        "percentage": 0.13,
                        "value": 1
                      },
                      {
                        "percentage": 0.14,
                        "value": 1
                      },
                      {
                        "percentage": 0.15,
                        "value": 2
                      },
                      {
                        "percentage": 0.16,
                        "value": 2
                      },
                      {
                        "percentage": 0.17,
                        "value": 2
                      },
                      {
                        "percentage": 0.18,
                        "value": 2
                      },
                      {
                        "percentage": 0.19,
                        "value": 2
                      },
                      {
                        "percentage": 0.2,
                        "value": 2
                      },
                      {
                        "percentage": 0.21,
                        "value": 2
                      },
                      {
                        "percentage": 0.22,
                        "value": 2
                      },
                      {
                        "percentage": 0.23,
                        "value": 2
                      },
                      {
                        "percentage": 0.24,
                        "value": 2
                      },
                      {
                        "percentage": 0.25,
                        "value": 3
                      },
                      {
                        "percentage": 0.26,
                        "value": 3
                      },
                      {
                        "percentage": 0.27,
                        "value": 3
                      },
                      {
                        "percentage": 0.28,
                        "value": 3
                      },
                      {
                        "percentage": 0.29,
                        "value": 3
                      },
                      {
                        "percentage": 0.3,
                        "value": 3
                      },
                      {
                        "percentage": 0.31,
                        "value": 3
                      },
                      {
                        "percentage": 0.32,
                        "value": 3
                      },
                      {
                        "percentage": 0.33,
                        "value": 3
                      },
                      {
                        "percentage": 0.34,
                        "value": 3
                      },
                      {
                        "percentage": 0.35,
                        "value": 3
                      },
                      {
                        "percentage": 0.36,
                        "value": 4
                      },
                      {
                        "percentage": 0.37,
                        "value": 4
                      },
                      {
                        "percentage": 0.38,
                        "value": 4
                      },
                      {
                        "percentage": 0.39,
                        "value": 4
                      },
                      {
                        "percentage": 0.4,
                        "value": 4
                      },
                      {
                        "percentage": 0.41,
                        "value": 4
                      },
                      {
                        "percentage": 0.42,
                        "value": 4
                      },
                      {
                        "percentage": 0.43,
                        "value": 4
                      },
                      {
                        "percentage": 0.44,
                        "value": 4
                      },
                      {
                        "percentage": 0.45,
                        "value": 5
                      },
                      {
                        "percentage": 0.46,
                        "value": 5
                      },
                      {
                        "percentage": 0.47,
                        "value": 5
                      },
                      {
                        "percentage": 0.48,
                        "value": 5
                      },
                      {
                        "percentage": 0.49,
                        "value": 5
                      },
                      {
                        "percentage": 0.5,
                        "value": 5
                      },
                      {
                        "percentage": 0.51,
                        "value": 5
                      },
                      {
                        "percentage": 0.52,
                        "value": 5
                      },
                      {
                        "percentage": 0.53,
                        "value": 5
                      },
                      {
                        "percentage": 0.54,
                        "value": 5
                      },
                      {
                        "percentage": 0.55,
                        "value": 5
                      },
                      {
                        "percentage": 0.56,
                        "value": 6
                      },
                      {
                        "percentage": 0.57,
                        "value": 6
                      },
                      {
                        "percentage": 0.58,
                        "value": 6
                      },
                      {
                        "percentage": 0.59,
                        "value": 6
                      },
                      {
                        "percentage": 0.6,
                        "value": 6
                      },
                      {
                        "percentage": 0.61,
                        "value": 6
                      },
                      {
                        "percentage": 0.62,
                        "value": 6
                      },
                      {
                        "percentage": 0.63,
                        "value": 6
                      },
                      {
                        "percentage": 0.64,
                        "value": 6
                      },
                      {
                        "percentage": 0.65,
                        "value": 7
                      },
                      {
                        "percentage": 0.66,
                        "value": 7
                      },
                      {
                        "percentage": 0.67,
                        "value": 7
                      },
                      {
                        "percentage": 0.68,
                        "value": 7
                      },
                      {
                        "percentage": 0.69,
                        "value": 7
                      },
                      {
                        "percentage": 0.7,
                        "value": 7
                      },
                      {
                        "percentage": 0.71,
                        "value": 7
                      },
                      {
                        "percentage": 0.72,
                        "value": 7
                      },
                      {
                        "percentage": 0.73,
                        "value": 7
                      },
                      {
                        "percentage": 0.74,
                        "value": 7
                      },
                      {
                        "percentage": 0.75,
                        "value": 7
                      },
                      {
                        "percentage": 0.76,
                        "value": 8
                      },
                      {
                        "percentage": 0.77,
                        "value": 8
                      },
                      {
                        "percentage": 0.78,
                        "value": 8
                      },
                      {
                        "percentage": 0.79,
                        "value": 8
                      },
                      {
                        "percentage": 0.8,
                        "value": 8
                      },
                      {
                        "percentage": 0.81,
                        "value": 8
                      },
                      {
                        "percentage": 0.82,
                        "value": 8
                      },
                      {
                        "percentage": 0.83,
                        "value": 8
                      },
                      {
                        "percentage": 0.84,
                        "value": 8
                      },
                      {
                        "percentage": 0.85,
                        "value": 8
                      },
                      {
                        "percentage": 0.86,
                        "value": 9
                      },
                      {
                        "percentage": 0.87,
                        "value": 9
                      },
                      {
                        "percentage": 0.88,
                        "value": 9
                      },
                      {
                        "percentage": 0.89,
                        "value": 9
                      },
                      {
                        "percentage": 0.9,
                        "value": 9
                      },
                      {
                        "percentage": 0.91,
                        "value": 9
                      },
                      {
                        "percentage": 0.92,
                        "value": 9
                      },
                      {
                        "percentage": 0.93,
                        "value": 9
                      },
                      {
                        "percentage": 0.94,
                        "value": 9
                      },
                      {
                        "percentage": 0.95,
                        "value": 9
                      },
                      {
                        "percentage": 0.96,
                        "value": 10
                      },
                      {
                        "percentage": 0.97,
                        "value": 10
                      },
                      {
                        "percentage": 0.98,
                        "value": 10
                      },
                      {
                        "percentage": 0.99,
                        "value": 10
                      },
                      {
                        "percentage": 1,
                        "value": 10
                      }
                    ],
                    "histograms": [
                      {
                        "minBin": 0,
                        "count": 413.00000000000006
                      },
                      {
                        "minBin": 1,
                        "count": 1035
                      },
                      {
                        "minBin": 2,
                        "count": 1048
                      },
                      {
                        "minBin": 3,
                        "count": 1009
                      },
                      {
                        "minBin": 4,
                        "count": 989
                      },
                      {
                        "minBin": 5,
                        "count": 1012
                      },
                      {
                        "minBin": 6,
                        "count": 966.9999999999999
                      },
                      {
                        "minBin": 7,
                        "count": 1028
                      },
                      {
                        "minBin": 8,
                        "count": 1025
                      },
                      {
                        "minBin": 9,
                        "count": 984
                      },
                      {
                        "minBin": 10,
                        "count": 490
                      }
                    ]
                  }
                },
                {
                  "column": "HasCrCard",
                  "profile": {
                    "column": "HasCrCard",
                    "dataType": "integer",
                    "completeness": 1,
                    "count": 10000,
                    "advanceProperty": {
                      "numNan": 0,
                      "numZero": 2945
                    },
                    "min": 0,
                    "max": 1,
                    "mean": 0.7054999999999998,
                    "stddev": 0.45581767188208056,
                    "distinctCount": 2,
                    "quantiles": [
                      {
                        "percentage": 0,
                        "value": 0
                      },
                      {
                        "percentage": 0.01,
                        "value": 0
                      },
                      {
                        "percentage": 0.02,
                        "value": 0
                      },
                      {
                        "percentage": 0.03,
                        "value": 0
                      },
                      {
                        "percentage": 0.04,
                        "value": 0
                      },
                      {
                        "percentage": 0.05,
                        "value": 0
                      },
                      {
                        "percentage": 0.06,
                        "value": 0
                      },
                      {
                        "percentage": 0.07,
                        "value": 0
                      },
                      {
                        "percentage": 0.08,
                        "value": 0
                      },
                      {
                        "percentage": 0.09,
                        "value": 0
                      },
                      {
                        "percentage": 0.1,
                        "value": 0
                      },
                      {
                        "percentage": 0.11,
                        "value": 0
                      },
                      {
                        "percentage": 0.12,
                        "value": 0
                      },
                      {
                        "percentage": 0.13,
                        "value": 0
                      },
                      {
                        "percentage": 0.14,
                        "value": 0
                      },
                      {
                        "percentage": 0.15,
                        "value": 0
                      },
                      {
                        "percentage": 0.16,
                        "value": 0
                      },
                      {
                        "percentage": 0.17,
                        "value": 0
                      },
                      {
                        "percentage": 0.18,
                        "value": 0
                      },
                      {
                        "percentage": 0.19,
                        "value": 0
                      },
                      {
                        "percentage": 0.2,
                        "value": 0
                      },
                      {
                        "percentage": 0.21,
                        "value": 0
                      },
                      {
                        "percentage": 0.22,
                        "value": 0
                      },
                      {
                        "percentage": 0.23,
                        "value": 0
                      },
                      {
                        "percentage": 0.24,
                        "value": 0
                      },
                      {
                        "percentage": 0.25,
                        "value": 0
                      },
                      {
                        "percentage": 0.26,
                        "value": 0
                      },
                      {
                        "percentage": 0.27,
                        "value": 0
                      },
                      {
                        "percentage": 0.28,
                        "value": 0
                      },
                      {
                        "percentage": 0.29,
                        "value": 0
                      },
                      {
                        "percentage": 0.3,
                        "value": 1
                      },
                      {
                        "percentage": 0.31,
                        "value": 1
                      },
                      {
                        "percentage": 0.32,
                        "value": 1
                      },
                      {
                        "percentage": 0.33,
                        "value": 1
                      },
                      {
                        "percentage": 0.34,
                        "value": 1
                      },
                      {
                        "percentage": 0.35,
                        "value": 1
                      },
                      {
                        "percentage": 0.36,
                        "value": 1
                      },
                      {
                        "percentage": 0.37,
                        "value": 1
                      },
                      {
                        "percentage": 0.38,
                        "value": 1
                      },
                      {
                        "percentage": 0.39,
                        "value": 1
                      },
                      {
                        "percentage": 0.4,
                        "value": 1
                      },
                      {
                        "percentage": 0.41,
                        "value": 1
                      },
                      {
                        "percentage": 0.42,
                        "value": 1
                      },
                      {
                        "percentage": 0.43,
                        "value": 1
                      },
                      {
                        "percentage": 0.44,
                        "value": 1
                      },
                      {
                        "percentage": 0.45,
                        "value": 1
                      },
                      {
                        "percentage": 0.46,
                        "value": 1
                      },
                      {
                        "percentage": 0.47,
                        "value": 1
                      },
                      {
                        "percentage": 0.48,
                        "value": 1
                      },
                      {
                        "percentage": 0.49,
                        "value": 1
                      },
                      {
                        "percentage": 0.5,
                        "value": 1
                      },
                      {
                        "percentage": 0.51,
                        "value": 1
                      },
                      {
                        "percentage": 0.52,
                        "value": 1
                      },
                      {
                        "percentage": 0.53,
                        "value": 1
                      },
                      {
                        "percentage": 0.54,
                        "value": 1
                      },
                      {
                        "percentage": 0.55,
                        "value": 1
                      },
                      {
                        "percentage": 0.56,
                        "value": 1
                      },
                      {
                        "percentage": 0.57,
                        "value": 1
                      },
                      {
                        "percentage": 0.58,
                        "value": 1
                      },
                      {
                        "percentage": 0.59,
                        "value": 1
                      },
                      {
                        "percentage": 0.6,
                        "value": 1
                      },
                      {
                        "percentage": 0.61,
                        "value": 1
                      },
                      {
                        "percentage": 0.62,
                        "value": 1
                      },
                      {
                        "percentage": 0.63,
                        "value": 1
                      },
                      {
                        "percentage": 0.64,
                        "value": 1
                      },
                      {
                        "percentage": 0.65,
                        "value": 1
                      },
                      {
                        "percentage": 0.66,
                        "value": 1
                      },
                      {
                        "percentage": 0.67,
                        "value": 1
                      },
                      {
                        "percentage": 0.68,
                        "value": 1
                      },
                      {
                        "percentage": 0.69,
                        "value": 1
                      },
                      {
                        "percentage": 0.7,
                        "value": 1
                      },
                      {
                        "percentage": 0.71,
                        "value": 1
                      },
                      {
                        "percentage": 0.72,
                        "value": 1
                      },
                      {
                        "percentage": 0.73,
                        "value": 1
                      },
                      {
                        "percentage": 0.74,
                        "value": 1
                      },
                      {
                        "percentage": 0.75,
                        "value": 1
                      },
                      {
                        "percentage": 0.76,
                        "value": 1
                      },
                      {
                        "percentage": 0.77,
                        "value": 1
                      },
                      {
                        "percentage": 0.78,
                        "value": 1
                      },
                      {
                        "percentage": 0.79,
                        "value": 1
                      },
                      {
                        "percentage": 0.8,
                        "value": 1
                      },
                      {
                        "percentage": 0.81,
                        "value": 1
                      },
                      {
                        "percentage": 0.82,
                        "value": 1
                      },
                      {
                        "percentage": 0.83,
                        "value": 1
                      },
                      {
                        "percentage": 0.84,
                        "value": 1
                      },
                      {
                        "percentage": 0.85,
                        "value": 1
                      },
                      {
                        "percentage": 0.86,
                        "value": 1
                      },
                      {
                        "percentage": 0.87,
                        "value": 1
                      },
                      {
                        "percentage": 0.88,
                        "value": 1
                      },
                      {
                        "percentage": 0.89,
                        "value": 1
                      },
                      {
                        "percentage": 0.9,
                        "value": 1
                      },
                      {
                        "percentage": 0.91,
                        "value": 1
                      },
                      {
                        "percentage": 0.92,
                        "value": 1
                      },
                      {
                        "percentage": 0.93,
                        "value": 1
                      },
                      {
                        "percentage": 0.94,
                        "value": 1
                      },
                      {
                        "percentage": 0.95,
                        "value": 1
                      },
                      {
                        "percentage": 0.96,
                        "value": 1
                      },
                      {
                        "percentage": 0.97,
                        "value": 1
                      },
                      {
                        "percentage": 0.98,
                        "value": 1
                      },
                      {
                        "percentage": 0.99,
                        "value": 1
                      },
                      {
                        "percentage": 1,
                        "value": 1
                      }
                    ],
                    "histograms": [
                      {
                        "minBin": 0,
                        "count": 2945
                      },
                      {
                        "minBin": 1,
                        "count": 7055
                      }
                    ]
                  }
                },
                {
                  "column": "EstimatedSalary",
                  "profile": {
                    "column": "EstimatedSalary",
                    "dataType": "float",
                    "completeness": 1,
                    "count": 10000,
                    "advanceProperty": {
                      "numNan": 0,
                      "numZero": 0
                    },
                    "min": 11.58,
                    "max": 199992.48,
                    "mean": 100090.23988099999,
                    "stddev": 57507.61722116555,
                    "distinctCount": 9628,
                    "quantiles": [
                      {
                        "percentage": 0,
                        "value": 11.58
                      },
                      {
                        "percentage": 0.01,
                        "value": 1843.24
                      },
                      {
                        "percentage": 0.02,
                        "value": 3769.71
                      },
                      {
                        "percentage": 0.03,
                        "value": 5811.9
                      },
                      {
                        "percentage": 0.04,
                        "value": 8065
                      },
                      {
                        "percentage": 0.05,
                        "value": 9854.72
                      },
                      {
                        "percentage": 0.06,
                        "value": 12050.77
                      },
                      {
                        "percentage": 0.07,
                        "value": 13935.53
                      },
                      {
                        "percentage": 0.08,
                        "value": 16150.34
                      },
                      {
                        "percentage": 0.09,
                        "value": 18364.19
                      },
                      {
                        "percentage": 0.1,
                        "value": 20276.87
                      },
                      {
                        "percentage": 0.11,
                        "value": 22388
                      },
                      {
                        "percentage": 0.12,
                        "value": 24748.89
                      },
                      {
                        "percentage": 0.13,
                        "value": 26578.69
                      },
                      {
                        "percentage": 0.14,
                        "value": 28257.89
                      },
                      {
                        "percentage": 0.15,
                        "value": 30662.91
                      },
                      {
                        "percentage": 0.16,
                        "value": 32626.21
                      },
                      {
                        "percentage": 0.17,
                        "value": 34670.62
                      },
                      {
                        "percentage": 0.18,
                        "value": 36540.63
                      },
                      {
                        "percentage": 0.19,
                        "value": 38652.96
                      },
                      {
                        "percentage": 0.2,
                        "value": 41052.82
                      },
                      {
                        "percentage": 0.21,
                        "value": 42862.82
                      },
                      {
                        "percentage": 0.22,
                        "value": 45038.74
                      },
                      {
                        "percentage": 0.23,
                        "value": 47139.06
                      },
                      {
                        "percentage": 0.24,
                        "value": 49025.79
                      },
                      {
                        "percentage": 0.25,
                        "value": 51011.29
                      },
                      {
                        "percentage": 0.26,
                        "value": 53067.83
                      },
                      {
                        "percentage": 0.27,
                        "value": 55003.79
                      },
                      {
                        "percentage": 0.28,
                        "value": 56794.73
                      },
                      {
                        "percentage": 0.29,
                        "value": 58781.11
                      },
                      {
                        "percentage": 0.3,
                        "value": 60739.16
                      },
                      {
                        "percentage": 0.31,
                        "value": 62688.55
                      },
                      {
                        "percentage": 0.32,
                        "value": 64593.07
                      },
                      {
                        "percentage": 0.33,
                        "value": 66393.89
                      },
                      {
                        "percentage": 0.34,
                        "value": 68462.59
                      },
                      {
                        "percentage": 0.35,
                        "value": 70665.16
                      },
                      {
                        "percentage": 0.36,
                        "value": 72852.74
                      },
                      {
                        "percentage": 0.37,
                        "value": 74771.22
                      },
                      {
                        "percentage": 0.38,
                        "value": 76679.6
                      },
                      {
                        "percentage": 0.39,
                        "value": 78622.46
                      },
                      {
                        "percentage": 0.4,
                        "value": 80241.14
                      },
                      {
                        "percentage": 0.41,
                        "value": 82336.73
                      },
                      {
                        "percentage": 0.42,
                        "value": 84175.34
                      },
                      {
                        "percentage": 0.43,
                        "value": 86022.09
                      },
                      {
                        "percentage": 0.44,
                        "value": 88279.6
                      },
                      {
                        "percentage": 0.45,
                        "value": 90059.04
                      },
                      {
                        "percentage": 0.46,
                        "value": 92067.35
                      },
                      {
                        "percentage": 0.47,
                        "value": 93777.61
                      },
                      {
                        "percentage": 0.48,
                        "value": 95623.28
                      },
                      {
                        "percentage": 0.49,
                        "value": 97932.68
                      },
                      {
                        "percentage": 0.5,
                        "value": 100200.4
                      },
                      {
                        "percentage": 0.51,
                        "value": 101986.16
                      },
                      {
                        "percentage": 0.52,
                        "value": 103706.41
                      },
                      {
                        "percentage": 0.53,
                        "value": 105443.47
                      },
                      {
                        "percentage": 0.54,
                        "value": 107667.91
                      },
                      {
                        "percentage": 0.55,
                        "value": 109496.69
                      },
                      {
                        "percentage": 0.56,
                        "value": 111590.35
                      },
                      {
                        "percentage": 0.57,
                        "value": 113695.99
                      },
                      {
                        "percentage": 0.58,
                        "value": 115733.16
                      },
                      {
                        "percentage": 0.59,
                        "value": 117572.59
                      },
                      {
                        "percentage": 0.6,
                        "value": 119712.78
                      },
                      {
                        "percentage": 0.61,
                        "value": 121542.29
                      },
                      {
                        "percentage": 0.62,
                        "value": 123622
                      },
                      {
                        "percentage": 0.63,
                        "value": 125692.07
                      },
                      {
                        "percentage": 0.64,
                        "value": 127233.39
                      },
                      {
                        "percentage": 0.65,
                        "value": 129590.18
                      },
                      {
                        "percentage": 0.66,
                        "value": 131521.72
                      },
                      {
                        "percentage": 0.67,
                        "value": 133465.57
                      },
                      {
                        "percentage": 0.68,
                        "value": 135399.21
                      },
                      {
                        "percentage": 0.69,
                        "value": 137508.31
                      },
                      {
                        "percentage": 0.7,
                        "value": 139435.12
                      },
                      {
                        "percentage": 0.71,
                        "value": 141426.78
                      },
                      {
                        "percentage": 0.72,
                        "value": 143450.61
                      },
                      {
                        "percentage": 0.73,
                        "value": 145411.39
                      },
                      {
                        "percentage": 0.74,
                        "value": 147184.74
                      },
                      {
                        "percentage": 0.75,
                        "value": 149399.7
                      },
                      {
                        "percentage": 0.76,
                        "value": 151335.24
                      },
                      {
                        "percentage": 0.77,
                        "value": 153342.38
                      },
                      {
                        "percentage": 0.78,
                        "value": 155876.06
                      },
                      {
                        "percentage": 0.79,
                        "value": 158071.69
                      },
                      {
                        "percentage": 0.8,
                        "value": 159840.51
                      },
                      {
                        "percentage": 0.81,
                        "value": 162149.07
                      },
                      {
                        "percentage": 0.82,
                        "value": 164040.94
                      },
                      {
                        "percentage": 0.83,
                        "value": 166376.54
                      },
                      {
                        "percentage": 0.84,
                        "value": 168184.62
                      },
                      {
                        "percentage": 0.85,
                        "value": 170332.67
                      },
                      {
                        "percentage": 0.86,
                        "value": 172172.7
                      },
                      {
                        "percentage": 0.87,
                        "value": 174123.16
                      },
                      {
                        "percentage": 0.88,
                        "value": 176142.09
                      },
                      {
                        "percentage": 0.89,
                        "value": 177784.68
                      },
                      {
                        "percentage": 0.9,
                        "value": 179689.05
                      },
                      {
                        "percentage": 0.91,
                        "value": 181757.19
                      },
                      {
                        "percentage": 0.92,
                        "value": 183598.77
                      },
                      {
                        "percentage": 0.93,
                        "value": 185855.21
                      },
                      {
                        "percentage": 0.94,
                        "value": 188037.76
                      },
                      {
                        "percentage": 0.95,
                        "value": 190160.04
                      },
                      {
                        "percentage": 0.96,
                        "value": 192154.66
                      },
                      {
                        "percentage": 0.97,
                        "value": 194238.92
                      },
                      {
                        "percentage": 0.98,
                        "value": 196288.46
                      },
                      {
                        "percentage": 0.99,
                        "value": 198072.16
                      },
                      {
                        "percentage": 1,
                        "value": 199992.48
                      }
                    ],
                    "histograms": [
                      {
                        "minBin": 11.58,
                        "count": 987
                      },
                      {
                        "minBin": 20009.670000000006,
                        "count": 968
                      },
                      {
                        "minBin": 40007.76000000001,
                        "count": 1006
                      },
                      {
                        "minBin": 60005.85000000001,
                        "count": 1027
                      },
                      {
                        "minBin": 80003.94000000002,
                        "count": 1002
                      },
                      {
                        "minBin": 100002.03000000001,
                        "count": 1027
                      },
                      {
                        "minBin": 120000.12000000002,
                        "count": 1007
                      },
                      {
                        "minBin": 139998.21000000002,
                        "count": 982
                      },
                      {
                        "minBin": 159996.30000000002,
                        "count": 1009
                      },
                      {
                        "minBin": 179994.39,
                        "count": 985
                      }
                    ]
                  }
                },
                {
                  "column": "NumOfProducts",
                  "profile": {
                    "column": "NumOfProducts",
                    "dataType": "integer",
                    "completeness": 1,
                    "count": 10000,
                    "advanceProperty": {
                      "numNan": 0,
                      "numZero": 0
                    },
                    "min": 1,
                    "max": 4,
                    "mean": 1.5302,
                    "stddev": 0.5816252745539864,
                    "distinctCount": 4,
                    "quantiles": [
                      {
                        "percentage": 0,
                        "value": 1
                      },
                      {
                        "percentage": 0.01,
                        "value": 1
                      },
                      {
                        "percentage": 0.02,
                        "value": 1
                      },
                      {
                        "percentage": 0.03,
                        "value": 1
                      },
                      {
                        "percentage": 0.04,
                        "value": 1
                      },
                      {
                        "percentage": 0.05,
                        "value": 1
                      },
                      {
                        "percentage": 0.06,
                        "value": 1
                      },
                      {
                        "percentage": 0.07,
                        "value": 1
                      },
                      {
                        "percentage": 0.08,
                        "value": 1
                      },
                      {
                        "percentage": 0.09,
                        "value": 1
                      },
                      {
                        "percentage": 0.1,
                        "value": 1
                      },
                      {
                        "percentage": 0.11,
                        "value": 1
                      },
                      {
                        "percentage": 0.12,
                        "value": 1
                      },
                      {
                        "percentage": 0.13,
                        "value": 1
                      },
                      {
                        "percentage": 0.14,
                        "value": 1
                      },
                      {
                        "percentage": 0.15,
                        "value": 1
                      },
                      {
                        "percentage": 0.16,
                        "value": 1
                      },
                      {
                        "percentage": 0.17,
                        "value": 1
                      },
                      {
                        "percentage": 0.18,
                        "value": 1
                      },
                      {
                        "percentage": 0.19,
                        "value": 1
                      },
                      {
                        "percentage": 0.2,
                        "value": 1
                      },
                      {
                        "percentage": 0.21,
                        "value": 1
                      },
                      {
                        "percentage": 0.22,
                        "value": 1
                      },
                      {
                        "percentage": 0.23,
                        "value": 1
                      },
                      {
                        "percentage": 0.24,
                        "value": 1
                      },
                      {
                        "percentage": 0.25,
                        "value": 1
                      },
                      {
                        "percentage": 0.26,
                        "value": 1
                      },
                      {
                        "percentage": 0.27,
                        "value": 1
                      },
                      {
                        "percentage": 0.28,
                        "value": 1
                      },
                      {
                        "percentage": 0.29,
                        "value": 1
                      },
                      {
                        "percentage": 0.3,
                        "value": 1
                      },
                      {
                        "percentage": 0.31,
                        "value": 1
                      },
                      {
                        "percentage": 0.32,
                        "value": 1
                      },
                      {
                        "percentage": 0.33,
                        "value": 1
                      },
                      {
                        "percentage": 0.34,
                        "value": 1
                      },
                      {
                        "percentage": 0.35,
                        "value": 1
                      },
                      {
                        "percentage": 0.36,
                        "value": 1
                      },
                      {
                        "percentage": 0.37,
                        "value": 1
                      },
                      {
                        "percentage": 0.38,
                        "value": 1
                      },
                      {
                        "percentage": 0.39,
                        "value": 1
                      },
                      {
                        "percentage": 0.4,
                        "value": 1
                      },
                      {
                        "percentage": 0.41,
                        "value": 1
                      },
                      {
                        "percentage": 0.42,
                        "value": 1
                      },
                      {
                        "percentage": 0.43,
                        "value": 1
                      },
                      {
                        "percentage": 0.44,
                        "value": 1
                      },
                      {
                        "percentage": 0.45,
                        "value": 1
                      },
                      {
                        "percentage": 0.46,
                        "value": 1
                      },
                      {
                        "percentage": 0.47,
                        "value": 1
                      },
                      {
                        "percentage": 0.48,
                        "value": 1
                      },
                      {
                        "percentage": 0.49,
                        "value": 1
                      },
                      {
                        "percentage": 0.5,
                        "value": 1
                      },
                      {
                        "percentage": 0.51,
                        "value": 2
                      },
                      {
                        "percentage": 0.52,
                        "value": 2
                      },
                      {
                        "percentage": 0.53,
                        "value": 2
                      },
                      {
                        "percentage": 0.54,
                        "value": 2
                      },
                      {
                        "percentage": 0.55,
                        "value": 2
                      },
                      {
                        "percentage": 0.56,
                        "value": 2
                      },
                      {
                        "percentage": 0.57,
                        "value": 2
                      },
                      {
                        "percentage": 0.58,
                        "value": 2
                      },
                      {
                        "percentage": 0.59,
                        "value": 2
                      },
                      {
                        "percentage": 0.6,
                        "value": 2
                      },
                      {
                        "percentage": 0.61,
                        "value": 2
                      },
                      {
                        "percentage": 0.62,
                        "value": 2
                      },
                      {
                        "percentage": 0.63,
                        "value": 2
                      },
                      {
                        "percentage": 0.64,
                        "value": 2
                      },
                      {
                        "percentage": 0.65,
                        "value": 2
                      },
                      {
                        "percentage": 0.66,
                        "value": 2
                      },
                      {
                        "percentage": 0.67,
                        "value": 2
                      },
                      {
                        "percentage": 0.68,
                        "value": 2
                      },
                      {
                        "percentage": 0.69,
                        "value": 2
                      },
                      {
                        "percentage": 0.7,
                        "value": 2
                      },
                      {
                        "percentage": 0.71,
                        "value": 2
                      },
                      {
                        "percentage": 0.72,
                        "value": 2
                      },
                      {
                        "percentage": 0.73,
                        "value": 2
                      },
                      {
                        "percentage": 0.74,
                        "value": 2
                      },
                      {
                        "percentage": 0.75,
                        "value": 2
                      },
                      {
                        "percentage": 0.76,
                        "value": 2
                      },
                      {
                        "percentage": 0.77,
                        "value": 2
                      },
                      {
                        "percentage": 0.78,
                        "value": 2
                      },
                      {
                        "percentage": 0.79,
                        "value": 2
                      },
                      {
                        "percentage": 0.8,
                        "value": 2
                      },
                      {
                        "percentage": 0.81,
                        "value": 2
                      },
                      {
                        "percentage": 0.82,
                        "value": 2
                      },
                      {
                        "percentage": 0.83,
                        "value": 2
                      },
                      {
                        "percentage": 0.84,
                        "value": 2
                      },
                      {
                        "percentage": 0.85,
                        "value": 2
                      },
                      {
                        "percentage": 0.86,
                        "value": 2
                      },
                      {
                        "percentage": 0.87,
                        "value": 2
                      },
                      {
                        "percentage": 0.88,
                        "value": 2
                      },
                      {
                        "percentage": 0.89,
                        "value": 2
                      },
                      {
                        "percentage": 0.9,
                        "value": 2
                      },
                      {
                        "percentage": 0.91,
                        "value": 2
                      },
                      {
                        "percentage": 0.92,
                        "value": 2
                      },
                      {
                        "percentage": 0.93,
                        "value": 2
                      },
                      {
                        "percentage": 0.94,
                        "value": 2
                      },
                      {
                        "percentage": 0.95,
                        "value": 2
                      },
                      {
                        "percentage": 0.96,
                        "value": 2
                      },
                      {
                        "percentage": 0.97,
                        "value": 3
                      },
                      {
                        "percentage": 0.98,
                        "value": 3
                      },
                      {
                        "percentage": 0.99,
                        "value": 3
                      },
                      {
                        "percentage": 1,
                        "value": 4
                      }
                    ],
                    "histograms": [
                      {
                        "minBin": 1,
                        "count": 5084
                      },
                      {
                        "minBin": 2,
                        "count": 4590
                      },
                      {
                        "minBin": 3,
                        "count": 266
                      },
                      {
                        "minBin": 4,
                        "count": 60
                      }
                    ]
                  }
                },
                {
                  "column": "Age",
                  "profile": {
                    "column": "Age",
                    "dataType": "integer",
                    "completeness": 1,
                    "count": 10000,
                    "advanceProperty": {
                      "numNan": 0,
                      "numZero": 0
                    },
                    "min": 18,
                    "max": 92,
                    "mean": 38.9218,
                    "stddev": 10.487282048271611,
                    "distinctCount": 70,
                    "quantiles": [
                      {
                        "percentage": 0,
                        "value": 18
                      },
                      {
                        "percentage": 0.01,
                        "value": 21
                      },
                      {
                        "percentage": 0.02,
                        "value": 22
                      },
                      {
                        "percentage": 0.03,
                        "value": 23
                      },
                      {
                        "percentage": 0.04,
                        "value": 24
                      },
                      {
                        "percentage": 0.05,
                        "value": 25
                      },
                      {
                        "percentage": 0.06,
                        "value": 25
                      },
                      {
                        "percentage": 0.07,
                        "value": 26
                      },
                      {
                        "percentage": 0.08,
                        "value": 26
                      },
                      {
                        "percentage": 0.09,
                        "value": 27
                      },
                      {
                        "percentage": 0.1,
                        "value": 27
                      },
                      {
                        "percentage": 0.11,
                        "value": 28
                      },
                      {
                        "percentage": 0.12,
                        "value": 28
                      },
                      {
                        "percentage": 0.13,
                        "value": 29
                      },
                      {
                        "percentage": 0.14,
                        "value": 29
                      },
                      {
                        "percentage": 0.15,
                        "value": 29
                      },
                      {
                        "percentage": 0.16,
                        "value": 29
                      },
                      {
                        "percentage": 0.17,
                        "value": 30
                      },
                      {
                        "percentage": 0.18,
                        "value": 30
                      },
                      {
                        "percentage": 0.19,
                        "value": 30
                      },
                      {
                        "percentage": 0.2,
                        "value": 31
                      },
                      {
                        "percentage": 0.21,
                        "value": 31
                      },
                      {
                        "percentage": 0.22,
                        "value": 31
                      },
                      {
                        "percentage": 0.23,
                        "value": 31
                      },
                      {
                        "percentage": 0.24,
                        "value": 32
                      },
                      {
                        "percentage": 0.25,
                        "value": 32
                      },
                      {
                        "percentage": 0.26,
                        "value": 32
                      },
                      {
                        "percentage": 0.27,
                        "value": 32
                      },
                      {
                        "percentage": 0.28,
                        "value": 33
                      },
                      {
                        "percentage": 0.29,
                        "value": 33
                      },
                      {
                        "percentage": 0.3,
                        "value": 33
                      },
                      {
                        "percentage": 0.31,
                        "value": 33
                      },
                      {
                        "percentage": 0.32,
                        "value": 33
                      },
                      {
                        "percentage": 0.33,
                        "value": 34
                      },
                      {
                        "percentage": 0.34,
                        "value": 34
                      },
                      {
                        "percentage": 0.35,
                        "value": 34
                      },
                      {
                        "percentage": 0.36,
                        "value": 34
                      },
                      {
                        "percentage": 0.37,
                        "value": 35
                      },
                      {
                        "percentage": 0.38,
                        "value": 35
                      },
                      {
                        "percentage": 0.39,
                        "value": 35
                      },
                      {
                        "percentage": 0.4,
                        "value": 35
                      },
                      {
                        "percentage": 0.41,
                        "value": 35
                      },
                      {
                        "percentage": 0.42,
                        "value": 36
                      },
                      {
                        "percentage": 0.43,
                        "value": 36
                      },
                      {
                        "percentage": 0.44,
                        "value": 36
                      },
                      {
                        "percentage": 0.45,
                        "value": 36
                      },
                      {
                        "percentage": 0.46,
                        "value": 36
                      },
                      {
                        "percentage": 0.47,
                        "value": 37
                      },
                      {
                        "percentage": 0.48,
                        "value": 37
                      },
                      {
                        "percentage": 0.49,
                        "value": 37
                      },
                      {
                        "percentage": 0.5,
                        "value": 37
                      },
                      {
                        "percentage": 0.51,
                        "value": 38
                      },
                      {
                        "percentage": 0.52,
                        "value": 38
                      },
                      {
                        "percentage": 0.53,
                        "value": 38
                      },
                      {
                        "percentage": 0.54,
                        "value": 38
                      },
                      {
                        "percentage": 0.55,
                        "value": 38
                      },
                      {
                        "percentage": 0.56,
                        "value": 39
                      },
                      {
                        "percentage": 0.57,
                        "value": 39
                      },
                      {
                        "percentage": 0.58,
                        "value": 39
                      },
                      {
                        "percentage": 0.59,
                        "value": 39
                      },
                      {
                        "percentage": 0.6,
                        "value": 40
                      },
                      {
                        "percentage": 0.61,
                        "value": 40
                      },
                      {
                        "percentage": 0.62,
                        "value": 40
                      },
                      {
                        "percentage": 0.63,
                        "value": 40
                      },
                      {
                        "percentage": 0.64,
                        "value": 40
                      },
                      {
                        "percentage": 0.65,
                        "value": 41
                      },
                      {
                        "percentage": 0.66,
                        "value": 41
                      },
                      {
                        "percentage": 0.67,
                        "value": 41
                      },
                      {
                        "percentage": 0.68,
                        "value": 42
                      },
                      {
                        "percentage": 0.69,
                        "value": 42
                      },
                      {
                        "percentage": 0.7,
                        "value": 42
                      },
                      {
                        "percentage": 0.71,
                        "value": 42
                      },
                      {
                        "percentage": 0.72,
                        "value": 43
                      },
                      {
                        "percentage": 0.73,
                        "value": 43
                      },
                      {
                        "percentage": 0.74,
                        "value": 43
                      },
                      {
                        "percentage": 0.75,
                        "value": 44
                      },
                      {
                        "percentage": 0.76,
                        "value": 44
                      },
                      {
                        "percentage": 0.77,
                        "value": 45
                      },
                      {
                        "percentage": 0.78,
                        "value": 45
                      },
                      {
                        "percentage": 0.79,
                        "value": 46
                      },
                      {
                        "percentage": 0.8,
                        "value": 46
                      },
                      {
                        "percentage": 0.81,
                        "value": 46
                      },
                      {
                        "percentage": 0.82,
                        "value": 47
                      },
                      {
                        "percentage": 0.83,
                        "value": 48
                      },
                      {
                        "percentage": 0.84,
                        "value": 48
                      },
                      {
                        "percentage": 0.85,
                        "value": 49
                      },
                      {
                        "percentage": 0.86,
                        "value": 49
                      },
                      {
                        "percentage": 0.87,
                        "value": 50
                      },
                      {
                        "percentage": 0.88,
                        "value": 51
                      },
                      {
                        "percentage": 0.89,
                        "value": 52
                      },
                      {
                        "percentage": 0.9,
                        "value": 53
                      },
                      {
                        "percentage": 0.91,
                        "value": 54
                      },
                      {
                        "percentage": 0.92,
                        "value": 56
                      },
                      {
                        "percentage": 0.93,
                        "value": 57
                      },
                      {
                        "percentage": 0.94,
                        "value": 58
                      },
                      {
                        "percentage": 0.95,
                        "value": 60
                      },
                      {
                        "percentage": 0.96,
                        "value": 62
                      },
                      {
                        "percentage": 0.97,
                        "value": 64
                      },
                      {
                        "percentage": 0.98,
                        "value": 67
                      },
                      {
                        "percentage": 0.99,
                        "value": 72
                      },
                      {
                        "percentage": 1,
                        "value": 92
                      }
                    ],
                    "histograms": [
                      {
                        "minBin": 18,
                        "count": 457
                      },
                      {
                        "minBin": 25,
                        "count": 1915
                      },
                      {
                        "minBin": 32,
                        "count": 3192
                      },
                      {
                        "minBin": 39,
                        "count": 2325
                      },
                      {
                        "minBin": 46,
                        "count": 1071
                      },
                      {
                        "minBin": 53,
                        "count": 514
                      },
                      {
                        "minBin": 60,
                        "count": 297
                      },
                      {
                        "minBin": 67,
                        "count": 157
                      },
                      {
                        "minBin": 74,
                        "count": 60
                      },
                      {
                        "minBin": 81,
                        "count": 11.999999999999998
                      }
                    ]
                  }
                },
                {
                  "column": "CreditScore",
                  "profile": {
                    "column": "CreditScore",
                    "dataType": "integer",
                    "completeness": 1,
                    "count": 10000,
                    "advanceProperty": {
                      "numNan": 0,
                      "numZero": 0
                    },
                    "min": 350,
                    "max": 850,
                    "mean": 650.5287999999999,
                    "stddev": 96.64846595037089,
                    "distinctCount": 455,
                    "quantiles": [
                      {
                        "percentage": 0,
                        "value": 350
                      },
                      {
                        "percentage": 0.01,
                        "value": 432
                      },
                      {
                        "percentage": 0.02,
                        "value": 452
                      },
                      {
                        "percentage": 0.03,
                        "value": 468
                      },
                      {
                        "percentage": 0.04,
                        "value": 479
                      },
                      {
                        "percentage": 0.05,
                        "value": 489
                      },
                      {
                        "percentage": 0.06,
                        "value": 498
                      },
                      {
                        "percentage": 0.07,
                        "value": 504
                      },
                      {
                        "percentage": 0.08,
                        "value": 511
                      },
                      {
                        "percentage": 0.09,
                        "value": 516
                      },
                      {
                        "percentage": 0.1,
                        "value": 521
                      },
                      {
                        "percentage": 0.11,
                        "value": 527
                      },
                      {
                        "percentage": 0.12,
                        "value": 531
                      },
                      {
                        "percentage": 0.13,
                        "value": 537
                      },
                      {
                        "percentage": 0.14,
                        "value": 541
                      },
                      {
                        "percentage": 0.15,
                        "value": 545
                      },
                      {
                        "percentage": 0.16,
                        "value": 550
                      },
                      {
                        "percentage": 0.17,
                        "value": 554
                      },
                      {
                        "percentage": 0.18,
                        "value": 557
                      },
                      {
                        "percentage": 0.19,
                        "value": 561
                      },
                      {
                        "percentage": 0.2,
                        "value": 566
                      },
                      {
                        "percentage": 0.21,
                        "value": 570
                      },
                      {
                        "percentage": 0.22,
                        "value": 574
                      },
                      {
                        "percentage": 0.23,
                        "value": 577
                      },
                      {
                        "percentage": 0.24,
                        "value": 581
                      },
                      {
                        "percentage": 0.25,
                        "value": 584
                      },
                      {
                        "percentage": 0.26,
                        "value": 587
                      },
                      {
                        "percentage": 0.27,
                        "value": 590
                      },
                      {
                        "percentage": 0.28,
                        "value": 593
                      },
                      {
                        "percentage": 0.29,
                        "value": 596
                      },
                      {
                        "percentage": 0.3,
                        "value": 599
                      },
                      {
                        "percentage": 0.31,
                        "value": 601
                      },
                      {
                        "percentage": 0.32,
                        "value": 604
                      },
                      {
                        "percentage": 0.33,
                        "value": 607
                      },
                      {
                        "percentage": 0.34,
                        "value": 610
                      },
                      {
                        "percentage": 0.35,
                        "value": 613
                      },
                      {
                        "percentage": 0.36,
                        "value": 615
                      },
                      {
                        "percentage": 0.37,
                        "value": 619
                      },
                      {
                        "percentage": 0.38,
                        "value": 621
                      },
                      {
                        "percentage": 0.39,
                        "value": 624
                      },
                      {
                        "percentage": 0.4,
                        "value": 627
                      },
                      {
                        "percentage": 0.41,
                        "value": 629
                      },
                      {
                        "percentage": 0.42,
                        "value": 632
                      },
                      {
                        "percentage": 0.43,
                        "value": 634
                      },
                      {
                        "percentage": 0.44,
                        "value": 637
                      },
                      {
                        "percentage": 0.45,
                        "value": 639
                      },
                      {
                        "percentage": 0.46,
                        "value": 642
                      },
                      {
                        "percentage": 0.47,
                        "value": 645
                      },
                      {
                        "percentage": 0.48,
                        "value": 647
                      },
                      {
                        "percentage": 0.49,
                        "value": 650
                      },
                      {
                        "percentage": 0.5,
                        "value": 652
                      },
                      {
                        "percentage": 0.51,
                        "value": 654
                      },
                      {
                        "percentage": 0.52,
                        "value": 657
                      },
                      {
                        "percentage": 0.53,
                        "value": 660
                      },
                      {
                        "percentage": 0.54,
                        "value": 662
                      },
                      {
                        "percentage": 0.55,
                        "value": 665
                      },
                      {
                        "percentage": 0.56,
                        "value": 667
                      },
                      {
                        "percentage": 0.57,
                        "value": 670
                      },
                      {
                        "percentage": 0.58,
                        "value": 672
                      },
                      {
                        "percentage": 0.59,
                        "value": 675
                      },
                      {
                        "percentage": 0.6,
                        "value": 678
                      },
                      {
                        "percentage": 0.61,
                        "value": 680
                      },
                      {
                        "percentage": 0.62,
                        "value": 682
                      },
                      {
                        "percentage": 0.63,
                        "value": 684
                      },
                      {
                        "percentage": 0.64,
                        "value": 687
                      },
                      {
                        "percentage": 0.65,
                        "value": 690
                      },
                      {
                        "percentage": 0.66,
                        "value": 693
                      },
                      {
                        "percentage": 0.67,
                        "value": 696
                      },
                      {
                        "percentage": 0.68,
                        "value": 698
                      },
                      {
                        "percentage": 0.69,
                        "value": 701
                      },
                      {
                        "percentage": 0.7,
                        "value": 704
                      },
                      {
                        "percentage": 0.71,
                        "value": 706
                      },
                      {
                        "percentage": 0.72,
                        "value": 709
                      },
                      {
                        "percentage": 0.73,
                        "value": 712
                      },
                      {
                        "percentage": 0.74,
                        "value": 714
                      },
                      {
                        "percentage": 0.75,
                        "value": 718
                      },
                      {
                        "percentage": 0.76,
                        "value": 721
                      },
                      {
                        "percentage": 0.77,
                        "value": 724
                      },
                      {
                        "percentage": 0.78,
                        "value": 728
                      },
                      {
                        "percentage": 0.79,
                        "value": 731
                      },
                      {
                        "percentage": 0.8,
                        "value": 735
                      },
                      {
                        "percentage": 0.81,
                        "value": 739
                      },
                      {
                        "percentage": 0.82,
                        "value": 743
                      },
                      {
                        "percentage": 0.83,
                        "value": 747
                      },
                      {
                        "percentage": 0.84,
                        "value": 750
                      },
                      {
                        "percentage": 0.85,
                        "value": 754
                      },
                      {
                        "percentage": 0.86,
                        "value": 758
                      },
                      {
                        "percentage": 0.87,
                        "value": 763
                      },
                      {
                        "percentage": 0.88,
                        "value": 768
                      },
                      {
                        "percentage": 0.89,
                        "value": 773
                      },
                      {
                        "percentage": 0.9,
                        "value": 778
                      },
                      {
                        "percentage": 0.91,
                        "value": 784
                      },
                      {
                        "percentage": 0.92,
                        "value": 790
                      },
                      {
                        "percentage": 0.93,
                        "value": 796
                      },
                      {
                        "percentage": 0.94,
                        "value": 805
                      },
                      {
                        "percentage": 0.95,
                        "value": 812
                      },
                      {
                        "percentage": 0.96,
                        "value": 825
                      },
                      {
                        "percentage": 0.97,
                        "value": 838
                      },
                      {
                        "percentage": 0.98,
                        "value": 850
                      },
                      {
                        "percentage": 0.99,
                        "value": 850
                      },
                      {
                        "percentage": 1,
                        "value": 850
                      }
                    ],
                    "histograms": [
                      {
                        "minBin": 350,
                        "count": 19
                      },
                      {
                        "minBin": 400,
                        "count": 166
                      },
                      {
                        "minBin": 450,
                        "count": 446.99999999999994
                      },
                      {
                        "minBin": 500,
                        "count": 958
                      },
                      {
                        "minBin": 550,
                        "count": 1444
                      },
                      {
                        "minBin": 600,
                        "count": 1865.9999999999998
                      },
                      {
                        "minBin": 650,
                        "count": 1952.0000000000002
                      },
                      {
                        "minBin": 700,
                        "count": 1525
                      },
                      {
                        "minBin": 750,
                        "count": 968
                      },
                      {
                        "minBin": 800,
                        "count": 655
                      }
                    ]
                  }
                },
                {
                  "column": "Geography",
                  "profile": {
                    "column": "Geography",
                    "dataType": "string",
                    "completeness": 1,
                    "count": 10000,
                    "advanceProperty": {
                      "typeInferUnknown": 0,
                      "typeInferBoolean": 0,
                      "typeInferDatetime": 0,
                      "typeInferString": 1,
                      "typeInferIntegral": 0,
                      "typeInferFractional": 0
                    },
                    "distinctCount": 3,
                    "topK": [
                      {
                        "value": "France",
                        "count": 5014
                      },
                      {
                        "value": "Germany",
                        "count": 2509
                      },
                      {
                        "value": "Spain",
                        "count": 2477
                      }
                    ]
                  }
                },
                {
                  "column": "IsActiveMember",
                  "profile": {
                    "column": "IsActiveMember",
                    "dataType": "integer",
                    "completeness": 1,
                    "count": 10000,
                    "advanceProperty": {
                      "numNan": 0,
                      "numZero": 4849
                    },
                    "min": 0,
                    "max": 1,
                    "mean": 0.5151000000000004,
                    "stddev": 0.49977193798771863,
                    "distinctCount": 2,
                    "quantiles": [
                      {
                        "percentage": 0,
                        "value": 0
                      },
                      {
                        "percentage": 0.01,
                        "value": 0
                      },
                      {
                        "percentage": 0.02,
                        "value": 0
                      },
                      {
                        "percentage": 0.03,
                        "value": 0
                      },
                      {
                        "percentage": 0.04,
                        "value": 0
                      },
                      {
                        "percentage": 0.05,
                        "value": 0
                      },
                      {
                        "percentage": 0.06,
                        "value": 0
                      },
                      {
                        "percentage": 0.07,
                        "value": 0
                      },
                      {
                        "percentage": 0.08,
                        "value": 0
                      },
                      {
                        "percentage": 0.09,
                        "value": 0
                      },
                      {
                        "percentage": 0.1,
                        "value": 0
                      },
                      {
                        "percentage": 0.11,
                        "value": 0
                      },
                      {
                        "percentage": 0.12,
                        "value": 0
                      },
                      {
                        "percentage": 0.13,
                        "value": 0
                      },
                      {
                        "percentage": 0.14,
                        "value": 0
                      },
                      {
                        "percentage": 0.15,
                        "value": 0
                      },
                      {
                        "percentage": 0.16,
                        "value": 0
                      },
                      {
                        "percentage": 0.17,
                        "value": 0
                      },
                      {
                        "percentage": 0.18,
                        "value": 0
                      },
                      {
                        "percentage": 0.19,
                        "value": 0
                      },
                      {
                        "percentage": 0.2,
                        "value": 0
                      },
                      {
                        "percentage": 0.21,
                        "value": 0
                      },
                      {
                        "percentage": 0.22,
                        "value": 0
                      },
                      {
                        "percentage": 0.23,
                        "value": 0
                      },
                      {
                        "percentage": 0.24,
                        "value": 0
                      },
                      {
                        "percentage": 0.25,
                        "value": 0
                      },
                      {
                        "percentage": 0.26,
                        "value": 0
                      },
                      {
                        "percentage": 0.27,
                        "value": 0
                      },
                      {
                        "percentage": 0.28,
                        "value": 0
                      },
                      {
                        "percentage": 0.29,
                        "value": 0
                      },
                      {
                        "percentage": 0.3,
                        "value": 0
                      },
                      {
                        "percentage": 0.31,
                        "value": 0
                      },
                      {
                        "percentage": 0.32,
                        "value": 0
                      },
                      {
                        "percentage": 0.33,
                        "value": 0
                      },
                      {
                        "percentage": 0.34,
                        "value": 0
                      },
                      {
                        "percentage": 0.35,
                        "value": 0
                      },
                      {
                        "percentage": 0.36,
                        "value": 0
                      },
                      {
                        "percentage": 0.37,
                        "value": 0
                      },
                      {
                        "percentage": 0.38,
                        "value": 0
                      },
                      {
                        "percentage": 0.39,
                        "value": 0
                      },
                      {
                        "percentage": 0.4,
                        "value": 0
                      },
                      {
                        "percentage": 0.41,
                        "value": 0
                      },
                      {
                        "percentage": 0.42,
                        "value": 0
                      },
                      {
                        "percentage": 0.43,
                        "value": 0
                      },
                      {
                        "percentage": 0.44,
                        "value": 0
                      },
                      {
                        "percentage": 0.45,
                        "value": 0
                      },
                      {
                        "percentage": 0.46,
                        "value": 0
                      },
                      {
                        "percentage": 0.47,
                        "value": 0
                      },
                      {
                        "percentage": 0.48,
                        "value": 0
                      },
                      {
                        "percentage": 0.49,
                        "value": 1
                      },
                      {
                        "percentage": 0.5,
                        "value": 1
                      },
                      {
                        "percentage": 0.51,
                        "value": 1
                      },
                      {
                        "percentage": 0.52,
                        "value": 1
                      },
                      {
                        "percentage": 0.53,
                        "value": 1
                      },
                      {
                        "percentage": 0.54,
                        "value": 1
                      },
                      {
                        "percentage": 0.55,
                        "value": 1
                      },
                      {
                        "percentage": 0.56,
                        "value": 1
                      },
                      {
                        "percentage": 0.57,
                        "value": 1
                      },
                      {
                        "percentage": 0.58,
                        "value": 1
                      },
                      {
                        "percentage": 0.59,
                        "value": 1
                      },
                      {
                        "percentage": 0.6,
                        "value": 1
                      },
                      {
                        "percentage": 0.61,
                        "value": 1
                      },
                      {
                        "percentage": 0.62,
                        "value": 1
                      },
                      {
                        "percentage": 0.63,
                        "value": 1
                      },
                      {
                        "percentage": 0.64,
                        "value": 1
                      },
                      {
                        "percentage": 0.65,
                        "value": 1
                      },
                      {
                        "percentage": 0.66,
                        "value": 1
                      },
                      {
                        "percentage": 0.67,
                        "value": 1
                      },
                      {
                        "percentage": 0.68,
                        "value": 1
                      },
                      {
                        "percentage": 0.69,
                        "value": 1
                      },
                      {
                        "percentage": 0.7,
                        "value": 1
                      },
                      {
                        "percentage": 0.71,
                        "value": 1
                      },
                      {
                        "percentage": 0.72,
                        "value": 1
                      },
                      {
                        "percentage": 0.73,
                        "value": 1
                      },
                      {
                        "percentage": 0.74,
                        "value": 1
                      },
                      {
                        "percentage": 0.75,
                        "value": 1
                      },
                      {
                        "percentage": 0.76,
                        "value": 1
                      },
                      {
                        "percentage": 0.77,
                        "value": 1
                      },
                      {
                        "percentage": 0.78,
                        "value": 1
                      },
                      {
                        "percentage": 0.79,
                        "value": 1
                      },
                      {
                        "percentage": 0.8,
                        "value": 1
                      },
                      {
                        "percentage": 0.81,
                        "value": 1
                      },
                      {
                        "percentage": 0.82,
                        "value": 1
                      },
                      {
                        "percentage": 0.83,
                        "value": 1
                      },
                      {
                        "percentage": 0.84,
                        "value": 1
                      },
                      {
                        "percentage": 0.85,
                        "value": 1
                      },
                      {
                        "percentage": 0.86,
                        "value": 1
                      },
                      {
                        "percentage": 0.87,
                        "value": 1
                      },
                      {
                        "percentage": 0.88,
                        "value": 1
                      },
                      {
                        "percentage": 0.89,
                        "value": 1
                      },
                      {
                        "percentage": 0.9,
                        "value": 1
                      },
                      {
                        "percentage": 0.91,
                        "value": 1
                      },
                      {
                        "percentage": 0.92,
                        "value": 1
                      },
                      {
                        "percentage": 0.93,
                        "value": 1
                      },
                      {
                        "percentage": 0.94,
                        "value": 1
                      },
                      {
                        "percentage": 0.95,
                        "value": 1
                      },
                      {
                        "percentage": 0.96,
                        "value": 1
                      },
                      {
                        "percentage": 0.97,
                        "value": 1
                      },
                      {
                        "percentage": 0.98,
                        "value": 1
                      },
                      {
                        "percentage": 0.99,
                        "value": 1
                      },
                      {
                        "percentage": 1,
                        "value": 1
                      }
                    ],
                    "histograms": [
                      {
                        "minBin": 0,
                        "count": 4849
                      },
                      {
                        "minBin": 1,
                        "count": 5151
                      }
                    ]
                  }
                },
                {
                  "column": "Surname",
                  "profile": {
                    "column": "Surname",
                    "dataType": "string",
                    "completeness": 1,
                    "count": 10000,
                    "advanceProperty": {
                      "typeInferUnknown": 0,
                      "typeInferBoolean": 0,
                      "typeInferDatetime": 0,
                      "typeInferString": 1,
                      "typeInferIntegral": 0,
                      "typeInferFractional": 0
                    },
                    "distinctCount": 2792,
                    "topK": [
                      {
                        "value": "H?",
                        "count": 19
                      },
                      {
                        "value": "Maclean",
                        "count": 24
                      },
                      {
                        "value": "McGregor",
                        "count": 21
                      },
                      {
                        "value": "Wan",
                        "count": 17
                      },
                      {
                        "value": "Gibson",
                        "count": 17
                      },
                      {
                        "value": "Crawford",
                        "count": 19
                      },
                      {
                        "value": "Hsia",
                        "count": 18
                      },
                      {
                        "value": "Boyle",
                        "count": 17
                      },
                      {
                        "value": "Kerr",
                        "count": 20
                      },
                      {
                        "value": "McIntyre",
                        "count": 17
                      },
                      {
                        "value": "Tien",
                        "count": 18
                      },
                      {
                        "value": "Hill",
                        "count": 17
                      },
                      {
                        "value": "Wu",
                        "count": 16
                      },
                      {
                        "value": "Trevisani",
                        "count": 20
                      },
                      {
                        "value": "King",
                        "count": 18
                      },
                      {
                        "value": "Kennedy",
                        "count": 20
                      },
                      {
                        "value": "Palerma",
                        "count": 20
                      },
                      {
                        "value": "Ch'ang",
                        "count": 17
                      },
                      {
                        "value": "Johnston",
                        "count": 17
                      },
                      {
                        "value": "P'eng",
                        "count": 17
                      },
                      {
                        "value": "Hsing",
                        "count": 17
                      },
                      {
                        "value": "Tuan",
                        "count": 19
                      },
                      {
                        "value": "Clark",
                        "count": 16
                      },
                      {
                        "value": "Walker",
                        "count": 28
                      },
                      {
                        "value": "Jamieson",
                        "count": 20
                      },
                      {
                        "value": "Ts'ui",
                        "count": 19
                      },
                      {
                        "value": "Lu",
                        "count": 22
                      },
                      {
                        "value": "Fang",
                        "count": 20
                      },
                      {
                        "value": "Smith",
                        "count": 32
                      },
                      {
                        "value": "Kao",
                        "count": 20
                      },
                      {
                        "value": "Wilson",
                        "count": 23
                      },
                      {
                        "value": "Ch'iu",
                        "count": 16
                      },
                      {
                        "value": "Wei",
                        "count": 19
                      },
                      {
                        "value": "White",
                        "count": 23
                      },
                      {
                        "value": "Mitchell",
                        "count": 20
                      },
                      {
                        "value": "Johnson",
                        "count": 22
                      },
                      {
                        "value": "Manfrin",
                        "count": 17
                      },
                      {
                        "value": "McDonald",
                        "count": 19
                      },
                      {
                        "value": "Brown",
                        "count": 26
                      },
                      {
                        "value": "Gordon",
                        "count": 19
                      },
                      {
                        "value": "Bergamaschi",
                        "count": 19
                      },
                      {
                        "value": "Manna",
                        "count": 17
                      },
                      {
                        "value": "Chiu",
                        "count": 17
                      },
                      {
                        "value": "Genovese",
                        "count": 25
                      },
                      {
                        "value": "Sun",
                        "count": 21
                      },
                      {
                        "value": "Young",
                        "count": 20
                      },
                      {
                        "value": "Greco",
                        "count": 17
                      },
                      {
                        "value": "Pan",
                        "count": 19
                      },
                      {
                        "value": "Wright",
                        "count": 24
                      },
                      {
                        "value": "Pisano",
                        "count": 16
                      },
                      {
                        "value": "Burns",
                        "count": 18
                      },
                      {
                        "value": "Endrizzi",
                        "count": 17
                      },
                      {
                        "value": "Duncan",
                        "count": 19
                      },
                      {
                        "value": "Hsieh",
                        "count": 16
                      },
                      {
                        "value": "Yeh",
                        "count": 25
                      },
                      {
                        "value": "Yao",
                        "count": 16
                      },
                      {
                        "value": "Ku",
                        "count": 16
                      },
                      {
                        "value": "Tu",
                        "count": 18
                      },
                      {
                        "value": "Johnstone",
                        "count": 16
                      },
                      {
                        "value": "Tang",
                        "count": 17
                      },
                      {
                        "value": "Henderson",
                        "count": 16
                      },
                      {
                        "value": "Shih",
                        "count": 25
                      },
                      {
                        "value": "Chu",
                        "count": 22
                      },
                      {
                        "value": "Davidson",
                        "count": 17
                      },
                      {
                        "value": "Anderson",
                        "count": 19
                      },
                      {
                        "value": "Scott",
                        "count": 29
                      },
                      {
                        "value": "Wallace",
                        "count": 19
                      },
                      {
                        "value": "Fanucci",
                        "count": 23
                      },
                      {
                        "value": "He",
                        "count": 18
                      },
                      {
                        "value": "Grant",
                        "count": 17
                      },
                      {
                        "value": "Shen",
                        "count": 20
                      },
                      {
                        "value": "Mao",
                        "count": 18
                      },
                      {
                        "value": "Graham",
                        "count": 20
                      },
                      {
                        "value": "McKay",
                        "count": 19
                      },
                      {
                        "value": "Thompson",
                        "count": 21
                      },
                      {
                        "value": "Miller",
                        "count": 20
                      },
                      {
                        "value": "Lung",
                        "count": 19
                      },
                      {
                        "value": "T'ien",
                        "count": 18
                      },
                      {
                        "value": "Ross",
                        "count": 18
                      },
                      {
                        "value": "McKenzie",
                        "count": 16
                      },
                      {
                        "value": "Hughes",
                        "count": 20
                      },
                      {
                        "value": "Watson",
                        "count": 20
                      },
                      {
                        "value": "Findlay",
                        "count": 17
                      },
                      {
                        "value": "Cameron",
                        "count": 19
                      },
                      {
                        "value": "Shaw",
                        "count": 17
                      },
                      {
                        "value": "Chung",
                        "count": 17
                      },
                      {
                        "value": "Lin",
                        "count": 18
                      },
                      {
                        "value": "Mai",
                        "count": 21
                      },
                      {
                        "value": "Feng",
                        "count": 17
                      },
                      {
                        "value": "Moore",
                        "count": 22
                      },
                      {
                        "value": "Martin",
                        "count": 29
                      },
                      {
                        "value": "Cocci",
                        "count": 17
                      },
                      {
                        "value": "Sung",
                        "count": 18
                      },
                      {
                        "value": "Wang",
                        "count": 22
                      },
                      {
                        "value": "Lo",
                        "count": 20
                      },
                      {
                        "value": "Fleming",
                        "count": 18
                      },
                      {
                        "value": "Tsao",
                        "count": 17
                      },
                      {
                        "value": "Pai",
                        "count": 19
                      },
                      {
                        "value": "Ma",
                        "count": 23
                      },
                      {
                        "value": "Ko",
                        "count": 19
                      }
                    ]
                  }
                },
                {
                  "column": "RowNumber",
                  "profile": {
                    "column": "RowNumber",
                    "dataType": "integer",
                    "completeness": 1,
                    "count": 10000,
                    "advanceProperty": {
                      "numNan": 0,
                      "numZero": 0
                    },
                    "min": 1,
                    "max": 10000,
                    "mean": 5000.5,
                    "stddev": 2886.751331514372,
                    "distinctCount": 9823,
                    "quantiles": [
                      {
                        "percentage": 0,
                        "value": 1
                      },
                      {
                        "percentage": 0.01,
                        "value": 101
                      },
                      {
                        "percentage": 0.02,
                        "value": 201
                      },
                      {
                        "percentage": 0.03,
                        "value": 301
                      },
                      {
                        "percentage": 0.04,
                        "value": 401
                      },
                      {
                        "percentage": 0.05,
                        "value": 501
                      },
                      {
                        "percentage": 0.06,
                        "value": 601
                      },
                      {
                        "percentage": 0.07,
                        "value": 701
                      },
                      {
                        "percentage": 0.08,
                        "value": 801
                      },
                      {
                        "percentage": 0.09,
                        "value": 901
                      },
                      {
                        "percentage": 0.1,
                        "value": 1001
                      },
                      {
                        "percentage": 0.11,
                        "value": 1101
                      },
                      {
                        "percentage": 0.12,
                        "value": 1201
                      },
                      {
                        "percentage": 0.13,
                        "value": 1301
                      },
                      {
                        "percentage": 0.14,
                        "value": 1401
                      },
                      {
                        "percentage": 0.15,
                        "value": 1501
                      },
                      {
                        "percentage": 0.16,
                        "value": 1601
                      },
                      {
                        "percentage": 0.17,
                        "value": 1701
                      },
                      {
                        "percentage": 0.18,
                        "value": 1801
                      },
                      {
                        "percentage": 0.19,
                        "value": 1901
                      },
                      {
                        "percentage": 0.2,
                        "value": 2001
                      },
                      {
                        "percentage": 0.21,
                        "value": 2101
                      },
                      {
                        "percentage": 0.22,
                        "value": 2201
                      },
                      {
                        "percentage": 0.23,
                        "value": 2301
                      },
                      {
                        "percentage": 0.24,
                        "value": 2401
                      },
                      {
                        "percentage": 0.25,
                        "value": 2501
                      },
                      {
                        "percentage": 0.26,
                        "value": 2601
                      },
                      {
                        "percentage": 0.27,
                        "value": 2701
                      },
                      {
                        "percentage": 0.28,
                        "value": 2801
                      },
                      {
                        "percentage": 0.29,
                        "value": 2901
                      },
                      {
                        "percentage": 0.3,
                        "value": 3001
                      },
                      {
                        "percentage": 0.31,
                        "value": 3101
                      },
                      {
                        "percentage": 0.32,
                        "value": 3201
                      },
                      {
                        "percentage": 0.33,
                        "value": 3301
                      },
                      {
                        "percentage": 0.34,
                        "value": 3401
                      },
                      {
                        "percentage": 0.35,
                        "value": 3501
                      },
                      {
                        "percentage": 0.36,
                        "value": 3601
                      },
                      {
                        "percentage": 0.37,
                        "value": 3701
                      },
                      {
                        "percentage": 0.38,
                        "value": 3801
                      },
                      {
                        "percentage": 0.39,
                        "value": 3901
                      },
                      {
                        "percentage": 0.4,
                        "value": 4001
                      },
                      {
                        "percentage": 0.41,
                        "value": 4101
                      },
                      {
                        "percentage": 0.42,
                        "value": 4201
                      },
                      {
                        "percentage": 0.43,
                        "value": 4301
                      },
                      {
                        "percentage": 0.44,
                        "value": 4401
                      },
                      {
                        "percentage": 0.45,
                        "value": 4501
                      },
                      {
                        "percentage": 0.46,
                        "value": 4601
                      },
                      {
                        "percentage": 0.47,
                        "value": 4701
                      },
                      {
                        "percentage": 0.48,
                        "value": 4801
                      },
                      {
                        "percentage": 0.49,
                        "value": 4901
                      },
                      {
                        "percentage": 0.5,
                        "value": 5001
                      },
                      {
                        "percentage": 0.51,
                        "value": 5101
                      },
                      {
                        "percentage": 0.52,
                        "value": 5201
                      },
                      {
                        "percentage": 0.53,
                        "value": 5301
                      },
                      {
                        "percentage": 0.54,
                        "value": 5401
                      },
                      {
                        "percentage": 0.55,
                        "value": 5501
                      },
                      {
                        "percentage": 0.56,
                        "value": 5601
                      },
                      {
                        "percentage": 0.57,
                        "value": 5700
                      },
                      {
                        "percentage": 0.58,
                        "value": 5801
                      },
                      {
                        "percentage": 0.59,
                        "value": 5901
                      },
                      {
                        "percentage": 0.6,
                        "value": 6001
                      },
                      {
                        "percentage": 0.61,
                        "value": 6101
                      },
                      {
                        "percentage": 0.62,
                        "value": 6201
                      },
                      {
                        "percentage": 0.63,
                        "value": 6301
                      },
                      {
                        "percentage": 0.64,
                        "value": 6401
                      },
                      {
                        "percentage": 0.65,
                        "value": 6501
                      },
                      {
                        "percentage": 0.66,
                        "value": 6601
                      },
                      {
                        "percentage": 0.67,
                        "value": 6701
                      },
                      {
                        "percentage": 0.68,
                        "value": 6801
                      },
                      {
                        "percentage": 0.69,
                        "value": 6900
                      },
                      {
                        "percentage": 0.7,
                        "value": 7001
                      },
                      {
                        "percentage": 0.71,
                        "value": 7101
                      },
                      {
                        "percentage": 0.72,
                        "value": 7201
                      },
                      {
                        "percentage": 0.73,
                        "value": 7301
                      },
                      {
                        "percentage": 0.74,
                        "value": 7401
                      },
                      {
                        "percentage": 0.75,
                        "value": 7501
                      },
                      {
                        "percentage": 0.76,
                        "value": 7601
                      },
                      {
                        "percentage": 0.77,
                        "value": 7701
                      },
                      {
                        "percentage": 0.78,
                        "value": 7801
                      },
                      {
                        "percentage": 0.79,
                        "value": 7901
                      },
                      {
                        "percentage": 0.8,
                        "value": 8001
                      },
                      {
                        "percentage": 0.81,
                        "value": 8101
                      },
                      {
                        "percentage": 0.82,
                        "value": 8201
                      },
                      {
                        "percentage": 0.83,
                        "value": 8301
                      },
                      {
                        "percentage": 0.84,
                        "value": 8401
                      },
                      {
                        "percentage": 0.85,
                        "value": 8501
                      },
                      {
                        "percentage": 0.86,
                        "value": 8601
                      },
                      {
                        "percentage": 0.87,
                        "value": 8701
                      },
                      {
                        "percentage": 0.88,
                        "value": 8801
                      },
                      {
                        "percentage": 0.89,
                        "value": 8901
                      },
                      {
                        "percentage": 0.9,
                        "value": 9001
                      },
                      {
                        "percentage": 0.91,
                        "value": 9101
                      },
                      {
                        "percentage": 0.92,
                        "value": 9201
                      },
                      {
                        "percentage": 0.93,
                        "value": 9301
                      },
                      {
                        "percentage": 0.94,
                        "value": 9401
                      },
                      {
                        "percentage": 0.95,
                        "value": 9501
                      },
                      {
                        "percentage": 0.96,
                        "value": 9601
                      },
                      {
                        "percentage": 0.97,
                        "value": 9701
                      },
                      {
                        "percentage": 0.98,
                        "value": 9801
                      },
                      {
                        "percentage": 0.99,
                        "value": 9901
                      },
                      {
                        "percentage": 1,
                        "value": 10000
                      }
                    ],
                    "histograms": [
                      {
                        "minBin": 1,
                        "count": 999
                      },
                      {
                        "minBin": 1000,
                        "count": 999
                      },
                      {
                        "minBin": 1999,
                        "count": 999
                      },
                      {
                        "minBin": 2998,
                        "count": 999
                      },
                      {
                        "minBin": 3997,
                        "count": 999
                      },
                      {
                        "minBin": 4996,
                        "count": 999
                      },
                      {
                        "minBin": 5995,
                        "count": 999
                      },
                      {
                        "minBin": 6994,
                        "count": 999
                      },
                      {
                        "minBin": 7993,
                        "count": 999
                      },
                      {
                        "minBin": 8992,
                        "count": 1009
                      }
                    ]
                  }
                },
                {
                  "column": "Gender",
                  "profile": {
                    "column": "Gender",
                    "dataType": "string",
                    "completeness": 1,
                    "count": 10000,
                    "advanceProperty": {
                      "typeInferUnknown": 0,
                      "typeInferBoolean": 0,
                      "typeInferDatetime": 0,
                      "typeInferString": 1,
                      "typeInferIntegral": 0,
                      "typeInferFractional": 0
                    },
                    "distinctCount": 2,
                    "topK": [
                      {
                        "value": "Male",
                        "count": 5457
                      },
                      {
                        "value": "Female",
                        "count": 4543
                      }
                    ]
                  }
                },
                {
                  "column": "Exited",
                  "profile": {
                    "column": "Exited",
                    "dataType": "integer",
                    "completeness": 1,
                    "count": 10000,
                    "advanceProperty": {
                      "numNan": 0,
                      "numZero": 7963
                    },
                    "min": 0,
                    "max": 1,
                    "mean": 0.2037,
                    "stddev": 0.40274844506217533,
                    "distinctCount": 2,
                    "quantiles": [
                      {
                        "percentage": 0,
                        "value": 0
                      },
                      {
                        "percentage": 0.01,
                        "value": 0
                      },
                      {
                        "percentage": 0.02,
                        "value": 0
                      },
                      {
                        "percentage": 0.03,
                        "value": 0
                      },
                      {
                        "percentage": 0.04,
                        "value": 0
                      },
                      {
                        "percentage": 0.05,
                        "value": 0
                      },
                      {
                        "percentage": 0.06,
                        "value": 0
                      },
                      {
                        "percentage": 0.07,
                        "value": 0
                      },
                      {
                        "percentage": 0.08,
                        "value": 0
                      },
                      {
                        "percentage": 0.09,
                        "value": 0
                      },
                      {
                        "percentage": 0.1,
                        "value": 0
                      },
                      {
                        "percentage": 0.11,
                        "value": 0
                      },
                      {
                        "percentage": 0.12,
                        "value": 0
                      },
                      {
                        "percentage": 0.13,
                        "value": 0
                      },
                      {
                        "percentage": 0.14,
                        "value": 0
                      },
                      {
                        "percentage": 0.15,
                        "value": 0
                      },
                      {
                        "percentage": 0.16,
                        "value": 0
                      },
                      {
                        "percentage": 0.17,
                        "value": 0
                      },
                      {
                        "percentage": 0.18,
                        "value": 0
                      },
                      {
                        "percentage": 0.19,
                        "value": 0
                      },
                      {
                        "percentage": 0.2,
                        "value": 0
                      },
                      {
                        "percentage": 0.21,
                        "value": 0
                      },
                      {
                        "percentage": 0.22,
                        "value": 0
                      },
                      {
                        "percentage": 0.23,
                        "value": 0
                      },
                      {
                        "percentage": 0.24,
                        "value": 0
                      },
                      {
                        "percentage": 0.25,
                        "value": 0
                      },
                      {
                        "percentage": 0.26,
                        "value": 0
                      },
                      {
                        "percentage": 0.27,
                        "value": 0
                      },
                      {
                        "percentage": 0.28,
                        "value": 0
                      },
                      {
                        "percentage": 0.29,
                        "value": 0
                      },
                      {
                        "percentage": 0.3,
                        "value": 0
                      },
                      {
                        "percentage": 0.31,
                        "value": 0
                      },
                      {
                        "percentage": 0.32,
                        "value": 0
                      },
                      {
                        "percentage": 0.33,
                        "value": 0
                      },
                      {
                        "percentage": 0.34,
                        "value": 0
                      },
                      {
                        "percentage": 0.35,
                        "value": 0
                      },
                      {
                        "percentage": 0.36,
                        "value": 0
                      },
                      {
                        "percentage": 0.37,
                        "value": 0
                      },
                      {
                        "percentage": 0.38,
                        "value": 0
                      },
                      {
                        "percentage": 0.39,
                        "value": 0
                      },
                      {
                        "percentage": 0.4,
                        "value": 0
                      },
                      {
                        "percentage": 0.41,
                        "value": 0
                      },
                      {
                        "percentage": 0.42,
                        "value": 0
                      },
                      {
                        "percentage": 0.43,
                        "value": 0
                      },
                      {
                        "percentage": 0.44,
                        "value": 0
                      },
                      {
                        "percentage": 0.45,
                        "value": 0
                      },
                      {
                        "percentage": 0.46,
                        "value": 0
                      },
                      {
                        "percentage": 0.47,
                        "value": 0
                      },
                      {
                        "percentage": 0.48,
                        "value": 0
                      },
                      {
                        "percentage": 0.49,
                        "value": 0
                      },
                      {
                        "percentage": 0.5,
                        "value": 0
                      },
                      {
                        "percentage": 0.51,
                        "value": 0
                      },
                      {
                        "percentage": 0.52,
                        "value": 0
                      },
                      {
                        "percentage": 0.53,
                        "value": 0
                      },
                      {
                        "percentage": 0.54,
                        "value": 0
                      },
                      {
                        "percentage": 0.55,
                        "value": 0
                      },
                      {
                        "percentage": 0.56,
                        "value": 0
                      },
                      {
                        "percentage": 0.57,
                        "value": 0
                      },
                      {
                        "percentage": 0.58,
                        "value": 0
                      },
                      {
                        "percentage": 0.59,
                        "value": 0
                      },
                      {
                        "percentage": 0.6,
                        "value": 0
                      },
                      {
                        "percentage": 0.61,
                        "value": 0
                      },
                      {
                        "percentage": 0.62,
                        "value": 0
                      },
                      {
                        "percentage": 0.63,
                        "value": 0
                      },
                      {
                        "percentage": 0.64,
                        "value": 0
                      },
                      {
                        "percentage": 0.65,
                        "value": 0
                      },
                      {
                        "percentage": 0.66,
                        "value": 0
                      },
                      {
                        "percentage": 0.67,
                        "value": 0
                      },
                      {
                        "percentage": 0.68,
                        "value": 0
                      },
                      {
                        "percentage": 0.69,
                        "value": 0
                      },
                      {
                        "percentage": 0.7,
                        "value": 0
                      },
                      {
                        "percentage": 0.71,
                        "value": 0
                      },
                      {
                        "percentage": 0.72,
                        "value": 0
                      },
                      {
                        "percentage": 0.73,
                        "value": 0
                      },
                      {
                        "percentage": 0.74,
                        "value": 0
                      },
                      {
                        "percentage": 0.75,
                        "value": 0
                      },
                      {
                        "percentage": 0.76,
                        "value": 0
                      },
                      {
                        "percentage": 0.77,
                        "value": 0
                      },
                      {
                        "percentage": 0.78,
                        "value": 0
                      },
                      {
                        "percentage": 0.79,
                        "value": 0
                      },
                      {
                        "percentage": 0.8,
                        "value": 1
                      },
                      {
                        "percentage": 0.81,
                        "value": 1
                      },
                      {
                        "percentage": 0.82,
                        "value": 1
                      },
                      {
                        "percentage": 0.83,
                        "value": 1
                      },
                      {
                        "percentage": 0.84,
                        "value": 1
                      },
                      {
                        "percentage": 0.85,
                        "value": 1
                      },
                      {
                        "percentage": 0.86,
                        "value": 1
                      },
                      {
                        "percentage": 0.87,
                        "value": 1
                      },
                      {
                        "percentage": 0.88,
                        "value": 1
                      },
                      {
                        "percentage": 0.89,
                        "value": 1
                      },
                      {
                        "percentage": 0.9,
                        "value": 1
                      },
                      {
                        "percentage": 0.91,
                        "value": 1
                      },
                      {
                        "percentage": 0.92,
                        "value": 1
                      },
                      {
                        "percentage": 0.93,
                        "value": 1
                      },
                      {
                        "percentage": 0.94,
                        "value": 1
                      },
                      {
                        "percentage": 0.95,
                        "value": 1
                      },
                      {
                        "percentage": 0.96,
                        "value": 1
                      },
                      {
                        "percentage": 0.97,
                        "value": 1
                      },
                      {
                        "percentage": 0.98,
                        "value": 1
                      },
                      {
                        "percentage": 0.99,
                        "value": 1
                      },
                      {
                        "percentage": 1,
                        "value": 1
                      }
                    ],
                    "histograms": [
                      {
                        "minBin": 0,
                        "count": 7963
                      },
                      {
                        "minBin": 1,
                        "count": 2037
                      }
                    ]
                  }
                }
              ],
              "insights": [
                {
                  "name": "Outliers in Column 'Age'.",
                  "description": "We detect few outliers in column 'Age' by IQR method, for example: '92.0', 'Q1 - 1.5 * IQR': '-4.0', 'Q3 + 1.5 * IQR': '80.0'. They are probably harmless, however, they might point to bugs in data collection and processing.",
                  "entity": "Column",
                  "level": "Info",
                  "helpLink": "",
                  "instances": [
                    "Age"
                  ],
                  "data": {
                    "outlierExample": "92.0",
                    "Q1 - 1.5 * IQR": "-4.0",
                    "Q3 + 1.5 * IQR": "80.0"
                  },
                  "suggestedOperations": {}
                },
                {
                  "name": "High Zero Rate In Column 'Balance'.",
                  "description": "There are too many zero in column 'Balance' (zero rate: 36.17%). They are probably harmless, however, they might point to bugs in data collection and processing.",
                  "entity": "Column",
                  "level": "Warn",
                  "helpLink": "",
                  "instances": [
                    "Balance"
                  ],
                  "data": {
                    "ZeroRate": "36.17%"
                  },
                  "suggestedOperations": {}
                },
                {
                  "name": "High Zero Rate In Column 'HasCrCard'.",
                  "description": "There are too many zero in column 'HasCrCard' (zero rate: 29.45%). They are probably harmless, however, they might point to bugs in data collection and processing.",
                  "entity": "Column",
                  "level": "Warn",
                  "helpLink": "",
                  "instances": [
                    "HasCrCard"
                  ],
                  "data": {
                    "ZeroRate": "29.45%"
                  },
                  "suggestedOperations": {}
                },
                {
                  "name": "High Zero Rate In Column 'IsActiveMember'.",
                  "description": "There are too many zero in column 'IsActiveMember' (zero rate: 48.49%). They are probably harmless, however, they might point to bugs in data collection and processing.",
                  "entity": "Column",
                  "level": "Warn",
                  "helpLink": "",
                  "instances": [
                    "IsActiveMember"
                  ],
                  "data": {
                    "ZeroRate": "48.49%"
                  },
                  "suggestedOperations": {}
                },
                {
                  "name": "High Zero Rate In Column 'Exited'.",
                  "description": "There are too many zero in column 'Exited' (zero rate: 79.63%). They are probably harmless, however, they might point to bugs in data collection and processing.",
                  "entity": "Column",
                  "level": "Warn",
                  "helpLink": "",
                  "instances": [
                    "Exited"
                  ],
                  "data": {
                    "ZeroRate": "79.63%"
                  },
                  "suggestedOperations": {}
                }
              ],
              "dataFrameAdvanceMetrics": {}
            }
          },
          "persist_state": {
            "view": {
              "type": "profile",
              "chartType": "column"
            }
          }
        }
      }
    },
    "save_output": true,
    "spark_compute": {
      "compute_id": "/trident/default",
      "session_options": {
        "conf": {},
        "enableDebugMode": false
      }
    },
    "dependencies": {
      "lakehouse": {
        "default_lakehouse": "e7dce745-0f7b-4423-95c6-ef4e4b8a3f85",
        "default_lakehouse_name": "test",
        "default_lakehouse_workspace_id": "b31af911-01cd-4709-8f8b-5fec499e2222"
      }
    },
    "colab": {
      "provenance": [],
      "toc_visible": true
    }
  },
  "nbformat": 4,
  "nbformat_minor": 5
}